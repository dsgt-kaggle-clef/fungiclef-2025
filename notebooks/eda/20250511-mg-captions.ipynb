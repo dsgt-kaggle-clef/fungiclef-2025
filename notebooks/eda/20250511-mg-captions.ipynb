{
 "cells": [
  {
   "cell_type": "markdown",
   "id": "72ea4d2c",
   "metadata": {},
   "source": [
    "# Captions data\n",
    "Notebook to create a captions dataframe that will be used by ModernBERT to embed text."
   ]
  },
  {
   "cell_type": "code",
   "execution_count": 1,
   "id": "44eb24e9",
   "metadata": {},
   "outputs": [],
   "source": [
    "%load_ext autoreload\n",
    "%autoreload 2"
   ]
  },
  {
   "cell_type": "code",
   "execution_count": 2,
   "id": "6eb9ffdf",
   "metadata": {},
   "outputs": [
    {
     "data": {
      "text/plain": [
       "'cuda'"
      ]
     },
     "execution_count": 2,
     "metadata": {},
     "output_type": "execute_result"
    }
   ],
   "source": [
    "from fungiclef.config import get_device\n",
    "\n",
    "device = get_device()\n",
    "device"
   ]
  },
  {
   "cell_type": "code",
   "execution_count": 3,
   "id": "1247fe10",
   "metadata": {},
   "outputs": [
    {
     "name": "stdout",
     "output_type": "stream",
     "text": [
      "Sun May 11 20:14:56 EDT 2025\n"
     ]
    }
   ],
   "source": [
    "import os\n",
    "from pathlib import Path\n",
    "\n",
    "# get list of stored filed in cloud bucket\n",
    "root = Path(os.path.expanduser(\"~\"))\n",
    "! date"
   ]
  },
  {
   "cell_type": "code",
   "execution_count": 4,
   "id": "ecbd1ac8",
   "metadata": {},
   "outputs": [
    {
     "data": {
      "text/html": [
       "<div>\n",
       "<style scoped>\n",
       "    .dataframe tbody tr th:only-of-type {\n",
       "        vertical-align: middle;\n",
       "    }\n",
       "\n",
       "    .dataframe tbody tr th {\n",
       "        vertical-align: top;\n",
       "    }\n",
       "\n",
       "    .dataframe thead th {\n",
       "        text-align: right;\n",
       "    }\n",
       "</style>\n",
       "<table border=\"1\" class=\"dataframe\">\n",
       "  <thead>\n",
       "    <tr style=\"text-align: right;\">\n",
       "      <th></th>\n",
       "      <th>eventDate</th>\n",
       "      <th>year</th>\n",
       "      <th>month</th>\n",
       "      <th>day</th>\n",
       "      <th>habitat</th>\n",
       "      <th>countryCode</th>\n",
       "      <th>scientificName</th>\n",
       "      <th>kingdom</th>\n",
       "      <th>phylum</th>\n",
       "      <th>class</th>\n",
       "      <th>...</th>\n",
       "      <th>region</th>\n",
       "      <th>district</th>\n",
       "      <th>filename</th>\n",
       "      <th>category_id</th>\n",
       "      <th>metaSubstrate</th>\n",
       "      <th>poisonous</th>\n",
       "      <th>elevation</th>\n",
       "      <th>landcover</th>\n",
       "      <th>biogeographicalRegion</th>\n",
       "      <th>data</th>\n",
       "    </tr>\n",
       "  </thead>\n",
       "  <tbody>\n",
       "    <tr>\n",
       "      <th>0</th>\n",
       "      <td>2021-01-24</td>\n",
       "      <td>2021</td>\n",
       "      <td>1.0</td>\n",
       "      <td>24.0</td>\n",
       "      <td>Mixed woodland (with coniferous and deciduous ...</td>\n",
       "      <td>DK</td>\n",
       "      <td>Xylohypha ferruginosa (Corda) S.Hughes</td>\n",
       "      <td>Fungi</td>\n",
       "      <td>Ascomycota</td>\n",
       "      <td>Eurotiomycetes</td>\n",
       "      <td>...</td>\n",
       "      <td>Sjælland</td>\n",
       "      <td>Næstved</td>\n",
       "      <td>0-3052832307.JPG</td>\n",
       "      <td>2421</td>\n",
       "      <td>wood</td>\n",
       "      <td>0</td>\n",
       "      <td>0.0</td>\n",
       "      <td>16.0</td>\n",
       "      <td>continental</td>\n",
       "      <td>b'\\xff\\xd8\\xff\\xe0\\x00\\x10JFIF\\x00\\x01\\x01\\x00...</td>\n",
       "    </tr>\n",
       "    <tr>\n",
       "      <th>1</th>\n",
       "      <td>2021-02-27</td>\n",
       "      <td>2021</td>\n",
       "      <td>2.0</td>\n",
       "      <td>27.0</td>\n",
       "      <td>garden</td>\n",
       "      <td>DK</td>\n",
       "      <td>Comatricha alta Preuss, 1851</td>\n",
       "      <td>Protozoa</td>\n",
       "      <td>Mycetozoa</td>\n",
       "      <td>Myxomycetes</td>\n",
       "      <td>...</td>\n",
       "      <td>Hovedstaden</td>\n",
       "      <td>Gribskov</td>\n",
       "      <td>0-3061954303.JPG</td>\n",
       "      <td>386</td>\n",
       "      <td>wood</td>\n",
       "      <td>0</td>\n",
       "      <td>0.0</td>\n",
       "      <td>17.0</td>\n",
       "      <td>continental</td>\n",
       "      <td>b'\\xff\\xd8\\xff\\xe0\\x00\\x10JFIF\\x00\\x01\\x01\\x00...</td>\n",
       "    </tr>\n",
       "    <tr>\n",
       "      <th>2</th>\n",
       "      <td>2021-02-27</td>\n",
       "      <td>2021</td>\n",
       "      <td>2.0</td>\n",
       "      <td>27.0</td>\n",
       "      <td>garden</td>\n",
       "      <td>DK</td>\n",
       "      <td>Comatricha alta Preuss, 1851</td>\n",
       "      <td>Protozoa</td>\n",
       "      <td>Mycetozoa</td>\n",
       "      <td>Myxomycetes</td>\n",
       "      <td>...</td>\n",
       "      <td>Hovedstaden</td>\n",
       "      <td>Gribskov</td>\n",
       "      <td>1-3061954303.JPG</td>\n",
       "      <td>386</td>\n",
       "      <td>wood</td>\n",
       "      <td>0</td>\n",
       "      <td>0.0</td>\n",
       "      <td>17.0</td>\n",
       "      <td>continental</td>\n",
       "      <td>b'\\xff\\xd8\\xff\\xe0\\x00\\x10JFIF\\x00\\x01\\x01\\x00...</td>\n",
       "    </tr>\n",
       "    <tr>\n",
       "      <th>3</th>\n",
       "      <td>2021-02-27</td>\n",
       "      <td>2021</td>\n",
       "      <td>2.0</td>\n",
       "      <td>27.0</td>\n",
       "      <td>garden</td>\n",
       "      <td>DK</td>\n",
       "      <td>Comatricha alta Preuss, 1851</td>\n",
       "      <td>Protozoa</td>\n",
       "      <td>Mycetozoa</td>\n",
       "      <td>Myxomycetes</td>\n",
       "      <td>...</td>\n",
       "      <td>Hovedstaden</td>\n",
       "      <td>Gribskov</td>\n",
       "      <td>2-3061954303.JPG</td>\n",
       "      <td>386</td>\n",
       "      <td>wood</td>\n",
       "      <td>0</td>\n",
       "      <td>0.0</td>\n",
       "      <td>17.0</td>\n",
       "      <td>continental</td>\n",
       "      <td>b'\\xff\\xd8\\xff\\xe0\\x00\\x10JFIF\\x00\\x01\\x01\\x00...</td>\n",
       "    </tr>\n",
       "    <tr>\n",
       "      <th>4</th>\n",
       "      <td>2021-02-27</td>\n",
       "      <td>2021</td>\n",
       "      <td>2.0</td>\n",
       "      <td>27.0</td>\n",
       "      <td>garden</td>\n",
       "      <td>DK</td>\n",
       "      <td>Comatricha alta Preuss, 1851</td>\n",
       "      <td>Protozoa</td>\n",
       "      <td>Mycetozoa</td>\n",
       "      <td>Myxomycetes</td>\n",
       "      <td>...</td>\n",
       "      <td>Hovedstaden</td>\n",
       "      <td>Gribskov</td>\n",
       "      <td>3-3061954303.JPG</td>\n",
       "      <td>386</td>\n",
       "      <td>wood</td>\n",
       "      <td>0</td>\n",
       "      <td>0.0</td>\n",
       "      <td>17.0</td>\n",
       "      <td>continental</td>\n",
       "      <td>b'\\xff\\xd8\\xff\\xe0\\x00\\x10JFIF\\x00\\x01\\x01\\x00...</td>\n",
       "    </tr>\n",
       "  </tbody>\n",
       "</table>\n",
       "<p>5 rows × 32 columns</p>\n",
       "</div>"
      ],
      "text/plain": [
       "    eventDate  year  month   day  \\\n",
       "0  2021-01-24  2021    1.0  24.0   \n",
       "1  2021-02-27  2021    2.0  27.0   \n",
       "2  2021-02-27  2021    2.0  27.0   \n",
       "3  2021-02-27  2021    2.0  27.0   \n",
       "4  2021-02-27  2021    2.0  27.0   \n",
       "\n",
       "                                             habitat countryCode  \\\n",
       "0  Mixed woodland (with coniferous and deciduous ...          DK   \n",
       "1                                             garden          DK   \n",
       "2                                             garden          DK   \n",
       "3                                             garden          DK   \n",
       "4                                             garden          DK   \n",
       "\n",
       "                           scientificName   kingdom      phylum  \\\n",
       "0  Xylohypha ferruginosa (Corda) S.Hughes     Fungi  Ascomycota   \n",
       "1            Comatricha alta Preuss, 1851  Protozoa   Mycetozoa   \n",
       "2            Comatricha alta Preuss, 1851  Protozoa   Mycetozoa   \n",
       "3            Comatricha alta Preuss, 1851  Protozoa   Mycetozoa   \n",
       "4            Comatricha alta Preuss, 1851  Protozoa   Mycetozoa   \n",
       "\n",
       "            class  ...       region  district          filename category_id  \\\n",
       "0  Eurotiomycetes  ...     Sjælland   Næstved  0-3052832307.JPG        2421   \n",
       "1     Myxomycetes  ...  Hovedstaden  Gribskov  0-3061954303.JPG         386   \n",
       "2     Myxomycetes  ...  Hovedstaden  Gribskov  1-3061954303.JPG         386   \n",
       "3     Myxomycetes  ...  Hovedstaden  Gribskov  2-3061954303.JPG         386   \n",
       "4     Myxomycetes  ...  Hovedstaden  Gribskov  3-3061954303.JPG         386   \n",
       "\n",
       "   metaSubstrate poisonous elevation landcover  biogeographicalRegion  \\\n",
       "0           wood         0       0.0      16.0            continental   \n",
       "1           wood         0       0.0      17.0            continental   \n",
       "2           wood         0       0.0      17.0            continental   \n",
       "3           wood         0       0.0      17.0            continental   \n",
       "4           wood         0       0.0      17.0            continental   \n",
       "\n",
       "                                                data  \n",
       "0  b'\\xff\\xd8\\xff\\xe0\\x00\\x10JFIF\\x00\\x01\\x01\\x00...  \n",
       "1  b'\\xff\\xd8\\xff\\xe0\\x00\\x10JFIF\\x00\\x01\\x01\\x00...  \n",
       "2  b'\\xff\\xd8\\xff\\xe0\\x00\\x10JFIF\\x00\\x01\\x01\\x00...  \n",
       "3  b'\\xff\\xd8\\xff\\xe0\\x00\\x10JFIF\\x00\\x01\\x01\\x00...  \n",
       "4  b'\\xff\\xd8\\xff\\xe0\\x00\\x10JFIF\\x00\\x01\\x01\\x00...  \n",
       "\n",
       "[5 rows x 32 columns]"
      ]
     },
     "execution_count": 4,
     "metadata": {},
     "output_type": "execute_result"
    }
   ],
   "source": [
    "import pandas as pd\n",
    "\n",
    "\n",
    "data_path = f\"{root}/p-dsgt_clef2025-0/shared/fungiclef/data\"\n",
    "train_path = f\"{data_path}/dataset/processed/train_serialized.parquet\"\n",
    "val_path = f\"{data_path}/dataset/processed/val_serialized.parquet\"\n",
    "test_path = f\"{data_path}/dataset/processed/test_serialized.parquet\"\n",
    "train_df = pd.read_parquet(train_path)\n",
    "val_df = pd.read_parquet(val_path)\n",
    "test_df = pd.read_parquet(test_path)\n",
    "train_df.head()"
   ]
  },
  {
   "cell_type": "code",
   "execution_count": 5,
   "id": "9390b74d",
   "metadata": {},
   "outputs": [
    {
     "data": {
      "text/plain": [
       "(Index(['eventDate', 'year', 'month', 'day', 'habitat', 'countryCode',\n",
       "        'scientificName', 'kingdom', 'phylum', 'class', 'order', 'family',\n",
       "        'genus', 'specificEpithet', 'hasCoordinate', 'species',\n",
       "        'iucnRedListCategory', 'substrate', 'latitude', 'longitude',\n",
       "        'coorUncert', 'observationID', 'region', 'district', 'filename',\n",
       "        'category_id', 'metaSubstrate', 'poisonous', 'elevation', 'landcover',\n",
       "        'biogeographicalRegion', 'data'],\n",
       "       dtype='object'),\n",
       " 32)"
      ]
     },
     "execution_count": 5,
     "metadata": {},
     "output_type": "execute_result"
    }
   ],
   "source": [
    "train_df.columns, len(train_df.columns.to_list())"
   ]
  },
  {
   "cell_type": "code",
   "execution_count": 6,
   "id": "253cf19a",
   "metadata": {},
   "outputs": [
    {
     "data": {
      "text/plain": [
       "(Index(['eventDate', 'year', 'month', 'day', 'habitat', 'countryCode',\n",
       "        'scientificName', 'kingdom', 'phylum', 'class', 'order', 'family',\n",
       "        'genus', 'specificEpithet', 'hasCoordinate', 'species',\n",
       "        'iucnRedListCategory', 'substrate', 'latitude', 'longitude',\n",
       "        'coorUncert', 'observationID', 'region', 'district', 'filename',\n",
       "        'category_id', 'metaSubstrate', 'poisonous', 'elevation', 'landcover',\n",
       "        'biogeographicalRegion', 'data'],\n",
       "       dtype='object'),\n",
       " 32)"
      ]
     },
     "execution_count": 6,
     "metadata": {},
     "output_type": "execute_result"
    }
   ],
   "source": [
    "val_df.columns, len(val_df.columns.to_list())"
   ]
  },
  {
   "cell_type": "code",
   "execution_count": 7,
   "id": "28ae1ad4",
   "metadata": {},
   "outputs": [
    {
     "data": {
      "text/plain": [
       "(Index(['eventDate', 'year', 'month', 'day', 'habitat', 'countryCode',\n",
       "        'hasCoordinate', 'substrate', 'latitude', 'longitude', 'coorUncert',\n",
       "        'observationID', 'region', 'district', 'filename', 'metaSubstrate',\n",
       "        'elevation', 'landcover', 'biogeographicalRegion', 'data'],\n",
       "       dtype='object'),\n",
       " 20)"
      ]
     },
     "execution_count": 7,
     "metadata": {},
     "output_type": "execute_result"
    }
   ],
   "source": [
    "test_df.columns, len(test_df.columns.to_list())"
   ]
  },
  {
   "cell_type": "code",
   "execution_count": 8,
   "id": "5a54c6d5",
   "metadata": {},
   "outputs": [
    {
     "data": {
      "text/plain": [
       "substrate                dead wood (including bark)\n",
       "latitude                                  55.993269\n",
       "longitude                                 12.290225\n",
       "coorUncert                                     50.0\n",
       "observationID                            4100099350\n",
       "region                                  Hovedstaden\n",
       "district                                   Hillerød\n",
       "filename                           0-4100099350.JPG\n",
       "metaSubstrate                                  wood\n",
       "elevation                                      43.0\n",
       "landcover                                      12.0\n",
       "biogeographicalRegion                   continental\n",
       "Name: 0, dtype: object"
      ]
     },
     "execution_count": 8,
     "metadata": {},
     "output_type": "execute_result"
    }
   ],
   "source": [
    "test_df[\n",
    "    [\n",
    "        \"substrate\",\n",
    "        \"latitude\",\n",
    "        \"longitude\",\n",
    "        \"coorUncert\",\n",
    "        \"observationID\",\n",
    "        \"region\",\n",
    "        \"district\",\n",
    "        \"filename\",\n",
    "        \"metaSubstrate\",\n",
    "        \"elevation\",\n",
    "        \"landcover\",\n",
    "        \"biogeographicalRegion\",\n",
    "    ]\n",
    "].iloc[0]"
   ]
  },
  {
   "cell_type": "code",
   "execution_count": 9,
   "id": "d28c0d6e",
   "metadata": {},
   "outputs": [],
   "source": [
    "# read json captions into dataframe\n",
    "import json\n",
    "import pandas as pd\n",
    "import os\n",
    "\n",
    "\n",
    "def get_json_files(json_path):\n",
    "    return [\n",
    "        os.path.join(json_path, file)\n",
    "        for file in os.listdir(json_path)\n",
    "        if file.endswith(\".json\")\n",
    "    ]\n",
    "\n",
    "\n",
    "def read_json_file(file_path):\n",
    "    with open(file_path, \"r\") as f:\n",
    "        data = json.load(f)\n",
    "    return data\n",
    "\n",
    "\n",
    "def json_to_dataframe(json_data):\n",
    "    df = pd.DataFrame(json_data)\n",
    "    return df\n",
    "\n",
    "\n",
    "# main function to get json files into dataframe\n",
    "def get_json_df(json_path):\n",
    "    json_files = get_json_files(json_path)\n",
    "    records = []\n",
    "    for file_path in json_files:\n",
    "        filename = os.path.basename(file_path).replace(\".json\", \"\")\n",
    "        data = read_json_file(file_path)\n",
    "        caption = data  # data is a raw string\n",
    "        records.append({\"filename\": filename, \"caption\": caption})\n",
    "    return pd.DataFrame(records)\n",
    "\n",
    "\n",
    "train_json_path = f\"{data_path}/dataset/captions/train\"\n",
    "val_json_path = f\"{data_path}/dataset/captions/val\"\n",
    "test_json_path = f\"{data_path}/dataset/captions/test\"\n",
    "\n",
    "train_json_df = get_json_df(train_json_path)\n",
    "val_json_df = get_json_df(val_json_path)\n",
    "test_json_df = get_json_df(test_json_path)"
   ]
  },
  {
   "cell_type": "code",
   "execution_count": 10,
   "id": "fa4dbfa1",
   "metadata": {},
   "outputs": [
    {
     "data": {
      "text/html": [
       "<div>\n",
       "<style scoped>\n",
       "    .dataframe tbody tr th:only-of-type {\n",
       "        vertical-align: middle;\n",
       "    }\n",
       "\n",
       "    .dataframe tbody tr th {\n",
       "        vertical-align: top;\n",
       "    }\n",
       "\n",
       "    .dataframe thead th {\n",
       "        text-align: right;\n",
       "    }\n",
       "</style>\n",
       "<table border=\"1\" class=\"dataframe\">\n",
       "  <thead>\n",
       "    <tr style=\"text-align: right;\">\n",
       "      <th></th>\n",
       "      <th>filename</th>\n",
       "      <th>caption</th>\n",
       "    </tr>\n",
       "  </thead>\n",
       "  <tbody>\n",
       "    <tr>\n",
       "      <th>0</th>\n",
       "      <td>0-2237953479.JPG</td>\n",
       "      <td>The image shows a close-up view of a tree tru...</td>\n",
       "    </tr>\n",
       "    <tr>\n",
       "      <th>1</th>\n",
       "      <td>3-3414824336.JPG</td>\n",
       "      <td>The image shows a piece of wood with a promin...</td>\n",
       "    </tr>\n",
       "    <tr>\n",
       "      <th>2</th>\n",
       "      <td>5-2238512677.JPG</td>\n",
       "      <td>The image shows a fascinating close-up of a f...</td>\n",
       "    </tr>\n",
       "    <tr>\n",
       "      <th>3</th>\n",
       "      <td>1-2999542304.JPG</td>\n",
       "      <td>The image shows several small, dark-colored f...</td>\n",
       "    </tr>\n",
       "    <tr>\n",
       "      <th>4</th>\n",
       "      <td>1-2238522794.JPG</td>\n",
       "      <td>The image shows two mushrooms on a forest flo...</td>\n",
       "    </tr>\n",
       "  </tbody>\n",
       "</table>\n",
       "</div>"
      ],
      "text/plain": [
       "           filename                                            caption\n",
       "0  0-2237953479.JPG   The image shows a close-up view of a tree tru...\n",
       "1  3-3414824336.JPG   The image shows a piece of wood with a promin...\n",
       "2  5-2238512677.JPG   The image shows a fascinating close-up of a f...\n",
       "3  1-2999542304.JPG   The image shows several small, dark-colored f...\n",
       "4  1-2238522794.JPG   The image shows two mushrooms on a forest flo..."
      ]
     },
     "execution_count": 10,
     "metadata": {},
     "output_type": "execute_result"
    }
   ],
   "source": [
    "train_json_df.head()"
   ]
  },
  {
   "cell_type": "code",
   "execution_count": 11,
   "id": "0680150f",
   "metadata": {},
   "outputs": [
    {
     "name": "stdout",
     "output_type": "stream",
     "text": [
      "Captions dataframe saved to /storage/home/hcoda1/9/mgustineli3/p-dsgt_clef2025-0/shared/fungiclef/data/dataset/processed/train_captions.parquet\n",
      "Captions dataframe saved to /storage/home/hcoda1/9/mgustineli3/p-dsgt_clef2025-0/shared/fungiclef/data/dataset/processed/val_captions.parquet\n",
      "Captions dataframe saved to /storage/home/hcoda1/9/mgustineli3/p-dsgt_clef2025-0/shared/fungiclef/data/dataset/processed/test_captions.parquet\n"
     ]
    }
   ],
   "source": [
    "# write json captions to parquet\n",
    "def write_json_to_parquet(json_df, output_path):\n",
    "    json_df.to_parquet(output_path)\n",
    "    print(f\"Captions dataframe saved to {output_path}\")\n",
    "\n",
    "\n",
    "train_json_output_path = f\"{data_path}/dataset/processed/train_captions.parquet\"\n",
    "val_json_output_path = f\"{data_path}/dataset/processed/val_captions.parquet\"\n",
    "test_json_output_path = f\"{data_path}/dataset/processed/test_captions.parquet\"\n",
    "\n",
    "write_json_to_parquet(train_json_df, train_json_output_path)\n",
    "write_json_to_parquet(val_json_df, val_json_output_path)\n",
    "write_json_to_parquet(test_json_df, test_json_output_path)"
   ]
  },
  {
   "cell_type": "code",
   "execution_count": null,
   "id": "01a65920",
   "metadata": {},
   "outputs": [],
   "source": []
  }
 ],
 "metadata": {
  "kernelspec": {
   "display_name": ".venv",
   "language": "python",
   "name": "python3"
  },
  "language_info": {
   "codemirror_mode": {
    "name": "ipython",
    "version": 3
   },
   "file_extension": ".py",
   "mimetype": "text/x-python",
   "name": "python",
   "nbconvert_exporter": "python",
   "pygments_lexer": "ipython3",
   "version": "3.10.10"
  }
 },
 "nbformat": 4,
 "nbformat_minor": 5
}
