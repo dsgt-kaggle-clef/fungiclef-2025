{
 "cells": [
  {
   "cell_type": "markdown",
   "metadata": {
    "id": "U7ACPTgbWEZ3"
   },
   "source": [
    "# Download Data\n",
    "Notebook to download the fungiclef dataset into Google Drive\n"
   ]
  },
  {
   "cell_type": "code",
   "execution_count": null,
   "metadata": {
    "colab": {
     "base_uri": "https://localhost:8080/"
    },
    "executionInfo": {
     "elapsed": 13820,
     "status": "ok",
     "timestamp": 1746482574811,
     "user": {
      "displayName": "Murilo Gustineli",
      "userId": "15794621506419532056"
     },
     "user_tz": 240
    },
    "id": "JUOLywLBNEX0",
    "outputId": "95da7ed0-65b7-49d6-d6ed-7200fa06a2cb"
   },
   "outputs": [
    {
     "name": "stdout",
     "output_type": "stream",
     "text": [
      "Drive already mounted at /content/drive; to attempt to forcibly remount, call drive.mount(\"/content/drive\", force_remount=True).\n"
     ]
    }
   ],
   "source": [
    "# from google.colab import drive\n",
    "# drive.mount('/content/drive')"
   ]
  },
  {
   "cell_type": "code",
   "execution_count": null,
   "metadata": {
    "colab": {
     "base_uri": "https://localhost:8080/"
    },
    "executionInfo": {
     "elapsed": 3,
     "status": "ok",
     "timestamp": 1746483623857,
     "user": {
      "displayName": "Murilo Gustineli",
      "userId": "15794621506419532056"
     },
     "user_tz": 240
    },
    "id": "lF4NjW32NMkf",
    "outputId": "cdeda560-cad2-4ee4-c470-9d0bac6134c1"
   },
   "outputs": [
    {
     "name": "stdout",
     "output_type": "stream",
     "text": [
      "/content/drive/MyDrive/fungiclef-2025\n"
     ]
    }
   ],
   "source": [
    "# # navigate to fungiclef-2025 repo\n",
    "# %cd /content/drive/MyDrive/fungiclef-2025/"
   ]
  },
  {
   "cell_type": "code",
   "execution_count": null,
   "metadata": {
    "executionInfo": {
     "elapsed": 116,
     "status": "ok",
     "timestamp": 1746483624943,
     "user": {
      "displayName": "Murilo Gustineli",
      "userId": "15794621506419532056"
     },
     "user_tz": 240
    },
    "id": "tP8APvxuWjjp"
   },
   "outputs": [],
   "source": [
    "# # download fungiclef data\n",
    "# %mkdir -p /content/drive/MyDrive/fungiclef-2025/data"
   ]
  },
  {
   "cell_type": "code",
   "execution_count": null,
   "metadata": {
    "colab": {
     "base_uri": "https://localhost:8080/"
    },
    "executionInfo": {
     "elapsed": 109,
     "status": "ok",
     "timestamp": 1746483645279,
     "user": {
      "displayName": "Murilo Gustineli",
      "userId": "15794621506419532056"
     },
     "user_tz": 240
    },
    "id": "dVnrkFyFVz06",
    "outputId": "3a471699-e855-4d0e-826f-70a498cac955"
   },
   "outputs": [
    {
     "name": "stdout",
     "output_type": "stream",
     "text": [
      "total 11\n",
      "drwx------  5 root root 4096 May  5 22:17 data\n",
      "drwx------ 10 root root 4096 May  5 22:19 fungiclef-2025\n",
      "-rw-------  1 root root 2240 May  5 20:52 fungiclef-repo\n"
     ]
    }
   ],
   "source": [
    "# !ls -la"
   ]
  },
  {
   "cell_type": "code",
   "execution_count": 25,
   "metadata": {
    "colab": {
     "base_uri": "https://localhost:8080/"
    },
    "executionInfo": {
     "elapsed": 8,
     "status": "ok",
     "timestamp": 1746483656339,
     "user": {
      "displayName": "Murilo Gustineli",
      "userId": "15794621506419532056"
     },
     "user_tz": 240
    },
    "id": "D_GhyWhuW8ay",
    "outputId": "a1a570ef-c5c4-480f-db46-e2f1f44beb33"
   },
   "outputs": [
    {
     "name": "stdout",
     "output_type": "stream",
     "text": [
      "/content/drive/MyDrive/fungiclef-2025/data\n"
     ]
    }
   ],
   "source": [
    "%cd ./data"
   ]
  },
  {
   "cell_type": "code",
   "execution_count": 26,
   "metadata": {
    "executionInfo": {
     "elapsed": 408,
     "status": "ok",
     "timestamp": 1746483660972,
     "user": {
      "displayName": "Murilo Gustineli",
      "userId": "15794621506419532056"
     },
     "user_tz": 240
    },
    "id": "V34oV2Y7XlLz"
   },
   "outputs": [],
   "source": [
    "from google.colab import userdata\n",
    "import os\n",
    "\n",
    "os.environ[\"KAGGLE_KEY\"] = userdata.get('KAGGLE_KEY')\n",
    "os.environ[\"KAGGLE_USERNAME\"] = userdata.get('KAGGLE_USERNAME')"
   ]
  },
  {
   "cell_type": "code",
   "execution_count": 27,
   "metadata": {
    "executionInfo": {
     "elapsed": 11,
     "status": "ok",
     "timestamp": 1746483661223,
     "user": {
      "displayName": "Murilo Gustineli",
      "userId": "15794621506419532056"
     },
     "user_tz": 240
    },
    "id": "RyWtTFJ8Xhb1"
   },
   "outputs": [],
   "source": [
    "# !pip install kaggle\n",
    "# !kaggle competitions download -c fungi-clef-2025"
   ]
  },
  {
   "cell_type": "code",
   "execution_count": 32,
   "metadata": {
    "colab": {
     "base_uri": "https://localhost:8080/"
    },
    "executionInfo": {
     "elapsed": 5746,
     "status": "ok",
     "timestamp": 1746483714985,
     "user": {
      "displayName": "Murilo Gustineli",
      "userId": "15794621506419532056"
     },
     "user_tz": 240
    },
    "id": "Ol2NM1DZYy00",
    "outputId": "ce087db9-74c3-45e1-cb96-1e5ca097d894"
   },
   "outputs": [
    {
     "name": "stdout",
     "output_type": "stream",
     "text": [
      "4.7G\t.\n"
     ]
    }
   ],
   "source": [
    "# checking for data\n",
    "!du -sh ."
   ]
  },
  {
   "cell_type": "code",
   "execution_count": 10,
   "metadata": {
    "executionInfo": {
     "elapsed": 861354,
     "status": "ok",
     "timestamp": 1746483475685,
     "user": {
      "displayName": "Murilo Gustineli",
      "userId": "15794621506419532056"
     },
     "user_tz": 240
    },
    "id": "Z_Trx9q1eYc5"
   },
   "outputs": [],
   "source": [
    "# unzip data\n",
    "!unzip -q fungi-clef-2025.zip"
   ]
  },
  {
   "cell_type": "code",
   "execution_count": 29,
   "metadata": {
    "colab": {
     "base_uri": "https://localhost:8080/"
    },
    "executionInfo": {
     "elapsed": 116,
     "status": "ok",
     "timestamp": 1746483671946,
     "user": {
      "displayName": "Murilo Gustineli",
      "userId": "15794621506419532056"
     },
     "user_tz": 240
    },
    "id": "m_LGreg9fAgz",
    "outputId": "2f39a9be-2de7-4eae-e408-392a1ce4a6e6"
   },
   "outputs": [
    {
     "name": "stdout",
     "output_type": "stream",
     "text": [
      "total 4851201\n",
      "drwx------ 5 root root       4096 May  5 22:05 captions\n",
      "-rw------- 1 root root 4967560511 May  5 08:46 fungi-clef-2025.zip\n",
      "-rw------- 1 root root      55970 May  5 08:41 FungiCLEF25-SAMPLE_SUBMISSION.csv\n",
      "drwx------ 3 root root       4096 May  5 22:05 images\n",
      "drwx------ 3 root root       4096 May  5 22:17 metadata\n"
     ]
    }
   ],
   "source": [
    "# move data to fungiclef0-2025 dir\n",
    "!ls -la"
   ]
  },
  {
   "cell_type": "code",
   "execution_count": 31,
   "metadata": {
    "executionInfo": {
     "elapsed": 406,
     "status": "ok",
     "timestamp": 1746483697866,
     "user": {
      "displayName": "Murilo Gustineli",
      "userId": "15794621506419532056"
     },
     "user_tz": 240
    },
    "id": "ayguo9jpihx9"
   },
   "outputs": [],
   "source": [
    "# remove .zip file\n",
    "!rm -r fungi-clef-2025.zip"
   ]
  },
  {
   "cell_type": "code",
   "execution_count": 34,
   "metadata": {
    "colab": {
     "base_uri": "https://localhost:8080/"
    },
    "executionInfo": {
     "elapsed": 312,
     "status": "ok",
     "timestamp": 1746483736746,
     "user": {
      "displayName": "Murilo Gustineli",
      "userId": "15794621506419532056"
     },
     "user_tz": 240
    },
    "id": "c0g01rlqcPLH",
    "outputId": "346cc542-226b-4098-af83-1821c29cad9f"
   },
   "outputs": [
    {
     "name": "stdout",
     "output_type": "stream",
     "text": [
      "/content/drive/MyDrive/fungiclef-2025/fungiclef-2025\n",
      "On branch mg/modeling\n",
      "Changes not staged for commit:\n",
      "  (use \"git add <file>...\" to update what will be committed)\n",
      "  (use \"git restore <file>...\" to discard changes in working directory)\n",
      "\t\u001b[31mmodified:   notebooks/colab/20250505-mg-download-data.ipynb\u001b[m\n",
      "\n",
      "no changes added to commit (use \"git add\" and/or \"git commit -a\")\n"
     ]
    }
   ],
   "source": [
    "%cd /content/drive/MyDrive/fungiclef-2025/fungiclef-2025/\n",
    "!git status"
   ]
  },
  {
   "cell_type": "code",
   "execution_count": 35,
   "metadata": {
    "executionInfo": {
     "elapsed": 203,
     "status": "ok",
     "timestamp": 1746483740281,
     "user": {
      "displayName": "Murilo Gustineli",
      "userId": "15794621506419532056"
     },
     "user_tz": 240
    },
    "id": "4m3tfVmSdKrW"
   },
   "outputs": [],
   "source": [
    "!git config --global user.email \"murilogustineli@gmail.com\"\n",
    "!git config --global user.name \"murilogustineli\""
   ]
  },
  {
   "cell_type": "code",
   "execution_count": 36,
   "metadata": {
    "colab": {
     "base_uri": "https://localhost:8080/"
    },
    "executionInfo": {
     "elapsed": 4589,
     "status": "ok",
     "timestamp": 1746483752674,
     "user": {
      "displayName": "Murilo Gustineli",
      "userId": "15794621506419532056"
     },
     "user_tz": 240
    },
    "id": "7j2Sa8Saa8we",
    "outputId": "790d2fec-9b3f-49fc-93af-f579c55b5bc1"
   },
   "outputs": [
    {
     "name": "stdout",
     "output_type": "stream",
     "text": [
      "/content/drive/MyDrive/fungiclef-2025/fungiclef-2025\n",
      "fatal: A branch named 'mg/modeling' already exists.\n",
      "[mg/modeling 4404161] added colab folder and notebook to download data\n",
      " 1 file changed, 1 insertion(+), 1 deletion(-)\n",
      " rewrite notebooks/colab/20250505-mg-download-data.ipynb (93%)\n",
      "fatal: could not read Username for 'https://github.com': No such device or address\n"
     ]
    }
   ],
   "source": [
    "# commit notebook\n",
    "%cd /content/drive/MyDrive/fungiclef-2025/fungiclef-2025\n",
    "!git checkout -b mg/modeling\n",
    "!git add --all\n",
    "!git commit -m \"added colab folder and notebook to download data\"\n",
    "!git push -u origin mg/modeling\n",
    "!git push https"
   ]
  },
  {
   "cell_type": "code",
   "execution_count": 59,
   "metadata": {
    "colab": {
     "base_uri": "https://localhost:8080/"
    },
    "executionInfo": {
     "elapsed": 6631,
     "status": "ok",
     "timestamp": 1746482429496,
     "user": {
      "displayName": "Murilo Gustineli",
      "userId": "15794621506419532056"
     },
     "user_tz": 240
    },
    "id": "VceT08mFc8jQ",
    "outputId": "ed9f4486-dab3-475c-ccfd-071f25a66838"
   },
   "outputs": [
    {
     "name": "stdout",
     "output_type": "stream",
     "text": [
      "Collecting gh\n",
      "  Downloading gh-0.0.4.tar.gz (2.2 kB)\n",
      "  Preparing metadata (setup.py) ... \u001b[?25l\u001b[?25hdone\n",
      "Requirement already satisfied: gitpython in /usr/local/lib/python3.11/dist-packages (from gh) (3.1.44)\n",
      "Requirement already satisfied: gitdb<5,>=4.0.1 in /usr/local/lib/python3.11/dist-packages (from gitpython->gh) (4.0.12)\n",
      "Requirement already satisfied: smmap<6,>=3.0.1 in /usr/local/lib/python3.11/dist-packages (from gitdb<5,>=4.0.1->gitpython->gh) (5.0.2)\n",
      "Building wheels for collected packages: gh\n",
      "  Building wheel for gh (setup.py) ... \u001b[?25l\u001b[?25hdone\n",
      "  Created wheel for gh: filename=gh-0.0.4-py3-none-any.whl size=2470 sha256=e20abc5eb79bcfe5f0c5b5a71767ca5ef515f13db13b0d392f5fdefe14cb95ff\n",
      "  Stored in directory: /root/.cache/pip/wheels/17/8b/c6/402063ce4b755e8813124b706ca9520f4cea4988074b9a6e2f\n",
      "Successfully built gh\n",
      "Installing collected packages: gh\n",
      "Successfully installed gh-0.0.4\n"
     ]
    }
   ],
   "source": [
    "!pip install gh"
   ]
  },
  {
   "cell_type": "code",
   "execution_count": 43,
   "metadata": {
    "colab": {
     "base_uri": "https://localhost:8080/"
    },
    "executionInfo": {
     "elapsed": 302,
     "status": "ok",
     "timestamp": 1746483832349,
     "user": {
      "displayName": "Murilo Gustineli",
      "userId": "15794621506419532056"
     },
     "user_tz": 240
    },
    "id": "caRdnP28cqr4",
    "outputId": "abe4d8d7-14f9-4587-cbb1-41ebe66df4d6"
   },
   "outputs": [
    {
     "name": "stdout",
     "output_type": "stream",
     "text": [
      "usage: gh [-h] [--home] [-p] [-b] [-s] [-r] [-t] [-c] [-w] [-i] [-d] [-v]\n",
      "gh: error: unrecognized arguments: auth login\n"
     ]
    }
   ],
   "source": [
    "!gh auth login"
   ]
  },
  {
   "cell_type": "code",
   "execution_count": null,
   "metadata": {
    "id": "aSjLw9y8i31e"
   },
   "outputs": [],
   "source": []
  }
 ],
 "metadata": {
  "colab": {
   "authorship_tag": "ABX9TyPQqIWw+XRjB9RUUxZc7SWh",
   "mount_file_id": "1maj8cMiyTKT0h29AhoGIYgAMLvjr7-ZO",
   "provenance": []
  },
  "kernelspec": {
   "display_name": "Python 3",
   "name": "python3"
  },
  "language_info": {
   "name": "python"
  }
 },
 "nbformat": 4,
 "nbformat_minor": 0
}
