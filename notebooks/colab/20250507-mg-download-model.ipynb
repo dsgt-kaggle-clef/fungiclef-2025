{
 "cells": [
  {
   "cell_type": "markdown",
   "metadata": {
    "id": "U7ACPTgbWEZ3"
   },
   "source": [
    "# Download fine-tuned DINOv2 model\n",
    "Notebook to download the PlantCLEF fine-tuned model from [Zenodo](https://zenodo.org/records/10848263)"
   ]
  },
  {
   "cell_type": "code",
   "execution_count": 17,
   "metadata": {},
   "outputs": [
    {
     "name": "stdout",
     "output_type": "stream",
     "text": [
      "The autoreload extension is already loaded. To reload it, use:\n",
      "  %reload_ext autoreload\n"
     ]
    }
   ],
   "source": [
    "%load_ext autoreload\n",
    "%autoreload 2"
   ]
  },
  {
   "cell_type": "code",
   "execution_count": 18,
   "metadata": {
    "colab": {
     "base_uri": "https://localhost:8080/"
    },
    "executionInfo": {
     "elapsed": 15789,
     "status": "ok",
     "timestamp": 1746668659270,
     "user": {
      "displayName": "Murilo Gustineli",
      "userId": "15794621506419532056"
     },
     "user_tz": 240
    },
    "id": "JUOLywLBNEX0",
    "outputId": "264bc2ee-88d5-4779-9f61-5a0cb22690bb"
   },
   "outputs": [],
   "source": [
    "# from google.colab import drive\n",
    "# drive.mount('/content/drive')"
   ]
  },
  {
   "cell_type": "code",
   "execution_count": 19,
   "metadata": {
    "colab": {
     "base_uri": "https://localhost:8080/"
    },
    "executionInfo": {
     "elapsed": 880,
     "status": "ok",
     "timestamp": 1746668660224,
     "user": {
      "displayName": "Murilo Gustineli",
      "userId": "15794621506419532056"
     },
     "user_tz": 240
    },
    "id": "lF4NjW32NMkf",
    "outputId": "0e3bc93f-443f-42b1-850d-c3b2bec68875"
   },
   "outputs": [],
   "source": [
    "# # navigate to the fungiclef-2025 folder\n",
    "# %cd /content/drive/MyDrive/fungiclef-2025/"
   ]
  },
  {
   "cell_type": "code",
   "execution_count": 20,
   "metadata": {
    "colab": {
     "base_uri": "https://localhost:8080/"
    },
    "executionInfo": {
     "elapsed": 231,
     "status": "ok",
     "timestamp": 1746668660454,
     "user": {
      "displayName": "Murilo Gustineli",
      "userId": "15794621506419532056"
     },
     "user_tz": 240
    },
    "id": "dVnrkFyFVz06",
    "outputId": "a748e42d-d764-43af-d231-4d3d1ae0436f"
   },
   "outputs": [],
   "source": [
    "# !ls -la"
   ]
  },
  {
   "cell_type": "code",
   "execution_count": 21,
   "metadata": {
    "colab": {
     "base_uri": "https://localhost:8080/"
    },
    "executionInfo": {
     "elapsed": 112,
     "status": "ok",
     "timestamp": 1746668722336,
     "user": {
      "displayName": "Murilo Gustineli",
      "userId": "15794621506419532056"
     },
     "user_tz": 240
    },
    "id": "CHXIi78rkMrS",
    "outputId": "65e7cd6f-cefe-4379-959c-22958ddb684a"
   },
   "outputs": [],
   "source": [
    "# # make model dir\n",
    "# !mkdir -p model\n",
    "# %cd model"
   ]
  },
  {
   "cell_type": "code",
   "execution_count": 22,
   "metadata": {},
   "outputs": [
    {
     "name": "stdout",
     "output_type": "stream",
     "text": [
      "/storage/coda1/p-dsgt_clef2025/0/shared/fungiclef/model\n"
     ]
    },
    {
     "name": "stderr",
     "output_type": "stream",
     "text": [
      "/storage/home/hcoda1/9/mgustineli3/clef/fungiclef-2025/.venv/lib/python3.10/site-packages/IPython/core/magics/osm.py:393: UserWarning: This is now an optional IPython functionality, using bookmarks requires you to install the `pickleshare` library.\n",
      "  bkms = self.shell.db.get('bookmarks', {})\n",
      "/storage/home/hcoda1/9/mgustineli3/clef/fungiclef-2025/.venv/lib/python3.10/site-packages/IPython/core/magics/osm.py:417: UserWarning: This is now an optional IPython functionality, setting dhist requires you to install the `pickleshare` library.\n",
      "  self.shell.db['dhist'] = compress_dhist(dhist)[-100:]\n"
     ]
    }
   ],
   "source": [
    "# PACE\n",
    "%cd ~/p-dsgt_clef2025-0/shared/fungiclef/model"
   ]
  },
  {
   "cell_type": "code",
   "execution_count": 23,
   "metadata": {
    "colab": {
     "base_uri": "https://localhost:8080/"
    },
    "executionInfo": {
     "elapsed": 123,
     "status": "ok",
     "timestamp": 1746668857776,
     "user": {
      "displayName": "Murilo Gustineli",
      "userId": "15794621506419532056"
     },
     "user_tz": 240
    },
    "id": "DEaSKoavkMnX",
    "outputId": "a3fd1115-d47f-4597-cac0-8282222465e1"
   },
   "outputs": [
    {
     "name": "stdout",
     "output_type": "stream",
     "text": [
      "https://zenodo.org/records/10848263/files/PlantNet_PlantCLEF2024_pretrained_models_on_the_flora_of_south-western_europe.tar?download=1"
     ]
    }
   ],
   "source": [
    "import os\n",
    "\n",
    "model_url = \"https://zenodo.org/records/10848263/files/PlantNet_PlantCLEF2024_pretrained_models_on_the_flora_of_south-western_europe.tar?download=1\"\n",
    "\n",
    "\n",
    "def get_file_path() -> str:\n",
    "    # get current working directory\n",
    "    curr_dir = os.getcwd()\n",
    "    # specify the file path\n",
    "    file_path = os.path.join(curr_dir, \"urls.txt\")\n",
    "    return file_path\n",
    "\n",
    "\n",
    "# get file path\n",
    "file_path = get_file_path()\n",
    "# write the urls to the file\n",
    "with open(file_path, \"w\") as f:\n",
    "    f.write(model_url.strip())\n",
    "# print the file content\n",
    "! cat {file_path}"
   ]
  },
  {
   "cell_type": "code",
   "execution_count": 24,
   "metadata": {
    "colab": {
     "base_uri": "https://localhost:8080/"
    },
    "executionInfo": {
     "elapsed": 4171,
     "status": "ok",
     "timestamp": 1746669028700,
     "user": {
      "displayName": "Murilo Gustineli",
      "userId": "15794621506419532056"
     },
     "user_tz": 240
    },
    "id": "ZUNZ3JOZliD_",
    "outputId": "fcb1c686-3251-49e2-d31f-94b0a8bbe123"
   },
   "outputs": [],
   "source": [
    "# !pip install aria2"
   ]
  },
  {
   "cell_type": "code",
   "execution_count": 25,
   "metadata": {
    "colab": {
     "base_uri": "https://localhost:8080/"
    },
    "executionInfo": {
     "elapsed": 107707,
     "status": "ok",
     "timestamp": 1746669138341,
     "user": {
      "displayName": "Murilo Gustineli",
      "userId": "15794621506419532056"
     },
     "user_tz": 240
    },
    "id": "_CWNDrAnk6jr",
    "outputId": "d5b18609-4735-412a-8636-274f560b01c0"
   },
   "outputs": [],
   "source": [
    "# !aria2c --check-certificate=false -c -i /content/drive/MyDrive/fungiclef-2025/model/urls.txt -d /content/drive/MyDrive/fungiclef-2025/model"
   ]
  },
  {
   "cell_type": "code",
   "execution_count": 26,
   "metadata": {},
   "outputs": [
    {
     "name": "stdout",
     "output_type": "stream",
     "text": [
      "\n",
      "05/09 16:26:59 [\u001b[1;32mNOTICE\u001b[0m] Downloading 1 item(s)\n",
      "\u001b[35m[\u001b[0m#07c4f4 1.6GiB/2.1GiB\u001b[36m(76%)\u001b[0m CN:1 DL:\u001b[32m34MiB\u001b[0m ETA:\u001b[33m14s\u001b[0m\u001b[35m]\u001b[0m\u001b[0mm0m\n",
      "05/09 16:27:48 [\u001b[1;32mNOTICE\u001b[0m] Shutdown sequence commencing... Press Ctrl-C again for emergency shutdown.\n",
      "^C\n",
      "\n",
      "05/09 16:27:48 [\u001b[1;32mNOTICE\u001b[0m] Download GID#07c4f4a71bd2c2f7 not complete: /storage/home/hcoda1/9/mgustineli3/p-dsgt_clef2025-0/shared/fungiclef/model/PlantNet_PlantCLEF2024_pretrained_models_on_the_flora_of_south-western_europe.tar\n",
      "\n",
      "Download Results:\n",
      "gid   |stat|avg speed  |path/URI\n",
      "======+====+===========+=======================================================\n",
      "07c4f4|\u001b[1;34mINPR\u001b[0m|    33MiB/s|/storage/home/hcoda1/9/mgustineli3/p-dsgt_clef2025-0/shared/fungiclef/model/PlantNet_PlantCLEF2024_pretrained_models_on_the_flora_of_south-western_europe.tar\n",
      "\n",
      "Status Legend:\n",
      "(INPR):download in-progress.\n",
      "\n",
      "aria2 will resume download if the transfer is restarted.\n",
      "If there are any errors, then see the log file. See '-l' option in help/man page for details.\n"
     ]
    }
   ],
   "source": [
    "# download on PACE\n",
    "!aria2c --check-certificate=false -c -i ~/p-dsgt_clef2025-0/shared/fungiclef/model/urls.txt -d ~/p-dsgt_clef2025-0/shared/fungiclef/model"
   ]
  },
  {
   "cell_type": "markdown",
   "metadata": {
    "id": "jn_XAVIooW_e"
   },
   "source": [
    "### extract downloaded model"
   ]
  },
  {
   "cell_type": "code",
   "execution_count": 14,
   "metadata": {
    "colab": {
     "base_uri": "https://localhost:8080/"
    },
    "executionInfo": {
     "elapsed": 32807,
     "status": "ok",
     "timestamp": 1746669901995,
     "user": {
      "displayName": "Murilo Gustineli",
      "userId": "15794621506419532056"
     },
     "user_tz": 240
    },
    "id": "duj9JT3Oofww",
    "outputId": "863a4f54-5536-4752-defa-35ca96a8957e"
   },
   "outputs": [
    {
     "name": "stdout",
     "output_type": "stream",
     "text": [
      "\n",
      "Extraction completed. Contents of the destination directory:\n",
      "/storage/home/hcoda1/9/mgustineli3/p-dsgt_clef2025-0/shared/fungiclef/model:\n",
      "'~'\n",
      " PlantNet_PlantCLEF2024_pretrained_models_on_the_flora_of_south-western_europe.tar\n",
      " urls.txt\n",
      "\n",
      "/storage/home/hcoda1/9/mgustineli3/p-dsgt_clef2025-0/shared/fungiclef/model/~:\n",
      "p-dsgt_clef2025-0\n",
      "\n",
      "/storage/home/hcoda1/9/mgustineli3/p-dsgt_clef2025-0/shared/fungiclef/model/~/p-dsgt_clef2025-0:\n",
      "shared\n",
      "\n",
      "/storage/home/hcoda1/9/mgustineli3/p-dsgt_clef2025-0/shared/fungiclef/model/~/p-dsgt_clef2025-0/shared:\n",
      "fungiclef\n",
      "\n",
      "/storage/home/hcoda1/9/mgustineli3/p-dsgt_clef2025-0/shared/fungiclef/model/~/p-dsgt_clef2025-0/shared/fungiclef:\n",
      "model\n",
      "\n",
      "/storage/home/hcoda1/9/mgustineli3/p-dsgt_clef2025-0/shared/fungiclef/model/~/p-dsgt_clef2025-0/shared/fungiclef/model:\n"
     ]
    }
   ],
   "source": [
    "import os\n",
    "import tarfile\n",
    "\n",
    "# Set paths\n",
    "model_dir = \"~/p-dsgt_clef2025-0/shared/fungiclef/model\"\n",
    "\n",
    "# make sure the destination directory exists\n",
    "os.makedirs(model_dir, exist_ok=True)\n",
    "\n",
    "# extract all .tar files in the source directory\n",
    "for file in os.listdir(model_dir):\n",
    "    if file.endswith(\".tar\"):\n",
    "        tar_path = os.path.join(model_dir, file)\n",
    "        print(f\"Extracting {tar_path} to {model_dir}...\")\n",
    "        with tarfile.open(tar_path) as tar:\n",
    "            tar.extractall(path=model_dir)\n",
    "\n",
    "# list contents of the extracted directory\n",
    "print(\"\\nExtraction completed. Contents of the destination directory:\")\n",
    "!ls -R ~/p-dsgt_clef2025-0/shared/fungiclef/model"
   ]
  },
  {
   "cell_type": "code",
   "execution_count": null,
   "metadata": {
    "id": "to7J3Urooe3r"
   },
   "outputs": [],
   "source": []
  },
  {
   "cell_type": "code",
   "execution_count": null,
   "metadata": {
    "id": "moGQFk9xlglZ"
   },
   "outputs": [],
   "source": []
  }
 ],
 "metadata": {
  "colab": {
   "authorship_tag": "ABX9TyOeoZmMoZcMf5EdL45J/2Rl",
   "provenance": []
  },
  "kernelspec": {
   "display_name": ".venv",
   "language": "python",
   "name": "python3"
  },
  "language_info": {
   "codemirror_mode": {
    "name": "ipython",
    "version": 3
   },
   "file_extension": ".py",
   "mimetype": "text/x-python",
   "name": "python",
   "nbconvert_exporter": "python",
   "pygments_lexer": "ipython3",
   "version": "3.10.10"
  }
 },
 "nbformat": 4,
 "nbformat_minor": 0
}
