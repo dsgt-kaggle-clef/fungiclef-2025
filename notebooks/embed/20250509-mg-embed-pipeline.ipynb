{
  "cells": [
    {
      "cell_type": "markdown",
      "metadata": {
        "id": "U7ACPTgbWEZ3"
      },
      "source": [
        "# DINOv2 model\n",
        "Notebook to check implementation of the DINOv2 model from PlantCLEF\n",
        "\n",
        "https://github.com/dsgt-kaggle-clef/fungiclef-2025/blob/main/fungiclef/preprocessing/embedding.py"
      ]
    },
    {
      "cell_type": "code",
      "execution_count": 1,
      "metadata": {},
      "outputs": [],
      "source": [
        "%load_ext autoreload\n",
        "%autoreload 2"
      ]
    },
    {
      "cell_type": "code",
      "execution_count": 2,
      "metadata": {
        "colab": {
          "base_uri": "https://localhost:8080/",
          "height": 36
        },
        "id": "gswEjZ3ooKD-",
        "outputId": "c8fe3917-d2f6-4f5f-d626-f2726570b588"
      },
      "outputs": [
        {
          "data": {
            "text/plain": [
              "'cuda'"
            ]
          },
          "execution_count": 2,
          "metadata": {},
          "output_type": "execute_result"
        }
      ],
      "source": [
        "from fungiclef.config import get_device\n",
        "\n",
        "device = get_device()\n",
        "device"
      ]
    },
    {
      "cell_type": "code",
      "execution_count": 3,
      "metadata": {
        "id": "JvMwokvM5Nfp"
      },
      "outputs": [],
      "source": [
        "import timm\n",
        "import torch\n",
        "import pytorch_lightning as pl\n",
        "from fungiclef.model_setup import setup_fine_tuned_model\n",
        "\n",
        "\n",
        "class DINOv2LightningModel(pl.LightningModule):\n",
        "    \"\"\"PyTorch Lightning module for extracting embeddings from a fine-tuned DINOv2 model.\"\"\"\n",
        "\n",
        "    def __init__(\n",
        "        self,\n",
        "        model_path: str = setup_fine_tuned_model(),\n",
        "        model_name: str = \"vit_base_patch14_reg4_dinov2.lvd142m\",\n",
        "    ):\n",
        "        super().__init__()\n",
        "        self.model_device = get_device()\n",
        "        self.num_classes = 7806  # total plant species\n",
        "\n",
        "        # load the fine-tuned model\n",
        "        self.model = timm.create_model(\n",
        "            model_name,\n",
        "            pretrained=False,\n",
        "            num_classes=self.num_classes,\n",
        "            checkpoint_path=model_path,\n",
        "        )\n",
        "\n",
        "        # load transform\n",
        "        self.data_config = timm.data.resolve_model_data_config(self.model)\n",
        "        self.transform = timm.data.create_transform(\n",
        "            **self.data_config, is_training=False\n",
        "        )\n",
        "\n",
        "        # move model to device\n",
        "        self.model.to(self.model_device)\n",
        "        self.model.eval()\n",
        "\n",
        "    def forward(self, batch):\n",
        "        \"\"\"Extract [CLS] token embeddings using fine-tuned model.\"\"\"\n",
        "        with torch.no_grad():\n",
        "            batch = batch.to(self.model_device)  # move to device\n",
        "\n",
        "            if batch.dim() == 5:  # (B, grid_size**2, C, H, W)\n",
        "                B, G, C, H, W = batch.shape\n",
        "                batch = batch.view(B * G, C, H, W)  # (B * grid_size**2, C, H, W)\n",
        "            # forward pass\n",
        "            features = self.model.forward_features(batch)\n",
        "            embeddings = features[:, 0, :]  # extract [CLS] token\n",
        "\n",
        "        return embeddings\n",
        "\n",
        "    def predict_step(self, batch, batch_idx):\n",
        "        \"\"\"Runs inference on batch and returns embeddings and top-K logits.\"\"\"\n",
        "        return self(batch)  # [CLS] token embeddings"
      ]
    },
    {
      "cell_type": "code",
      "execution_count": 4,
      "metadata": {
        "id": "iYiJB_iW26aM"
      },
      "outputs": [],
      "source": [
        "from torch.utils.data import Dataset, DataLoader\n",
        "from torchvision.transforms import ToTensor\n",
        "from fungiclef.serde import deserialize_image\n",
        "\n",
        "\n",
        "class FungiDataset(Dataset):\n",
        "    def __init__(self, df, transform=None, col_name: str = \"data\"):\n",
        "        self.df = df\n",
        "        self.transform = transform\n",
        "        self.col_name = col_name\n",
        "\n",
        "    def __len__(self):\n",
        "        return len(self.df)\n",
        "\n",
        "    def __getitem__(self, idx):\n",
        "        img_bytes = self.df.iloc[idx][self.col_name]\n",
        "        img = deserialize_image(img_bytes)\n",
        "\n",
        "        if self.transform:\n",
        "            return self.transform(img)  # (C, H, W)\n",
        "        return ToTensor()(img)  # (C, H, W)\n",
        "\n",
        "\n",
        "class FungiDataModule(pl.LightningDataModule):\n",
        "    \"\"\"LightningDataModule for handling dataset loading and preparation.\"\"\"\n",
        "\n",
        "    def __init__(\n",
        "        self,\n",
        "        pandas_df,\n",
        "        batch_size=32,\n",
        "        num_workers=4,\n",
        "    ):\n",
        "        super().__init__()\n",
        "        self.pandas_df = pandas_df\n",
        "        self.batch_size = batch_size\n",
        "        self.num_workers = num_workers\n",
        "\n",
        "    def setup(self, stage=None):\n",
        "        \"\"\"Set up dataset and transformations.\"\"\"\n",
        "\n",
        "        self.model = DINOv2LightningModel()\n",
        "        self.dataset = FungiDataset(\n",
        "            self.pandas_df,\n",
        "            self.model.transform,  # Use the model's transform\n",
        "        )\n",
        "\n",
        "    def predict_dataloader(self):\n",
        "        \"\"\"Returns DataLoader for inference.\"\"\"\n",
        "        return DataLoader(\n",
        "            self.dataset,\n",
        "            batch_size=self.batch_size,\n",
        "            shuffle=False,\n",
        "            num_workers=self.num_workers,\n",
        "            persistent_workers=True,\n",
        "        )"
      ]
    },
    {
      "cell_type": "code",
      "execution_count": 5,
      "metadata": {
        "id": "aVLCNvkZ6IpS"
      },
      "outputs": [],
      "source": [
        "import pandas as pd\n",
        "\n",
        "\n",
        "def pl_trainer_pipeline(\n",
        "    pandas_df: pd.DataFrame,\n",
        "    batch_size: int = 32,\n",
        "    cpu_count: int = 1,\n",
        "):\n",
        "    \"\"\"Pipeline to extract embeddings and top-k logits using PyTorch Lightning.\"\"\"\n",
        "\n",
        "    # initialize DataModule\n",
        "    data_module = FungiDataModule(\n",
        "        pandas_df,\n",
        "        batch_size=batch_size,\n",
        "        num_workers=cpu_count,\n",
        "    )\n",
        "\n",
        "    # initialize Model\n",
        "    model = DINOv2LightningModel()\n",
        "\n",
        "    # define Trainer (inference mode)\n",
        "    trainer = pl.Trainer(\n",
        "        accelerator=get_device(),\n",
        "        devices=1,\n",
        "        enable_progress_bar=True,\n",
        "    )\n",
        "\n",
        "    # run inference\n",
        "    predictions = trainer.predict(model, datamodule=data_module)\n",
        "\n",
        "    all_embeddings = []\n",
        "    for batch in predictions:\n",
        "        embed_batch = batch  # batch: List[embeddings]\n",
        "        all_embeddings.append(embed_batch)  # keep embeddings as tensors\n",
        "\n",
        "    # convert embeddings to tensor\n",
        "    embeddings = torch.cat(all_embeddings, dim=0)  # shape: [len(df), grid_size**2, 768]\n",
        "    return embeddings"
      ]
    },
    {
      "cell_type": "code",
      "execution_count": 6,
      "metadata": {
        "colab": {
          "base_uri": "https://localhost:8080/",
          "height": 429
        },
        "id": "-AQilFbY3VbO",
        "outputId": "cbc79f26-6c78-4de6-a6c3-30a0e67f148c"
      },
      "outputs": [
        {
          "data": {
            "text/html": [
              "<div>\n",
              "<style scoped>\n",
              "    .dataframe tbody tr th:only-of-type {\n",
              "        vertical-align: middle;\n",
              "    }\n",
              "\n",
              "    .dataframe tbody tr th {\n",
              "        vertical-align: top;\n",
              "    }\n",
              "\n",
              "    .dataframe thead th {\n",
              "        text-align: right;\n",
              "    }\n",
              "</style>\n",
              "<table border=\"1\" class=\"dataframe\">\n",
              "  <thead>\n",
              "    <tr style=\"text-align: right;\">\n",
              "      <th></th>\n",
              "      <th>eventDate</th>\n",
              "      <th>year</th>\n",
              "      <th>month</th>\n",
              "      <th>day</th>\n",
              "      <th>habitat</th>\n",
              "      <th>countryCode</th>\n",
              "      <th>scientificName</th>\n",
              "      <th>kingdom</th>\n",
              "      <th>phylum</th>\n",
              "      <th>class</th>\n",
              "      <th>...</th>\n",
              "      <th>region</th>\n",
              "      <th>district</th>\n",
              "      <th>filename</th>\n",
              "      <th>category_id</th>\n",
              "      <th>metaSubstrate</th>\n",
              "      <th>poisonous</th>\n",
              "      <th>elevation</th>\n",
              "      <th>landcover</th>\n",
              "      <th>biogeographicalRegion</th>\n",
              "      <th>data</th>\n",
              "    </tr>\n",
              "  </thead>\n",
              "  <tbody>\n",
              "    <tr>\n",
              "      <th>0</th>\n",
              "      <td>2021-01-24</td>\n",
              "      <td>2021</td>\n",
              "      <td>1.0</td>\n",
              "      <td>24.0</td>\n",
              "      <td>Mixed woodland (with coniferous and deciduous ...</td>\n",
              "      <td>DK</td>\n",
              "      <td>Xylohypha ferruginosa (Corda) S.Hughes</td>\n",
              "      <td>Fungi</td>\n",
              "      <td>Ascomycota</td>\n",
              "      <td>Eurotiomycetes</td>\n",
              "      <td>...</td>\n",
              "      <td>Sjælland</td>\n",
              "      <td>Næstved</td>\n",
              "      <td>0-3052832307.JPG</td>\n",
              "      <td>2421</td>\n",
              "      <td>wood</td>\n",
              "      <td>0</td>\n",
              "      <td>0.0</td>\n",
              "      <td>16.0</td>\n",
              "      <td>continental</td>\n",
              "      <td>b'\\xff\\xd8\\xff\\xe0\\x00\\x10JFIF\\x00\\x01\\x01\\x00...</td>\n",
              "    </tr>\n",
              "    <tr>\n",
              "      <th>1</th>\n",
              "      <td>2021-02-27</td>\n",
              "      <td>2021</td>\n",
              "      <td>2.0</td>\n",
              "      <td>27.0</td>\n",
              "      <td>garden</td>\n",
              "      <td>DK</td>\n",
              "      <td>Comatricha alta Preuss, 1851</td>\n",
              "      <td>Protozoa</td>\n",
              "      <td>Mycetozoa</td>\n",
              "      <td>Myxomycetes</td>\n",
              "      <td>...</td>\n",
              "      <td>Hovedstaden</td>\n",
              "      <td>Gribskov</td>\n",
              "      <td>0-3061954303.JPG</td>\n",
              "      <td>386</td>\n",
              "      <td>wood</td>\n",
              "      <td>0</td>\n",
              "      <td>0.0</td>\n",
              "      <td>17.0</td>\n",
              "      <td>continental</td>\n",
              "      <td>b'\\xff\\xd8\\xff\\xe0\\x00\\x10JFIF\\x00\\x01\\x01\\x00...</td>\n",
              "    </tr>\n",
              "    <tr>\n",
              "      <th>2</th>\n",
              "      <td>2021-02-27</td>\n",
              "      <td>2021</td>\n",
              "      <td>2.0</td>\n",
              "      <td>27.0</td>\n",
              "      <td>garden</td>\n",
              "      <td>DK</td>\n",
              "      <td>Comatricha alta Preuss, 1851</td>\n",
              "      <td>Protozoa</td>\n",
              "      <td>Mycetozoa</td>\n",
              "      <td>Myxomycetes</td>\n",
              "      <td>...</td>\n",
              "      <td>Hovedstaden</td>\n",
              "      <td>Gribskov</td>\n",
              "      <td>1-3061954303.JPG</td>\n",
              "      <td>386</td>\n",
              "      <td>wood</td>\n",
              "      <td>0</td>\n",
              "      <td>0.0</td>\n",
              "      <td>17.0</td>\n",
              "      <td>continental</td>\n",
              "      <td>b'\\xff\\xd8\\xff\\xe0\\x00\\x10JFIF\\x00\\x01\\x01\\x00...</td>\n",
              "    </tr>\n",
              "    <tr>\n",
              "      <th>3</th>\n",
              "      <td>2021-02-27</td>\n",
              "      <td>2021</td>\n",
              "      <td>2.0</td>\n",
              "      <td>27.0</td>\n",
              "      <td>garden</td>\n",
              "      <td>DK</td>\n",
              "      <td>Comatricha alta Preuss, 1851</td>\n",
              "      <td>Protozoa</td>\n",
              "      <td>Mycetozoa</td>\n",
              "      <td>Myxomycetes</td>\n",
              "      <td>...</td>\n",
              "      <td>Hovedstaden</td>\n",
              "      <td>Gribskov</td>\n",
              "      <td>2-3061954303.JPG</td>\n",
              "      <td>386</td>\n",
              "      <td>wood</td>\n",
              "      <td>0</td>\n",
              "      <td>0.0</td>\n",
              "      <td>17.0</td>\n",
              "      <td>continental</td>\n",
              "      <td>b'\\xff\\xd8\\xff\\xe0\\x00\\x10JFIF\\x00\\x01\\x01\\x00...</td>\n",
              "    </tr>\n",
              "    <tr>\n",
              "      <th>4</th>\n",
              "      <td>2021-02-27</td>\n",
              "      <td>2021</td>\n",
              "      <td>2.0</td>\n",
              "      <td>27.0</td>\n",
              "      <td>garden</td>\n",
              "      <td>DK</td>\n",
              "      <td>Comatricha alta Preuss, 1851</td>\n",
              "      <td>Protozoa</td>\n",
              "      <td>Mycetozoa</td>\n",
              "      <td>Myxomycetes</td>\n",
              "      <td>...</td>\n",
              "      <td>Hovedstaden</td>\n",
              "      <td>Gribskov</td>\n",
              "      <td>3-3061954303.JPG</td>\n",
              "      <td>386</td>\n",
              "      <td>wood</td>\n",
              "      <td>0</td>\n",
              "      <td>0.0</td>\n",
              "      <td>17.0</td>\n",
              "      <td>continental</td>\n",
              "      <td>b'\\xff\\xd8\\xff\\xe0\\x00\\x10JFIF\\x00\\x01\\x01\\x00...</td>\n",
              "    </tr>\n",
              "  </tbody>\n",
              "</table>\n",
              "<p>5 rows × 32 columns</p>\n",
              "</div>"
            ],
            "text/plain": [
              "    eventDate  year  month   day  \\\n",
              "0  2021-01-24  2021    1.0  24.0   \n",
              "1  2021-02-27  2021    2.0  27.0   \n",
              "2  2021-02-27  2021    2.0  27.0   \n",
              "3  2021-02-27  2021    2.0  27.0   \n",
              "4  2021-02-27  2021    2.0  27.0   \n",
              "\n",
              "                                             habitat countryCode  \\\n",
              "0  Mixed woodland (with coniferous and deciduous ...          DK   \n",
              "1                                             garden          DK   \n",
              "2                                             garden          DK   \n",
              "3                                             garden          DK   \n",
              "4                                             garden          DK   \n",
              "\n",
              "                           scientificName   kingdom      phylum  \\\n",
              "0  Xylohypha ferruginosa (Corda) S.Hughes     Fungi  Ascomycota   \n",
              "1            Comatricha alta Preuss, 1851  Protozoa   Mycetozoa   \n",
              "2            Comatricha alta Preuss, 1851  Protozoa   Mycetozoa   \n",
              "3            Comatricha alta Preuss, 1851  Protozoa   Mycetozoa   \n",
              "4            Comatricha alta Preuss, 1851  Protozoa   Mycetozoa   \n",
              "\n",
              "            class  ...       region  district          filename category_id  \\\n",
              "0  Eurotiomycetes  ...     Sjælland   Næstved  0-3052832307.JPG        2421   \n",
              "1     Myxomycetes  ...  Hovedstaden  Gribskov  0-3061954303.JPG         386   \n",
              "2     Myxomycetes  ...  Hovedstaden  Gribskov  1-3061954303.JPG         386   \n",
              "3     Myxomycetes  ...  Hovedstaden  Gribskov  2-3061954303.JPG         386   \n",
              "4     Myxomycetes  ...  Hovedstaden  Gribskov  3-3061954303.JPG         386   \n",
              "\n",
              "   metaSubstrate poisonous elevation landcover  biogeographicalRegion  \\\n",
              "0           wood         0       0.0      16.0            continental   \n",
              "1           wood         0       0.0      17.0            continental   \n",
              "2           wood         0       0.0      17.0            continental   \n",
              "3           wood         0       0.0      17.0            continental   \n",
              "4           wood         0       0.0      17.0            continental   \n",
              "\n",
              "                                                data  \n",
              "0  b'\\xff\\xd8\\xff\\xe0\\x00\\x10JFIF\\x00\\x01\\x01\\x00...  \n",
              "1  b'\\xff\\xd8\\xff\\xe0\\x00\\x10JFIF\\x00\\x01\\x01\\x00...  \n",
              "2  b'\\xff\\xd8\\xff\\xe0\\x00\\x10JFIF\\x00\\x01\\x01\\x00...  \n",
              "3  b'\\xff\\xd8\\xff\\xe0\\x00\\x10JFIF\\x00\\x01\\x01\\x00...  \n",
              "4  b'\\xff\\xd8\\xff\\xe0\\x00\\x10JFIF\\x00\\x01\\x01\\x00...  \n",
              "\n",
              "[5 rows x 32 columns]"
            ]
          },
          "execution_count": 6,
          "metadata": {},
          "output_type": "execute_result"
        }
      ],
      "source": [
        "data_path = \"~/p-dsgt_clef2025-0/shared/fungiclef/data\"\n",
        "train_path = f\"{data_path}/dataset/processed/train_serialized.parquet\"\n",
        "\n",
        "# read train dataframe\n",
        "train_df = pd.read_parquet(train_path)\n",
        "train_df.head(5)"
      ]
    },
    {
      "cell_type": "code",
      "execution_count": 7,
      "metadata": {},
      "outputs": [
        {
          "data": {
            "text/plain": [
              "700"
            ]
          },
          "execution_count": 7,
          "metadata": {},
          "output_type": "execute_result"
        }
      ],
      "source": [
        "subset_df = train_df.head(700)  # 10% of the data for testing the pipeline\n",
        "len(subset_df)"
      ]
    },
    {
      "cell_type": "markdown",
      "metadata": {
        "id": "IHjfP1DZB9j1"
      },
      "source": [
        "### run embedding pipeline"
      ]
    },
    {
      "cell_type": "code",
      "execution_count": 8,
      "metadata": {
        "colab": {
          "base_uri": "https://localhost:8080/",
          "height": 161,
          "referenced_widgets": [
            "11e555d47103463495f31333b2109aa0",
            "66dc5d9e00f5467c87b176f890f2fb29",
            "44909153e2ec43279e3f3112e6dd54e6",
            "c08f2a7b744247a2b7d909826f3f4ac9",
            "a7ea90d4e8dd4d888c5d6b8caa24b8e6",
            "71498d5becee463fb59adcb0425332da",
            "092f6c5b96914b7fac4d8ef89b289543",
            "aada9797cd7f4572a7745bf9135960dd",
            "fed7d5aa88ba4068a88953d81e73ad2a",
            "3430c5c320f948f785abb5c7b3f5a26b",
            "82ec41f21da644888a44f69802c41a23"
          ]
        },
        "id": "5NChh379e_mZ",
        "outputId": "b9955c34-cb86-4b12-a432-dbf75152cc8e"
      },
      "outputs": [
        {
          "name": "stderr",
          "output_type": "stream",
          "text": [
            "/storage/home/hcoda1/9/mgustineli3/clef/fungiclef-2025/.venv/lib/python3.10/site-packages/lightning_fabric/plugins/environments/slurm.py:204: The `srun` command is available on your system but is not used. HINT: If your intention is to run Lightning on SLURM, prepend your python command with `srun` like so: srun python3.10 /storage/home/hcoda1/9/mgustineli3/clef/fungicle ...\n",
            "Using default `ModelCheckpoint`. Consider installing `litmodels` package to enable `LitModelCheckpoint` for automatic upload to the Lightning model registry.\n",
            "GPU available: True (cuda), used: True\n",
            "TPU available: False, using: 0 TPU cores\n",
            "HPU available: False, using: 0 HPUs\n",
            "LOCAL_RANK: 0 - CUDA_VISIBLE_DEVICES: [0]\n"
          ]
        },
        {
          "data": {
            "application/vnd.jupyter.widget-view+json": {
              "model_id": "6f8d4cc0a9e745c89fc7cd254287c9e3",
              "version_major": 2,
              "version_minor": 0
            },
            "text/plain": [
              "Predicting: |          | 0/? [00:00<?, ?it/s]"
            ]
          },
          "metadata": {},
          "output_type": "display_data"
        }
      ],
      "source": [
        "# extract embeddings\n",
        "embeddings = pl_trainer_pipeline(\n",
        "    subset_df,\n",
        "    batch_size=64,\n",
        "    cpu_count=2,\n",
        ")"
      ]
    },
    {
      "cell_type": "code",
      "execution_count": 9,
      "metadata": {
        "colab": {
          "base_uri": "https://localhost:8080/"
        },
        "id": "9F23MwE19MlC",
        "outputId": "a40a6602-3838-4207-9b37-5aed5c429c33"
      },
      "outputs": [
        {
          "data": {
            "text/plain": [
              "torch.Size([700, 768])"
            ]
          },
          "execution_count": 9,
          "metadata": {},
          "output_type": "execute_result"
        }
      ],
      "source": [
        "embeddings.shape"
      ]
    },
    {
      "cell_type": "code",
      "execution_count": 10,
      "metadata": {
        "colab": {
          "base_uri": "https://localhost:8080/"
        },
        "id": "rjzHHznCC6Ai",
        "outputId": "062112df-e9b1-4249-f874-8dde9f81f5a2"
      },
      "outputs": [
        {
          "data": {
            "text/plain": [
              "Index(['eventDate', 'year', 'month', 'day', 'habitat', 'countryCode',\n",
              "       'scientificName', 'kingdom', 'phylum', 'class', 'order', 'family',\n",
              "       'genus', 'specificEpithet', 'hasCoordinate', 'species',\n",
              "       'iucnRedListCategory', 'substrate', 'latitude', 'longitude',\n",
              "       'coorUncert', 'observationID', 'region', 'district', 'filename',\n",
              "       'category_id', 'metaSubstrate', 'poisonous', 'elevation', 'landcover',\n",
              "       'biogeographicalRegion', 'data'],\n",
              "      dtype='object')"
            ]
          },
          "execution_count": 10,
          "metadata": {},
          "output_type": "execute_result"
        }
      ],
      "source": [
        "subset_df.columns"
      ]
    },
    {
      "cell_type": "code",
      "execution_count": 11,
      "metadata": {
        "colab": {
          "base_uri": "https://localhost:8080/",
          "height": 424
        },
        "id": "OduEAkwd9lHm",
        "outputId": "929cc9d4-ebfd-4307-ea62-741cf7ff8840"
      },
      "outputs": [
        {
          "data": {
            "text/html": [
              "<div>\n",
              "<style scoped>\n",
              "    .dataframe tbody tr th:only-of-type {\n",
              "        vertical-align: middle;\n",
              "    }\n",
              "\n",
              "    .dataframe tbody tr th {\n",
              "        vertical-align: top;\n",
              "    }\n",
              "\n",
              "    .dataframe thead th {\n",
              "        text-align: right;\n",
              "    }\n",
              "</style>\n",
              "<table border=\"1\" class=\"dataframe\">\n",
              "  <thead>\n",
              "    <tr style=\"text-align: right;\">\n",
              "      <th></th>\n",
              "      <th>filename</th>\n",
              "      <th>embeddings</th>\n",
              "    </tr>\n",
              "  </thead>\n",
              "  <tbody>\n",
              "    <tr>\n",
              "      <th>0</th>\n",
              "      <td>0-3052832307.JPG</td>\n",
              "      <td>[-1.2559032440185547, 1.8512070178985596, -0.2...</td>\n",
              "    </tr>\n",
              "    <tr>\n",
              "      <th>1</th>\n",
              "      <td>0-3061954303.JPG</td>\n",
              "      <td>[-1.6616631746292114, -0.033579133450984955, -...</td>\n",
              "    </tr>\n",
              "    <tr>\n",
              "      <th>2</th>\n",
              "      <td>1-3061954303.JPG</td>\n",
              "      <td>[0.09439272433519363, 0.09596756845712662, -0....</td>\n",
              "    </tr>\n",
              "    <tr>\n",
              "      <th>3</th>\n",
              "      <td>2-3061954303.JPG</td>\n",
              "      <td>[1.1593152284622192, 0.2725003957748413, -0.39...</td>\n",
              "    </tr>\n",
              "    <tr>\n",
              "      <th>4</th>\n",
              "      <td>3-3061954303.JPG</td>\n",
              "      <td>[0.10036885738372803, 1.0950580835342407, 0.41...</td>\n",
              "    </tr>\n",
              "    <tr>\n",
              "      <th>...</th>\n",
              "      <td>...</td>\n",
              "      <td>...</td>\n",
              "    </tr>\n",
              "    <tr>\n",
              "      <th>695</th>\n",
              "      <td>0-2864912308.JPG</td>\n",
              "      <td>[0.12116563320159912, 0.6529977917671204, -0.3...</td>\n",
              "    </tr>\n",
              "    <tr>\n",
              "      <th>696</th>\n",
              "      <td>1-3005502302.JPG</td>\n",
              "      <td>[0.08340801298618317, 1.1956936120986938, -0.7...</td>\n",
              "    </tr>\n",
              "    <tr>\n",
              "      <th>697</th>\n",
              "      <td>2-3005502302.JPG</td>\n",
              "      <td>[0.35695040225982666, 0.791736900806427, -0.65...</td>\n",
              "    </tr>\n",
              "    <tr>\n",
              "      <th>698</th>\n",
              "      <td>3-3005502302.JPG</td>\n",
              "      <td>[-0.5019737482070923, -1.1750932931900024, -2....</td>\n",
              "    </tr>\n",
              "    <tr>\n",
              "      <th>699</th>\n",
              "      <td>6-3005502302.JPG</td>\n",
              "      <td>[0.9633592367172241, 1.579319715499878, 0.1009...</td>\n",
              "    </tr>\n",
              "  </tbody>\n",
              "</table>\n",
              "<p>700 rows × 2 columns</p>\n",
              "</div>"
            ],
            "text/plain": [
              "             filename                                         embeddings\n",
              "0    0-3052832307.JPG  [-1.2559032440185547, 1.8512070178985596, -0.2...\n",
              "1    0-3061954303.JPG  [-1.6616631746292114, -0.033579133450984955, -...\n",
              "2    1-3061954303.JPG  [0.09439272433519363, 0.09596756845712662, -0....\n",
              "3    2-3061954303.JPG  [1.1593152284622192, 0.2725003957748413, -0.39...\n",
              "4    3-3061954303.JPG  [0.10036885738372803, 1.0950580835342407, 0.41...\n",
              "..                ...                                                ...\n",
              "695  0-2864912308.JPG  [0.12116563320159912, 0.6529977917671204, -0.3...\n",
              "696  1-3005502302.JPG  [0.08340801298618317, 1.1956936120986938, -0.7...\n",
              "697  2-3005502302.JPG  [0.35695040225982666, 0.791736900806427, -0.65...\n",
              "698  3-3005502302.JPG  [-0.5019737482070923, -1.1750932931900024, -2....\n",
              "699  6-3005502302.JPG  [0.9633592367172241, 1.579319715499878, 0.1009...\n",
              "\n",
              "[700 rows x 2 columns]"
            ]
          },
          "metadata": {},
          "output_type": "display_data"
        }
      ],
      "source": [
        "embed_sub_df = subset_df[[\"filename\"]].copy()\n",
        "embed_sub_df.head()\n",
        "embed_sub_df[\"embeddings\"] = embeddings.cpu().tolist()\n",
        "display(embed_sub_df[[\"filename\", \"embeddings\"]])"
      ]
    },
    {
      "cell_type": "code",
      "execution_count": 12,
      "metadata": {
        "id": "rlUy_gDuD9la"
      },
      "outputs": [
        {
          "name": "stdout",
          "output_type": "stream",
          "text": [
            "Fri May  9 22:56:01 EDT 2025\n"
          ]
        }
      ],
      "source": [
        "import os\n",
        "from pathlib import Path\n",
        "\n",
        "# get list of stored filed in cloud bucket\n",
        "root = Path(os.path.expanduser(\"~\"))\n",
        "! date\n",
        "\n",
        "# write to parquet\n",
        "project_path = f\"{root}/p-dsgt_clef2025-0/shared/fungiclef\"\n",
        "output_path = f\"{project_path}/temp/embeddings/subset_train_embeddings.parquet\"\n",
        "# make dir if not exist\n",
        "Path(output_path).parent.mkdir(parents=True, exist_ok=True)\n",
        "embed_sub_df.to_parquet(output_path)"
      ]
    },
    {
      "cell_type": "code",
      "execution_count": 13,
      "metadata": {
        "colab": {
          "base_uri": "https://localhost:8080/",
          "height": 206
        },
        "id": "-IQ6RaXbETYd",
        "outputId": "2022ee71-aea4-466c-9a96-cb9f9a185883"
      },
      "outputs": [
        {
          "data": {
            "text/html": [
              "<div>\n",
              "<style scoped>\n",
              "    .dataframe tbody tr th:only-of-type {\n",
              "        vertical-align: middle;\n",
              "    }\n",
              "\n",
              "    .dataframe tbody tr th {\n",
              "        vertical-align: top;\n",
              "    }\n",
              "\n",
              "    .dataframe thead th {\n",
              "        text-align: right;\n",
              "    }\n",
              "</style>\n",
              "<table border=\"1\" class=\"dataframe\">\n",
              "  <thead>\n",
              "    <tr style=\"text-align: right;\">\n",
              "      <th></th>\n",
              "      <th>filename</th>\n",
              "      <th>embeddings</th>\n",
              "    </tr>\n",
              "  </thead>\n",
              "  <tbody>\n",
              "    <tr>\n",
              "      <th>0</th>\n",
              "      <td>0-3052832307.JPG</td>\n",
              "      <td>[-1.2559032440185547, 1.8512070178985596, -0.2...</td>\n",
              "    </tr>\n",
              "    <tr>\n",
              "      <th>1</th>\n",
              "      <td>0-3061954303.JPG</td>\n",
              "      <td>[-1.6616631746292114, -0.033579133450984955, -...</td>\n",
              "    </tr>\n",
              "    <tr>\n",
              "      <th>2</th>\n",
              "      <td>1-3061954303.JPG</td>\n",
              "      <td>[0.09439272433519363, 0.09596756845712662, -0....</td>\n",
              "    </tr>\n",
              "    <tr>\n",
              "      <th>3</th>\n",
              "      <td>2-3061954303.JPG</td>\n",
              "      <td>[1.1593152284622192, 0.2725003957748413, -0.39...</td>\n",
              "    </tr>\n",
              "    <tr>\n",
              "      <th>4</th>\n",
              "      <td>3-3061954303.JPG</td>\n",
              "      <td>[0.10036885738372803, 1.0950580835342407, 0.41...</td>\n",
              "    </tr>\n",
              "  </tbody>\n",
              "</table>\n",
              "</div>"
            ],
            "text/plain": [
              "           filename                                         embeddings\n",
              "0  0-3052832307.JPG  [-1.2559032440185547, 1.8512070178985596, -0.2...\n",
              "1  0-3061954303.JPG  [-1.6616631746292114, -0.033579133450984955, -...\n",
              "2  1-3061954303.JPG  [0.09439272433519363, 0.09596756845712662, -0....\n",
              "3  2-3061954303.JPG  [1.1593152284622192, 0.2725003957748413, -0.39...\n",
              "4  3-3061954303.JPG  [0.10036885738372803, 1.0950580835342407, 0.41..."
            ]
          },
          "execution_count": 13,
          "metadata": {},
          "output_type": "execute_result"
        }
      ],
      "source": [
        "# read embed data\n",
        "embed_df = pd.read_parquet(output_path)\n",
        "embed_df.head()"
      ]
    },
    {
      "cell_type": "markdown",
      "metadata": {
        "id": "ceuEA6VaE-nm"
      },
      "source": [
        "### run embed pipeline on entire training data"
      ]
    },
    {
      "cell_type": "code",
      "execution_count": 14,
      "metadata": {
        "colab": {
          "base_uri": "https://localhost:8080/",
          "height": 903,
          "referenced_widgets": [
            "429feba0cefd4203ba68df40d51e06f9",
            "48688b7e01374ce59525805a15ec493d",
            "4dabc5dafa074b51a0d83347f9f2d887",
            "46e643d332be49f8bbb813c4b9b52088",
            "0427db1b7e444344bd40c351f5749a89",
            "8f6f673e7afa4e21ad4a52acaff11c15",
            "091de08e67e14573a38d472719539da1",
            "d31c4a8845fb4181981508f018ba60ed",
            "430ec2a19c2847e59cd318c4cd1f789f",
            "c0917d7e2043416db2d131c15a5acf1a",
            "a8c6fffb42054a43b7eb74a335062379"
          ]
        },
        "id": "9CuX1wgXFIwv",
        "outputId": "0f426a89-4985-4f79-a1ca-ca61eff86f71"
      },
      "outputs": [
        {
          "name": "stderr",
          "output_type": "stream",
          "text": [
            "/storage/home/hcoda1/9/mgustineli3/clef/fungiclef-2025/.venv/lib/python3.10/site-packages/lightning_fabric/plugins/environments/slurm.py:204: The `srun` command is available on your system but is not used. HINT: If your intention is to run Lightning on SLURM, prepend your python command with `srun` like so: srun python3.10 /storage/home/hcoda1/9/mgustineli3/clef/fungicle ...\n",
            "Using default `ModelCheckpoint`. Consider installing `litmodels` package to enable `LitModelCheckpoint` for automatic upload to the Lightning model registry.\n",
            "GPU available: True (cuda), used: True\n",
            "TPU available: False, using: 0 TPU cores\n",
            "HPU available: False, using: 0 HPUs\n",
            "LOCAL_RANK: 0 - CUDA_VISIBLE_DEVICES: [0]\n"
          ]
        },
        {
          "data": {
            "application/vnd.jupyter.widget-view+json": {
              "model_id": "e09007018b244838b3b3d2d2cf996306",
              "version_major": 2,
              "version_minor": 0
            },
            "text/plain": [
              "Predicting: |          | 0/? [00:00<?, ?it/s]"
            ]
          },
          "metadata": {},
          "output_type": "display_data"
        }
      ],
      "source": [
        "# extract embeddings\n",
        "embeddings = pl_trainer_pipeline(\n",
        "    train_df,\n",
        "    batch_size=64,\n",
        "    cpu_count=2,\n",
        ")"
      ]
    },
    {
      "cell_type": "code",
      "execution_count": 15,
      "metadata": {
        "id": "tX4gbiZ-FQ6X"
      },
      "outputs": [
        {
          "data": {
            "text/plain": [
              "torch.Size([7819, 768])"
            ]
          },
          "execution_count": 15,
          "metadata": {},
          "output_type": "execute_result"
        }
      ],
      "source": [
        "embeddings.shape"
      ]
    },
    {
      "cell_type": "code",
      "execution_count": 16,
      "metadata": {
        "colab": {
          "base_uri": "https://localhost:8080/",
          "height": 424
        },
        "id": "Vr85ZGzQFX9p",
        "outputId": "929cc9d4-ebfd-4307-ea62-741cf7ff8840"
      },
      "outputs": [
        {
          "data": {
            "text/html": [
              "<div>\n",
              "<style scoped>\n",
              "    .dataframe tbody tr th:only-of-type {\n",
              "        vertical-align: middle;\n",
              "    }\n",
              "\n",
              "    .dataframe tbody tr th {\n",
              "        vertical-align: top;\n",
              "    }\n",
              "\n",
              "    .dataframe thead th {\n",
              "        text-align: right;\n",
              "    }\n",
              "</style>\n",
              "<table border=\"1\" class=\"dataframe\">\n",
              "  <thead>\n",
              "    <tr style=\"text-align: right;\">\n",
              "      <th></th>\n",
              "      <th>filename</th>\n",
              "      <th>embeddings</th>\n",
              "    </tr>\n",
              "  </thead>\n",
              "  <tbody>\n",
              "    <tr>\n",
              "      <th>0</th>\n",
              "      <td>0-3052832307.JPG</td>\n",
              "      <td>[-1.2559032440185547, 1.8512070178985596, -0.2...</td>\n",
              "    </tr>\n",
              "    <tr>\n",
              "      <th>1</th>\n",
              "      <td>0-3061954303.JPG</td>\n",
              "      <td>[-1.6616631746292114, -0.033579133450984955, -...</td>\n",
              "    </tr>\n",
              "    <tr>\n",
              "      <th>2</th>\n",
              "      <td>1-3061954303.JPG</td>\n",
              "      <td>[0.09439272433519363, 0.09596756845712662, -0....</td>\n",
              "    </tr>\n",
              "    <tr>\n",
              "      <th>3</th>\n",
              "      <td>2-3061954303.JPG</td>\n",
              "      <td>[1.1593152284622192, 0.2725003957748413, -0.39...</td>\n",
              "    </tr>\n",
              "    <tr>\n",
              "      <th>4</th>\n",
              "      <td>3-3061954303.JPG</td>\n",
              "      <td>[0.10036885738372803, 1.0950580835342407, 0.41...</td>\n",
              "    </tr>\n",
              "    <tr>\n",
              "      <th>...</th>\n",
              "      <td>...</td>\n",
              "      <td>...</td>\n",
              "    </tr>\n",
              "    <tr>\n",
              "      <th>7814</th>\n",
              "      <td>0-4100093368.JPG</td>\n",
              "      <td>[-0.8721289038658142, 1.655833125114441, 0.139...</td>\n",
              "    </tr>\n",
              "    <tr>\n",
              "      <th>7815</th>\n",
              "      <td>2-4100093368.JPG</td>\n",
              "      <td>[-0.47504621744155884, 1.323290228843689, 0.90...</td>\n",
              "    </tr>\n",
              "    <tr>\n",
              "      <th>7816</th>\n",
              "      <td>2-3429079314.JPG</td>\n",
              "      <td>[0.8044366240501404, 1.585023045539856, 0.8527...</td>\n",
              "    </tr>\n",
              "    <tr>\n",
              "      <th>7817</th>\n",
              "      <td>0-4847339663.JPG</td>\n",
              "      <td>[-1.722570538520813, 1.0407721996307373, 0.565...</td>\n",
              "    </tr>\n",
              "    <tr>\n",
              "      <th>7818</th>\n",
              "      <td>1-4847339663.JPG</td>\n",
              "      <td>[-0.6208100914955139, 0.3884004056453705, 1.23...</td>\n",
              "    </tr>\n",
              "  </tbody>\n",
              "</table>\n",
              "<p>7819 rows × 2 columns</p>\n",
              "</div>"
            ],
            "text/plain": [
              "              filename                                         embeddings\n",
              "0     0-3052832307.JPG  [-1.2559032440185547, 1.8512070178985596, -0.2...\n",
              "1     0-3061954303.JPG  [-1.6616631746292114, -0.033579133450984955, -...\n",
              "2     1-3061954303.JPG  [0.09439272433519363, 0.09596756845712662, -0....\n",
              "3     2-3061954303.JPG  [1.1593152284622192, 0.2725003957748413, -0.39...\n",
              "4     3-3061954303.JPG  [0.10036885738372803, 1.0950580835342407, 0.41...\n",
              "...                ...                                                ...\n",
              "7814  0-4100093368.JPG  [-0.8721289038658142, 1.655833125114441, 0.139...\n",
              "7815  2-4100093368.JPG  [-0.47504621744155884, 1.323290228843689, 0.90...\n",
              "7816  2-3429079314.JPG  [0.8044366240501404, 1.585023045539856, 0.8527...\n",
              "7817  0-4847339663.JPG  [-1.722570538520813, 1.0407721996307373, 0.565...\n",
              "7818  1-4847339663.JPG  [-0.6208100914955139, 0.3884004056453705, 1.23...\n",
              "\n",
              "[7819 rows x 2 columns]"
            ]
          },
          "metadata": {},
          "output_type": "display_data"
        }
      ],
      "source": [
        "embed_train_df = train_df[[\"filename\"]].copy()\n",
        "embed_train_df.head()\n",
        "embed_train_df[\"embeddings\"] = embeddings.cpu().tolist()\n",
        "display(embed_train_df[[\"filename\", \"embeddings\"]])"
      ]
    },
    {
      "cell_type": "code",
      "execution_count": 17,
      "metadata": {
        "id": "k-eRe8hmFX9r"
      },
      "outputs": [],
      "source": [
        "# write to parquet\n",
        "output_path = f\"{project_path}/temp/embeddings/train_embeddings.parquet\"\n",
        "# make dir if not exist\n",
        "Path(output_path).parent.mkdir(parents=True, exist_ok=True)\n",
        "embed_train_df.to_parquet(output_path)"
      ]
    },
    {
      "cell_type": "code",
      "execution_count": 18,
      "metadata": {
        "colab": {
          "base_uri": "https://localhost:8080/",
          "height": 206
        },
        "id": "wd3pPw1sFX9s",
        "outputId": "2022ee71-aea4-466c-9a96-cb9f9a185883"
      },
      "outputs": [
        {
          "data": {
            "text/html": [
              "<div>\n",
              "<style scoped>\n",
              "    .dataframe tbody tr th:only-of-type {\n",
              "        vertical-align: middle;\n",
              "    }\n",
              "\n",
              "    .dataframe tbody tr th {\n",
              "        vertical-align: top;\n",
              "    }\n",
              "\n",
              "    .dataframe thead th {\n",
              "        text-align: right;\n",
              "    }\n",
              "</style>\n",
              "<table border=\"1\" class=\"dataframe\">\n",
              "  <thead>\n",
              "    <tr style=\"text-align: right;\">\n",
              "      <th></th>\n",
              "      <th>filename</th>\n",
              "      <th>embeddings</th>\n",
              "    </tr>\n",
              "  </thead>\n",
              "  <tbody>\n",
              "    <tr>\n",
              "      <th>0</th>\n",
              "      <td>0-3052832307.JPG</td>\n",
              "      <td>[-1.2559032440185547, 1.8512070178985596, -0.2...</td>\n",
              "    </tr>\n",
              "    <tr>\n",
              "      <th>1</th>\n",
              "      <td>0-3061954303.JPG</td>\n",
              "      <td>[-1.6616631746292114, -0.033579133450984955, -...</td>\n",
              "    </tr>\n",
              "    <tr>\n",
              "      <th>2</th>\n",
              "      <td>1-3061954303.JPG</td>\n",
              "      <td>[0.09439272433519363, 0.09596756845712662, -0....</td>\n",
              "    </tr>\n",
              "    <tr>\n",
              "      <th>3</th>\n",
              "      <td>2-3061954303.JPG</td>\n",
              "      <td>[1.1593152284622192, 0.2725003957748413, -0.39...</td>\n",
              "    </tr>\n",
              "    <tr>\n",
              "      <th>4</th>\n",
              "      <td>3-3061954303.JPG</td>\n",
              "      <td>[0.10036885738372803, 1.0950580835342407, 0.41...</td>\n",
              "    </tr>\n",
              "  </tbody>\n",
              "</table>\n",
              "</div>"
            ],
            "text/plain": [
              "           filename                                         embeddings\n",
              "0  0-3052832307.JPG  [-1.2559032440185547, 1.8512070178985596, -0.2...\n",
              "1  0-3061954303.JPG  [-1.6616631746292114, -0.033579133450984955, -...\n",
              "2  1-3061954303.JPG  [0.09439272433519363, 0.09596756845712662, -0....\n",
              "3  2-3061954303.JPG  [1.1593152284622192, 0.2725003957748413, -0.39...\n",
              "4  3-3061954303.JPG  [0.10036885738372803, 1.0950580835342407, 0.41..."
            ]
          },
          "execution_count": 18,
          "metadata": {},
          "output_type": "execute_result"
        }
      ],
      "source": [
        "# read embed data\n",
        "embed_df = pd.read_parquet(output_path)\n",
        "embed_df.head()"
      ]
    },
    {
      "cell_type": "code",
      "execution_count": 19,
      "metadata": {
        "id": "UHIC2S1oFQ33"
      },
      "outputs": [
        {
          "data": {
            "text/plain": [
              "7819"
            ]
          },
          "execution_count": 19,
          "metadata": {},
          "output_type": "execute_result"
        }
      ],
      "source": [
        "len(embed_df)"
      ]
    },
    {
      "cell_type": "code",
      "execution_count": null,
      "metadata": {},
      "outputs": [],
      "source": []
    }
  ],
  "metadata": {
    "accelerator": "GPU",
    "colab": {
      "gpuType": "T4",
      "provenance": []
    },
    "kernelspec": {
      "display_name": ".venv",
      "language": "python",
      "name": "python3"
    },
    "language_info": {
      "codemirror_mode": {
        "name": "ipython",
        "version": 3
      },
      "file_extension": ".py",
      "mimetype": "text/x-python",
      "name": "python",
      "nbconvert_exporter": "python",
      "pygments_lexer": "ipython3",
      "version": "3.10.10"
    },
    "widgets": {
      "application/vnd.jupyter.widget-state+json": {
        "0427db1b7e444344bd40c351f5749a89": {
          "model_module": "@jupyter-widgets/base",
          "model_module_version": "1.2.0",
          "model_name": "LayoutModel",
          "state": {
            "_model_module": "@jupyter-widgets/base",
            "_model_module_version": "1.2.0",
            "_model_name": "LayoutModel",
            "_view_count": null,
            "_view_module": "@jupyter-widgets/base",
            "_view_module_version": "1.2.0",
            "_view_name": "LayoutView",
            "align_content": null,
            "align_items": null,
            "align_self": null,
            "border": null,
            "bottom": null,
            "display": "inline-flex",
            "flex": null,
            "flex_flow": "row wrap",
            "grid_area": null,
            "grid_auto_columns": null,
            "grid_auto_flow": null,
            "grid_auto_rows": null,
            "grid_column": null,
            "grid_gap": null,
            "grid_row": null,
            "grid_template_areas": null,
            "grid_template_columns": null,
            "grid_template_rows": null,
            "height": null,
            "justify_content": null,
            "justify_items": null,
            "left": null,
            "margin": null,
            "max_height": null,
            "max_width": null,
            "min_height": null,
            "min_width": null,
            "object_fit": null,
            "object_position": null,
            "order": null,
            "overflow": null,
            "overflow_x": null,
            "overflow_y": null,
            "padding": null,
            "right": null,
            "top": null,
            "visibility": null,
            "width": "100%"
          }
        },
        "091de08e67e14573a38d472719539da1": {
          "model_module": "@jupyter-widgets/controls",
          "model_module_version": "1.5.0",
          "model_name": "DescriptionStyleModel",
          "state": {
            "_model_module": "@jupyter-widgets/controls",
            "_model_module_version": "1.5.0",
            "_model_name": "DescriptionStyleModel",
            "_view_count": null,
            "_view_module": "@jupyter-widgets/base",
            "_view_module_version": "1.2.0",
            "_view_name": "StyleView",
            "description_width": ""
          }
        },
        "092f6c5b96914b7fac4d8ef89b289543": {
          "model_module": "@jupyter-widgets/controls",
          "model_module_version": "1.5.0",
          "model_name": "DescriptionStyleModel",
          "state": {
            "_model_module": "@jupyter-widgets/controls",
            "_model_module_version": "1.5.0",
            "_model_name": "DescriptionStyleModel",
            "_view_count": null,
            "_view_module": "@jupyter-widgets/base",
            "_view_module_version": "1.2.0",
            "_view_name": "StyleView",
            "description_width": ""
          }
        },
        "11e555d47103463495f31333b2109aa0": {
          "model_module": "@jupyter-widgets/controls",
          "model_module_version": "1.5.0",
          "model_name": "HBoxModel",
          "state": {
            "_dom_classes": [],
            "_model_module": "@jupyter-widgets/controls",
            "_model_module_version": "1.5.0",
            "_model_name": "HBoxModel",
            "_view_count": null,
            "_view_module": "@jupyter-widgets/controls",
            "_view_module_version": "1.5.0",
            "_view_name": "HBoxView",
            "box_style": "",
            "children": [
              "IPY_MODEL_66dc5d9e00f5467c87b176f890f2fb29",
              "IPY_MODEL_44909153e2ec43279e3f3112e6dd54e6",
              "IPY_MODEL_c08f2a7b744247a2b7d909826f3f4ac9"
            ],
            "layout": "IPY_MODEL_a7ea90d4e8dd4d888c5d6b8caa24b8e6"
          }
        },
        "3430c5c320f948f785abb5c7b3f5a26b": {
          "model_module": "@jupyter-widgets/base",
          "model_module_version": "1.2.0",
          "model_name": "LayoutModel",
          "state": {
            "_model_module": "@jupyter-widgets/base",
            "_model_module_version": "1.2.0",
            "_model_name": "LayoutModel",
            "_view_count": null,
            "_view_module": "@jupyter-widgets/base",
            "_view_module_version": "1.2.0",
            "_view_name": "LayoutView",
            "align_content": null,
            "align_items": null,
            "align_self": null,
            "border": null,
            "bottom": null,
            "display": null,
            "flex": null,
            "flex_flow": null,
            "grid_area": null,
            "grid_auto_columns": null,
            "grid_auto_flow": null,
            "grid_auto_rows": null,
            "grid_column": null,
            "grid_gap": null,
            "grid_row": null,
            "grid_template_areas": null,
            "grid_template_columns": null,
            "grid_template_rows": null,
            "height": null,
            "justify_content": null,
            "justify_items": null,
            "left": null,
            "margin": null,
            "max_height": null,
            "max_width": null,
            "min_height": null,
            "min_width": null,
            "object_fit": null,
            "object_position": null,
            "order": null,
            "overflow": null,
            "overflow_x": null,
            "overflow_y": null,
            "padding": null,
            "right": null,
            "top": null,
            "visibility": null,
            "width": null
          }
        },
        "429feba0cefd4203ba68df40d51e06f9": {
          "model_module": "@jupyter-widgets/controls",
          "model_module_version": "1.5.0",
          "model_name": "HBoxModel",
          "state": {
            "_dom_classes": [],
            "_model_module": "@jupyter-widgets/controls",
            "_model_module_version": "1.5.0",
            "_model_name": "HBoxModel",
            "_view_count": null,
            "_view_module": "@jupyter-widgets/controls",
            "_view_module_version": "1.5.0",
            "_view_name": "HBoxView",
            "box_style": "",
            "children": [
              "IPY_MODEL_48688b7e01374ce59525805a15ec493d",
              "IPY_MODEL_4dabc5dafa074b51a0d83347f9f2d887",
              "IPY_MODEL_46e643d332be49f8bbb813c4b9b52088"
            ],
            "layout": "IPY_MODEL_0427db1b7e444344bd40c351f5749a89"
          }
        },
        "430ec2a19c2847e59cd318c4cd1f789f": {
          "model_module": "@jupyter-widgets/controls",
          "model_module_version": "1.5.0",
          "model_name": "ProgressStyleModel",
          "state": {
            "_model_module": "@jupyter-widgets/controls",
            "_model_module_version": "1.5.0",
            "_model_name": "ProgressStyleModel",
            "_view_count": null,
            "_view_module": "@jupyter-widgets/base",
            "_view_module_version": "1.2.0",
            "_view_name": "StyleView",
            "bar_color": null,
            "description_width": ""
          }
        },
        "44909153e2ec43279e3f3112e6dd54e6": {
          "model_module": "@jupyter-widgets/controls",
          "model_module_version": "1.5.0",
          "model_name": "FloatProgressModel",
          "state": {
            "_dom_classes": [],
            "_model_module": "@jupyter-widgets/controls",
            "_model_module_version": "1.5.0",
            "_model_name": "FloatProgressModel",
            "_view_count": null,
            "_view_module": "@jupyter-widgets/controls",
            "_view_module_version": "1.5.0",
            "_view_name": "ProgressView",
            "bar_style": "success",
            "description": "",
            "description_tooltip": null,
            "layout": "IPY_MODEL_aada9797cd7f4572a7745bf9135960dd",
            "max": 11,
            "min": 0,
            "orientation": "horizontal",
            "style": "IPY_MODEL_fed7d5aa88ba4068a88953d81e73ad2a",
            "value": 11
          }
        },
        "46e643d332be49f8bbb813c4b9b52088": {
          "model_module": "@jupyter-widgets/controls",
          "model_module_version": "1.5.0",
          "model_name": "HTMLModel",
          "state": {
            "_dom_classes": [],
            "_model_module": "@jupyter-widgets/controls",
            "_model_module_version": "1.5.0",
            "_model_name": "HTMLModel",
            "_view_count": null,
            "_view_module": "@jupyter-widgets/controls",
            "_view_module_version": "1.5.0",
            "_view_name": "HTMLView",
            "description": "",
            "description_tooltip": null,
            "layout": "IPY_MODEL_c0917d7e2043416db2d131c15a5acf1a",
            "placeholder": "​",
            "style": "IPY_MODEL_a8c6fffb42054a43b7eb74a335062379",
            "value": " 100/123 [10:02&lt;02:18,  0.17it/s]"
          }
        },
        "48688b7e01374ce59525805a15ec493d": {
          "model_module": "@jupyter-widgets/controls",
          "model_module_version": "1.5.0",
          "model_name": "HTMLModel",
          "state": {
            "_dom_classes": [],
            "_model_module": "@jupyter-widgets/controls",
            "_model_module_version": "1.5.0",
            "_model_name": "HTMLModel",
            "_view_count": null,
            "_view_module": "@jupyter-widgets/controls",
            "_view_module_version": "1.5.0",
            "_view_name": "HTMLView",
            "description": "",
            "description_tooltip": null,
            "layout": "IPY_MODEL_8f6f673e7afa4e21ad4a52acaff11c15",
            "placeholder": "​",
            "style": "IPY_MODEL_091de08e67e14573a38d472719539da1",
            "value": "Predicting DataLoader 0:  81%"
          }
        },
        "4dabc5dafa074b51a0d83347f9f2d887": {
          "model_module": "@jupyter-widgets/controls",
          "model_module_version": "1.5.0",
          "model_name": "FloatProgressModel",
          "state": {
            "_dom_classes": [],
            "_model_module": "@jupyter-widgets/controls",
            "_model_module_version": "1.5.0",
            "_model_name": "FloatProgressModel",
            "_view_count": null,
            "_view_module": "@jupyter-widgets/controls",
            "_view_module_version": "1.5.0",
            "_view_name": "ProgressView",
            "bar_style": "",
            "description": "",
            "description_tooltip": null,
            "layout": "IPY_MODEL_d31c4a8845fb4181981508f018ba60ed",
            "max": 123,
            "min": 0,
            "orientation": "horizontal",
            "style": "IPY_MODEL_430ec2a19c2847e59cd318c4cd1f789f",
            "value": 100
          }
        },
        "66dc5d9e00f5467c87b176f890f2fb29": {
          "model_module": "@jupyter-widgets/controls",
          "model_module_version": "1.5.0",
          "model_name": "HTMLModel",
          "state": {
            "_dom_classes": [],
            "_model_module": "@jupyter-widgets/controls",
            "_model_module_version": "1.5.0",
            "_model_name": "HTMLModel",
            "_view_count": null,
            "_view_module": "@jupyter-widgets/controls",
            "_view_module_version": "1.5.0",
            "_view_name": "HTMLView",
            "description": "",
            "description_tooltip": null,
            "layout": "IPY_MODEL_71498d5becee463fb59adcb0425332da",
            "placeholder": "​",
            "style": "IPY_MODEL_092f6c5b96914b7fac4d8ef89b289543",
            "value": "Predicting DataLoader 0: 100%"
          }
        },
        "71498d5becee463fb59adcb0425332da": {
          "model_module": "@jupyter-widgets/base",
          "model_module_version": "1.2.0",
          "model_name": "LayoutModel",
          "state": {
            "_model_module": "@jupyter-widgets/base",
            "_model_module_version": "1.2.0",
            "_model_name": "LayoutModel",
            "_view_count": null,
            "_view_module": "@jupyter-widgets/base",
            "_view_module_version": "1.2.0",
            "_view_name": "LayoutView",
            "align_content": null,
            "align_items": null,
            "align_self": null,
            "border": null,
            "bottom": null,
            "display": null,
            "flex": null,
            "flex_flow": null,
            "grid_area": null,
            "grid_auto_columns": null,
            "grid_auto_flow": null,
            "grid_auto_rows": null,
            "grid_column": null,
            "grid_gap": null,
            "grid_row": null,
            "grid_template_areas": null,
            "grid_template_columns": null,
            "grid_template_rows": null,
            "height": null,
            "justify_content": null,
            "justify_items": null,
            "left": null,
            "margin": null,
            "max_height": null,
            "max_width": null,
            "min_height": null,
            "min_width": null,
            "object_fit": null,
            "object_position": null,
            "order": null,
            "overflow": null,
            "overflow_x": null,
            "overflow_y": null,
            "padding": null,
            "right": null,
            "top": null,
            "visibility": null,
            "width": null
          }
        },
        "82ec41f21da644888a44f69802c41a23": {
          "model_module": "@jupyter-widgets/controls",
          "model_module_version": "1.5.0",
          "model_name": "DescriptionStyleModel",
          "state": {
            "_model_module": "@jupyter-widgets/controls",
            "_model_module_version": "1.5.0",
            "_model_name": "DescriptionStyleModel",
            "_view_count": null,
            "_view_module": "@jupyter-widgets/base",
            "_view_module_version": "1.2.0",
            "_view_name": "StyleView",
            "description_width": ""
          }
        },
        "8f6f673e7afa4e21ad4a52acaff11c15": {
          "model_module": "@jupyter-widgets/base",
          "model_module_version": "1.2.0",
          "model_name": "LayoutModel",
          "state": {
            "_model_module": "@jupyter-widgets/base",
            "_model_module_version": "1.2.0",
            "_model_name": "LayoutModel",
            "_view_count": null,
            "_view_module": "@jupyter-widgets/base",
            "_view_module_version": "1.2.0",
            "_view_name": "LayoutView",
            "align_content": null,
            "align_items": null,
            "align_self": null,
            "border": null,
            "bottom": null,
            "display": null,
            "flex": null,
            "flex_flow": null,
            "grid_area": null,
            "grid_auto_columns": null,
            "grid_auto_flow": null,
            "grid_auto_rows": null,
            "grid_column": null,
            "grid_gap": null,
            "grid_row": null,
            "grid_template_areas": null,
            "grid_template_columns": null,
            "grid_template_rows": null,
            "height": null,
            "justify_content": null,
            "justify_items": null,
            "left": null,
            "margin": null,
            "max_height": null,
            "max_width": null,
            "min_height": null,
            "min_width": null,
            "object_fit": null,
            "object_position": null,
            "order": null,
            "overflow": null,
            "overflow_x": null,
            "overflow_y": null,
            "padding": null,
            "right": null,
            "top": null,
            "visibility": null,
            "width": null
          }
        },
        "a7ea90d4e8dd4d888c5d6b8caa24b8e6": {
          "model_module": "@jupyter-widgets/base",
          "model_module_version": "1.2.0",
          "model_name": "LayoutModel",
          "state": {
            "_model_module": "@jupyter-widgets/base",
            "_model_module_version": "1.2.0",
            "_model_name": "LayoutModel",
            "_view_count": null,
            "_view_module": "@jupyter-widgets/base",
            "_view_module_version": "1.2.0",
            "_view_name": "LayoutView",
            "align_content": null,
            "align_items": null,
            "align_self": null,
            "border": null,
            "bottom": null,
            "display": "inline-flex",
            "flex": null,
            "flex_flow": "row wrap",
            "grid_area": null,
            "grid_auto_columns": null,
            "grid_auto_flow": null,
            "grid_auto_rows": null,
            "grid_column": null,
            "grid_gap": null,
            "grid_row": null,
            "grid_template_areas": null,
            "grid_template_columns": null,
            "grid_template_rows": null,
            "height": null,
            "justify_content": null,
            "justify_items": null,
            "left": null,
            "margin": null,
            "max_height": null,
            "max_width": null,
            "min_height": null,
            "min_width": null,
            "object_fit": null,
            "object_position": null,
            "order": null,
            "overflow": null,
            "overflow_x": null,
            "overflow_y": null,
            "padding": null,
            "right": null,
            "top": null,
            "visibility": null,
            "width": "100%"
          }
        },
        "a8c6fffb42054a43b7eb74a335062379": {
          "model_module": "@jupyter-widgets/controls",
          "model_module_version": "1.5.0",
          "model_name": "DescriptionStyleModel",
          "state": {
            "_model_module": "@jupyter-widgets/controls",
            "_model_module_version": "1.5.0",
            "_model_name": "DescriptionStyleModel",
            "_view_count": null,
            "_view_module": "@jupyter-widgets/base",
            "_view_module_version": "1.2.0",
            "_view_name": "StyleView",
            "description_width": ""
          }
        },
        "aada9797cd7f4572a7745bf9135960dd": {
          "model_module": "@jupyter-widgets/base",
          "model_module_version": "1.2.0",
          "model_name": "LayoutModel",
          "state": {
            "_model_module": "@jupyter-widgets/base",
            "_model_module_version": "1.2.0",
            "_model_name": "LayoutModel",
            "_view_count": null,
            "_view_module": "@jupyter-widgets/base",
            "_view_module_version": "1.2.0",
            "_view_name": "LayoutView",
            "align_content": null,
            "align_items": null,
            "align_self": null,
            "border": null,
            "bottom": null,
            "display": null,
            "flex": "2",
            "flex_flow": null,
            "grid_area": null,
            "grid_auto_columns": null,
            "grid_auto_flow": null,
            "grid_auto_rows": null,
            "grid_column": null,
            "grid_gap": null,
            "grid_row": null,
            "grid_template_areas": null,
            "grid_template_columns": null,
            "grid_template_rows": null,
            "height": null,
            "justify_content": null,
            "justify_items": null,
            "left": null,
            "margin": null,
            "max_height": null,
            "max_width": null,
            "min_height": null,
            "min_width": null,
            "object_fit": null,
            "object_position": null,
            "order": null,
            "overflow": null,
            "overflow_x": null,
            "overflow_y": null,
            "padding": null,
            "right": null,
            "top": null,
            "visibility": null,
            "width": null
          }
        },
        "c08f2a7b744247a2b7d909826f3f4ac9": {
          "model_module": "@jupyter-widgets/controls",
          "model_module_version": "1.5.0",
          "model_name": "HTMLModel",
          "state": {
            "_dom_classes": [],
            "_model_module": "@jupyter-widgets/controls",
            "_model_module_version": "1.5.0",
            "_model_name": "HTMLModel",
            "_view_count": null,
            "_view_module": "@jupyter-widgets/controls",
            "_view_module_version": "1.5.0",
            "_view_name": "HTMLView",
            "description": "",
            "description_tooltip": null,
            "layout": "IPY_MODEL_3430c5c320f948f785abb5c7b3f5a26b",
            "placeholder": "​",
            "style": "IPY_MODEL_82ec41f21da644888a44f69802c41a23",
            "value": " 11/11 [01:02&lt;00:00,  0.18it/s]"
          }
        },
        "c0917d7e2043416db2d131c15a5acf1a": {
          "model_module": "@jupyter-widgets/base",
          "model_module_version": "1.2.0",
          "model_name": "LayoutModel",
          "state": {
            "_model_module": "@jupyter-widgets/base",
            "_model_module_version": "1.2.0",
            "_model_name": "LayoutModel",
            "_view_count": null,
            "_view_module": "@jupyter-widgets/base",
            "_view_module_version": "1.2.0",
            "_view_name": "LayoutView",
            "align_content": null,
            "align_items": null,
            "align_self": null,
            "border": null,
            "bottom": null,
            "display": null,
            "flex": null,
            "flex_flow": null,
            "grid_area": null,
            "grid_auto_columns": null,
            "grid_auto_flow": null,
            "grid_auto_rows": null,
            "grid_column": null,
            "grid_gap": null,
            "grid_row": null,
            "grid_template_areas": null,
            "grid_template_columns": null,
            "grid_template_rows": null,
            "height": null,
            "justify_content": null,
            "justify_items": null,
            "left": null,
            "margin": null,
            "max_height": null,
            "max_width": null,
            "min_height": null,
            "min_width": null,
            "object_fit": null,
            "object_position": null,
            "order": null,
            "overflow": null,
            "overflow_x": null,
            "overflow_y": null,
            "padding": null,
            "right": null,
            "top": null,
            "visibility": null,
            "width": null
          }
        },
        "d31c4a8845fb4181981508f018ba60ed": {
          "model_module": "@jupyter-widgets/base",
          "model_module_version": "1.2.0",
          "model_name": "LayoutModel",
          "state": {
            "_model_module": "@jupyter-widgets/base",
            "_model_module_version": "1.2.0",
            "_model_name": "LayoutModel",
            "_view_count": null,
            "_view_module": "@jupyter-widgets/base",
            "_view_module_version": "1.2.0",
            "_view_name": "LayoutView",
            "align_content": null,
            "align_items": null,
            "align_self": null,
            "border": null,
            "bottom": null,
            "display": null,
            "flex": "2",
            "flex_flow": null,
            "grid_area": null,
            "grid_auto_columns": null,
            "grid_auto_flow": null,
            "grid_auto_rows": null,
            "grid_column": null,
            "grid_gap": null,
            "grid_row": null,
            "grid_template_areas": null,
            "grid_template_columns": null,
            "grid_template_rows": null,
            "height": null,
            "justify_content": null,
            "justify_items": null,
            "left": null,
            "margin": null,
            "max_height": null,
            "max_width": null,
            "min_height": null,
            "min_width": null,
            "object_fit": null,
            "object_position": null,
            "order": null,
            "overflow": null,
            "overflow_x": null,
            "overflow_y": null,
            "padding": null,
            "right": null,
            "top": null,
            "visibility": null,
            "width": null
          }
        },
        "fed7d5aa88ba4068a88953d81e73ad2a": {
          "model_module": "@jupyter-widgets/controls",
          "model_module_version": "1.5.0",
          "model_name": "ProgressStyleModel",
          "state": {
            "_model_module": "@jupyter-widgets/controls",
            "_model_module_version": "1.5.0",
            "_model_name": "ProgressStyleModel",
            "_view_count": null,
            "_view_module": "@jupyter-widgets/base",
            "_view_module_version": "1.2.0",
            "_view_name": "StyleView",
            "bar_color": null,
            "description_width": ""
          }
        }
      }
    }
  },
  "nbformat": 4,
  "nbformat_minor": 0
}
