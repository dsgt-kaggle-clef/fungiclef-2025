{
  "cells": [
    {
      "cell_type": "markdown",
      "metadata": {
        "id": "U7ACPTgbWEZ3"
      },
      "source": [
        "# DINOv2 model\n",
        "Notebook to check implementation of the DINOv2 model from PlantCLEF\n",
        "\n",
        "https://github.com/dsgt-kaggle-clef/fungiclef-2025/blob/main/fungiclef/preprocessing/embedding.py"
      ]
    },
    {
      "cell_type": "code",
      "execution_count": null,
      "metadata": {},
      "outputs": [
        {
          "ename": "",
          "evalue": "",
          "output_type": "error",
          "traceback": [
            "\u001b[1;31mThe kernel failed to start as the Python Environment '.venv (Python 3.10.10)' is no longer available. Consider selecting another kernel or refreshing the list of Python Environments."
          ]
        }
      ],
      "source": [
        "%load_ext autoreload\n",
        "%autoreload 2"
      ]
    },
    {
      "cell_type": "code",
      "execution_count": null,
      "metadata": {
        "colab": {
          "base_uri": "https://localhost:8080/",
          "height": 36
        },
        "id": "gswEjZ3ooKD-",
        "outputId": "c8fe3917-d2f6-4f5f-d626-f2726570b588"
      },
      "outputs": [],
      "source": [
        "from fungiclef.config import get_device\n",
        "\n",
        "device = get_device()\n",
        "device"
      ]
    },
    {
      "cell_type": "code",
      "execution_count": null,
      "metadata": {
        "id": "JvMwokvM5Nfp"
      },
      "outputs": [],
      "source": [
        "import timm\n",
        "import torch\n",
        "import pytorch_lightning as pl\n",
        "from fungiclef.model_setup import setup_fine_tuned_model\n",
        "\n",
        "\n",
        "class DINOv2LightningModel(pl.LightningModule):\n",
        "    \"\"\"PyTorch Lightning module for extracting embeddings from a fine-tuned DINOv2 model.\"\"\"\n",
        "\n",
        "    def __init__(\n",
        "        self,\n",
        "        model_path: str = setup_fine_tuned_model(),\n",
        "        model_name: str = \"vit_base_patch14_reg4_dinov2.lvd142m\",\n",
        "    ):\n",
        "        super().__init__()\n",
        "        self.model_device = get_device()\n",
        "        self.num_classes = 7806  # total plant species\n",
        "\n",
        "        # load the fine-tuned model\n",
        "        self.model = timm.create_model(\n",
        "            model_name,\n",
        "            pretrained=False,\n",
        "            num_classes=self.num_classes,\n",
        "            checkpoint_path=model_path,\n",
        "        )\n",
        "\n",
        "        # load transform\n",
        "        self.data_config = timm.data.resolve_model_data_config(self.model)\n",
        "        self.transform = timm.data.create_transform(\n",
        "            **self.data_config, is_training=False\n",
        "        )\n",
        "\n",
        "        # move model to device\n",
        "        self.model.to(self.model_device)\n",
        "        self.model.eval()\n",
        "\n",
        "    def forward(self, batch):\n",
        "        \"\"\"Extract [CLS] token embeddings using fine-tuned model.\"\"\"\n",
        "        with torch.no_grad():\n",
        "            batch = batch.to(self.model_device)  # move to device\n",
        "\n",
        "            if batch.dim() == 5:  # (B, grid_size**2, C, H, W)\n",
        "                B, G, C, H, W = batch.shape\n",
        "                batch = batch.view(B * G, C, H, W)  # (B * grid_size**2, C, H, W)\n",
        "            # forward pass\n",
        "            features = self.model.forward_features(batch)\n",
        "            embeddings = features[:, 0, :]  # extract [CLS] token\n",
        "\n",
        "        return embeddings\n",
        "\n",
        "    def predict_step(self, batch, batch_idx):\n",
        "        \"\"\"Runs inference on batch and returns embeddings and top-K logits.\"\"\"\n",
        "        return self(batch)  # [CLS] token embeddings"
      ]
    },
    {
      "cell_type": "code",
      "execution_count": null,
      "metadata": {
        "id": "iYiJB_iW26aM"
      },
      "outputs": [],
      "source": [
        "from torch.utils.data import Dataset, DataLoader\n",
        "from torchvision.transforms import ToTensor\n",
        "from fungiclef.serde import deserialize_image\n",
        "\n",
        "\n",
        "class FungiDataset(Dataset):\n",
        "    def __init__(self, df, transform=None, col_name: str = \"data\"):\n",
        "        self.df = df\n",
        "        self.transform = transform\n",
        "        self.col_name = col_name\n",
        "\n",
        "    def __len__(self):\n",
        "        return len(self.df)\n",
        "\n",
        "    def __getitem__(self, idx):\n",
        "        img_bytes = self.df.iloc[idx][self.col_name]\n",
        "        img = deserialize_image(img_bytes)\n",
        "\n",
        "        if self.transform:\n",
        "            return self.transform(img)  # (C, H, W)\n",
        "        return ToTensor()(img)  # (C, H, W)\n",
        "\n",
        "\n",
        "class FungiDataModule(pl.LightningDataModule):\n",
        "    \"\"\"LightningDataModule for handling dataset loading and preparation.\"\"\"\n",
        "\n",
        "    def __init__(\n",
        "        self,\n",
        "        pandas_df,\n",
        "        batch_size=32,\n",
        "        num_workers=4,\n",
        "    ):\n",
        "        super().__init__()\n",
        "        self.pandas_df = pandas_df\n",
        "        self.batch_size = batch_size\n",
        "        self.num_workers = num_workers\n",
        "\n",
        "    def setup(self, stage=None):\n",
        "        \"\"\"Set up dataset and transformations.\"\"\"\n",
        "\n",
        "        self.model = DINOv2LightningModel()\n",
        "        self.dataset = FungiDataset(\n",
        "            self.pandas_df,\n",
        "            self.model.transform,  # Use the model's transform\n",
        "        )\n",
        "\n",
        "    def predict_dataloader(self):\n",
        "        \"\"\"Returns DataLoader for inference.\"\"\"\n",
        "        return DataLoader(\n",
        "            self.dataset,\n",
        "            batch_size=self.batch_size,\n",
        "            shuffle=False,\n",
        "            num_workers=self.num_workers,\n",
        "            persistent_workers=True,\n",
        "        )"
      ]
    },
    {
      "cell_type": "code",
      "execution_count": null,
      "metadata": {
        "id": "aVLCNvkZ6IpS"
      },
      "outputs": [],
      "source": [
        "import pandas as pd\n",
        "\n",
        "\n",
        "def pl_trainer_pipeline(\n",
        "    pandas_df: pd.DataFrame,\n",
        "    batch_size: int = 32,\n",
        "    cpu_count: int = 1,\n",
        "):\n",
        "    \"\"\"Pipeline to extract embeddings and top-k logits using PyTorch Lightning.\"\"\"\n",
        "\n",
        "    # initialize DataModule\n",
        "    data_module = FungiDataModule(\n",
        "        pandas_df,\n",
        "        batch_size=batch_size,\n",
        "        num_workers=cpu_count,\n",
        "    )\n",
        "\n",
        "    # initialize Model\n",
        "    model = DINOv2LightningModel()\n",
        "\n",
        "    # define Trainer (inference mode)\n",
        "    trainer = pl.Trainer(\n",
        "        accelerator=get_device(),\n",
        "        devices=1,\n",
        "        enable_progress_bar=True,\n",
        "    )\n",
        "\n",
        "    # run inference\n",
        "    predictions = trainer.predict(model, datamodule=data_module)\n",
        "\n",
        "    all_embeddings = []\n",
        "    for batch in predictions:\n",
        "        embed_batch = batch  # batch: List[embeddings]\n",
        "        all_embeddings.append(embed_batch)  # keep embeddings as tensors\n",
        "\n",
        "    # convert embeddings to tensor\n",
        "    embeddings = torch.cat(all_embeddings, dim=0)  # shape: [len(df), grid_size**2, 768]\n",
        "    return embeddings"
      ]
    },
    {
      "cell_type": "code",
      "execution_count": null,
      "metadata": {
        "colab": {
          "base_uri": "https://localhost:8080/",
          "height": 429
        },
        "id": "-AQilFbY3VbO",
        "outputId": "cbc79f26-6c78-4de6-a6c3-30a0e67f148c"
      },
      "outputs": [],
      "source": [
        "data_path = \"~/p-dsgt_clef2025-0/shared/fungiclef/data\"\n",
        "train_path = f\"{data_path}/dataset/processed/train_serialized.parquet\"\n",
        "\n",
        "# read train dataframe\n",
        "train_df = pd.read_parquet(train_path)\n",
        "train_df.head(5)"
      ]
    },
    {
      "cell_type": "code",
      "execution_count": null,
      "metadata": {},
      "outputs": [],
      "source": [
        "subset_df = train_df.head(700)  # 10% of the data for testing the pipeline\n",
        "len(subset_df)"
      ]
    },
    {
      "cell_type": "markdown",
      "metadata": {
        "id": "IHjfP1DZB9j1"
      },
      "source": [
        "### run embedding pipeline"
      ]
    },
    {
      "cell_type": "code",
      "execution_count": null,
      "metadata": {
        "colab": {
          "base_uri": "https://localhost:8080/",
          "height": 161,
          "referenced_widgets": [
            "11e555d47103463495f31333b2109aa0",
            "66dc5d9e00f5467c87b176f890f2fb29",
            "44909153e2ec43279e3f3112e6dd54e6",
            "c08f2a7b744247a2b7d909826f3f4ac9",
            "a7ea90d4e8dd4d888c5d6b8caa24b8e6",
            "71498d5becee463fb59adcb0425332da",
            "092f6c5b96914b7fac4d8ef89b289543",
            "aada9797cd7f4572a7745bf9135960dd",
            "fed7d5aa88ba4068a88953d81e73ad2a",
            "3430c5c320f948f785abb5c7b3f5a26b",
            "82ec41f21da644888a44f69802c41a23"
          ]
        },
        "id": "5NChh379e_mZ",
        "outputId": "b9955c34-cb86-4b12-a432-dbf75152cc8e"
      },
      "outputs": [],
      "source": [
        "# extract embeddings\n",
        "embeddings = pl_trainer_pipeline(\n",
        "    subset_df,\n",
        "    batch_size=64,\n",
        "    cpu_count=2,\n",
        ")"
      ]
    },
    {
      "cell_type": "code",
      "execution_count": null,
      "metadata": {
        "colab": {
          "base_uri": "https://localhost:8080/"
        },
        "id": "9F23MwE19MlC",
        "outputId": "a40a6602-3838-4207-9b37-5aed5c429c33"
      },
      "outputs": [],
      "source": [
        "embeddings.shape"
      ]
    },
    {
      "cell_type": "code",
      "execution_count": null,
      "metadata": {
        "colab": {
          "base_uri": "https://localhost:8080/"
        },
        "id": "rjzHHznCC6Ai",
        "outputId": "062112df-e9b1-4249-f874-8dde9f81f5a2"
      },
      "outputs": [],
      "source": [
        "subset_df.columns"
      ]
    },
    {
      "cell_type": "code",
      "execution_count": null,
      "metadata": {
        "colab": {
          "base_uri": "https://localhost:8080/",
          "height": 424
        },
        "id": "OduEAkwd9lHm",
        "outputId": "929cc9d4-ebfd-4307-ea62-741cf7ff8840"
      },
      "outputs": [],
      "source": [
        "embed_sub_df = subset_df[[\"filename\"]].copy()\n",
        "embed_sub_df.head()\n",
        "embed_sub_df[\"embeddings\"] = embeddings.cpu().tolist()\n",
        "display(embed_sub_df[[\"filename\", \"embeddings\"]])"
      ]
    },
    {
      "cell_type": "code",
      "execution_count": null,
      "metadata": {
        "id": "rlUy_gDuD9la"
      },
      "outputs": [],
      "source": [
        "import os\n",
        "from pathlib import Path\n",
        "\n",
        "# get list of stored filed in cloud bucket\n",
        "root = Path(os.path.expanduser(\"~\"))\n",
        "! date\n",
        "\n",
        "# write to parquet\n",
        "project_path = f\"{root}/p-dsgt_clef2025-0/shared/fungiclef\"\n",
        "output_path = f\"{project_path}/temp/embeddings/subset_train_embeddings.parquet\"\n",
        "# make dir if not exist\n",
        "Path(output_path).parent.mkdir(parents=True, exist_ok=True)\n",
        "embed_sub_df.to_parquet(output_path)"
      ]
    },
    {
      "cell_type": "code",
      "execution_count": null,
      "metadata": {
        "colab": {
          "base_uri": "https://localhost:8080/",
          "height": 206
        },
        "id": "-IQ6RaXbETYd",
        "outputId": "2022ee71-aea4-466c-9a96-cb9f9a185883"
      },
      "outputs": [],
      "source": [
        "# read embed data\n",
        "embed_df = pd.read_parquet(output_path)\n",
        "embed_df.head()"
      ]
    },
    {
      "cell_type": "markdown",
      "metadata": {
        "id": "ceuEA6VaE-nm"
      },
      "source": [
        "### run embed pipeline on entire training data"
      ]
    },
    {
      "cell_type": "code",
      "execution_count": null,
      "metadata": {
        "colab": {
          "base_uri": "https://localhost:8080/",
          "height": 903,
          "referenced_widgets": [
            "429feba0cefd4203ba68df40d51e06f9",
            "48688b7e01374ce59525805a15ec493d",
            "4dabc5dafa074b51a0d83347f9f2d887",
            "46e643d332be49f8bbb813c4b9b52088",
            "0427db1b7e444344bd40c351f5749a89",
            "8f6f673e7afa4e21ad4a52acaff11c15",
            "091de08e67e14573a38d472719539da1",
            "d31c4a8845fb4181981508f018ba60ed",
            "430ec2a19c2847e59cd318c4cd1f789f",
            "c0917d7e2043416db2d131c15a5acf1a",
            "a8c6fffb42054a43b7eb74a335062379"
          ]
        },
        "id": "9CuX1wgXFIwv",
        "outputId": "0f426a89-4985-4f79-a1ca-ca61eff86f71"
      },
      "outputs": [],
      "source": [
        "# extract embeddings\n",
        "embeddings = pl_trainer_pipeline(\n",
        "    train_df,\n",
        "    batch_size=64,\n",
        "    cpu_count=2,\n",
        ")"
      ]
    },
    {
      "cell_type": "code",
      "execution_count": null,
      "metadata": {
        "id": "tX4gbiZ-FQ6X"
      },
      "outputs": [],
      "source": [
        "embeddings.shape"
      ]
    },
    {
      "cell_type": "code",
      "execution_count": null,
      "metadata": {
        "colab": {
          "base_uri": "https://localhost:8080/",
          "height": 424
        },
        "id": "Vr85ZGzQFX9p",
        "outputId": "929cc9d4-ebfd-4307-ea62-741cf7ff8840"
      },
      "outputs": [],
      "source": [
        "embed_train_df = train_df[[\"filename\"]].copy()\n",
        "embed_train_df.head()\n",
        "embed_train_df[\"embeddings\"] = embeddings.cpu().tolist()\n",
        "display(embed_train_df[[\"filename\", \"embeddings\"]])"
      ]
    },
    {
      "cell_type": "code",
      "execution_count": null,
      "metadata": {
        "id": "k-eRe8hmFX9r"
      },
      "outputs": [],
      "source": [
        "# write to parquet\n",
        "output_path = f\"{project_path}/temp/embeddings/train_embeddings.parquet\"\n",
        "# make dir if not exist\n",
        "Path(output_path).parent.mkdir(parents=True, exist_ok=True)\n",
        "embed_train_df.to_parquet(output_path)"
      ]
    },
    {
      "cell_type": "code",
      "execution_count": null,
      "metadata": {
        "colab": {
          "base_uri": "https://localhost:8080/",
          "height": 206
        },
        "id": "wd3pPw1sFX9s",
        "outputId": "2022ee71-aea4-466c-9a96-cb9f9a185883"
      },
      "outputs": [],
      "source": [
        "# read embed data\n",
        "embed_df = pd.read_parquet(output_path)\n",
        "embed_df.head()"
      ]
    },
    {
      "cell_type": "code",
      "execution_count": null,
      "metadata": {
        "id": "UHIC2S1oFQ33"
      },
      "outputs": [],
      "source": [
        "len(embed_df), len(train_df)"
      ]
    },
    {
      "cell_type": "code",
      "execution_count": null,
      "metadata": {},
      "outputs": [],
      "source": []
    }
  ],
  "metadata": {
    "accelerator": "GPU",
    "colab": {
      "gpuType": "T4",
      "provenance": []
    },
    "kernelspec": {
      "display_name": ".venv",
      "language": "python",
      "name": "python3"
    },
    "language_info": {
      "codemirror_mode": {
        "name": "ipython",
        "version": 3
      },
      "file_extension": ".py",
      "mimetype": "text/x-python",
      "name": "python",
      "nbconvert_exporter": "python",
      "pygments_lexer": "ipython3",
      "version": "3.10.10"
    },
    "widgets": {
      "application/vnd.jupyter.widget-state+json": {
        "0427db1b7e444344bd40c351f5749a89": {
          "model_module": "@jupyter-widgets/base",
          "model_module_version": "1.2.0",
          "model_name": "LayoutModel",
          "state": {
            "_model_module": "@jupyter-widgets/base",
            "_model_module_version": "1.2.0",
            "_model_name": "LayoutModel",
            "_view_count": null,
            "_view_module": "@jupyter-widgets/base",
            "_view_module_version": "1.2.0",
            "_view_name": "LayoutView",
            "align_content": null,
            "align_items": null,
            "align_self": null,
            "border": null,
            "bottom": null,
            "display": "inline-flex",
            "flex": null,
            "flex_flow": "row wrap",
            "grid_area": null,
            "grid_auto_columns": null,
            "grid_auto_flow": null,
            "grid_auto_rows": null,
            "grid_column": null,
            "grid_gap": null,
            "grid_row": null,
            "grid_template_areas": null,
            "grid_template_columns": null,
            "grid_template_rows": null,
            "height": null,
            "justify_content": null,
            "justify_items": null,
            "left": null,
            "margin": null,
            "max_height": null,
            "max_width": null,
            "min_height": null,
            "min_width": null,
            "object_fit": null,
            "object_position": null,
            "order": null,
            "overflow": null,
            "overflow_x": null,
            "overflow_y": null,
            "padding": null,
            "right": null,
            "top": null,
            "visibility": null,
            "width": "100%"
          }
        },
        "091de08e67e14573a38d472719539da1": {
          "model_module": "@jupyter-widgets/controls",
          "model_module_version": "1.5.0",
          "model_name": "DescriptionStyleModel",
          "state": {
            "_model_module": "@jupyter-widgets/controls",
            "_model_module_version": "1.5.0",
            "_model_name": "DescriptionStyleModel",
            "_view_count": null,
            "_view_module": "@jupyter-widgets/base",
            "_view_module_version": "1.2.0",
            "_view_name": "StyleView",
            "description_width": ""
          }
        },
        "092f6c5b96914b7fac4d8ef89b289543": {
          "model_module": "@jupyter-widgets/controls",
          "model_module_version": "1.5.0",
          "model_name": "DescriptionStyleModel",
          "state": {
            "_model_module": "@jupyter-widgets/controls",
            "_model_module_version": "1.5.0",
            "_model_name": "DescriptionStyleModel",
            "_view_count": null,
            "_view_module": "@jupyter-widgets/base",
            "_view_module_version": "1.2.0",
            "_view_name": "StyleView",
            "description_width": ""
          }
        },
        "11e555d47103463495f31333b2109aa0": {
          "model_module": "@jupyter-widgets/controls",
          "model_module_version": "1.5.0",
          "model_name": "HBoxModel",
          "state": {
            "_dom_classes": [],
            "_model_module": "@jupyter-widgets/controls",
            "_model_module_version": "1.5.0",
            "_model_name": "HBoxModel",
            "_view_count": null,
            "_view_module": "@jupyter-widgets/controls",
            "_view_module_version": "1.5.0",
            "_view_name": "HBoxView",
            "box_style": "",
            "children": [
              "IPY_MODEL_66dc5d9e00f5467c87b176f890f2fb29",
              "IPY_MODEL_44909153e2ec43279e3f3112e6dd54e6",
              "IPY_MODEL_c08f2a7b744247a2b7d909826f3f4ac9"
            ],
            "layout": "IPY_MODEL_a7ea90d4e8dd4d888c5d6b8caa24b8e6"
          }
        },
        "3430c5c320f948f785abb5c7b3f5a26b": {
          "model_module": "@jupyter-widgets/base",
          "model_module_version": "1.2.0",
          "model_name": "LayoutModel",
          "state": {
            "_model_module": "@jupyter-widgets/base",
            "_model_module_version": "1.2.0",
            "_model_name": "LayoutModel",
            "_view_count": null,
            "_view_module": "@jupyter-widgets/base",
            "_view_module_version": "1.2.0",
            "_view_name": "LayoutView",
            "align_content": null,
            "align_items": null,
            "align_self": null,
            "border": null,
            "bottom": null,
            "display": null,
            "flex": null,
            "flex_flow": null,
            "grid_area": null,
            "grid_auto_columns": null,
            "grid_auto_flow": null,
            "grid_auto_rows": null,
            "grid_column": null,
            "grid_gap": null,
            "grid_row": null,
            "grid_template_areas": null,
            "grid_template_columns": null,
            "grid_template_rows": null,
            "height": null,
            "justify_content": null,
            "justify_items": null,
            "left": null,
            "margin": null,
            "max_height": null,
            "max_width": null,
            "min_height": null,
            "min_width": null,
            "object_fit": null,
            "object_position": null,
            "order": null,
            "overflow": null,
            "overflow_x": null,
            "overflow_y": null,
            "padding": null,
            "right": null,
            "top": null,
            "visibility": null,
            "width": null
          }
        },
        "429feba0cefd4203ba68df40d51e06f9": {
          "model_module": "@jupyter-widgets/controls",
          "model_module_version": "1.5.0",
          "model_name": "HBoxModel",
          "state": {
            "_dom_classes": [],
            "_model_module": "@jupyter-widgets/controls",
            "_model_module_version": "1.5.0",
            "_model_name": "HBoxModel",
            "_view_count": null,
            "_view_module": "@jupyter-widgets/controls",
            "_view_module_version": "1.5.0",
            "_view_name": "HBoxView",
            "box_style": "",
            "children": [
              "IPY_MODEL_48688b7e01374ce59525805a15ec493d",
              "IPY_MODEL_4dabc5dafa074b51a0d83347f9f2d887",
              "IPY_MODEL_46e643d332be49f8bbb813c4b9b52088"
            ],
            "layout": "IPY_MODEL_0427db1b7e444344bd40c351f5749a89"
          }
        },
        "430ec2a19c2847e59cd318c4cd1f789f": {
          "model_module": "@jupyter-widgets/controls",
          "model_module_version": "1.5.0",
          "model_name": "ProgressStyleModel",
          "state": {
            "_model_module": "@jupyter-widgets/controls",
            "_model_module_version": "1.5.0",
            "_model_name": "ProgressStyleModel",
            "_view_count": null,
            "_view_module": "@jupyter-widgets/base",
            "_view_module_version": "1.2.0",
            "_view_name": "StyleView",
            "bar_color": null,
            "description_width": ""
          }
        },
        "44909153e2ec43279e3f3112e6dd54e6": {
          "model_module": "@jupyter-widgets/controls",
          "model_module_version": "1.5.0",
          "model_name": "FloatProgressModel",
          "state": {
            "_dom_classes": [],
            "_model_module": "@jupyter-widgets/controls",
            "_model_module_version": "1.5.0",
            "_model_name": "FloatProgressModel",
            "_view_count": null,
            "_view_module": "@jupyter-widgets/controls",
            "_view_module_version": "1.5.0",
            "_view_name": "ProgressView",
            "bar_style": "success",
            "description": "",
            "description_tooltip": null,
            "layout": "IPY_MODEL_aada9797cd7f4572a7745bf9135960dd",
            "max": 11,
            "min": 0,
            "orientation": "horizontal",
            "style": "IPY_MODEL_fed7d5aa88ba4068a88953d81e73ad2a",
            "value": 11
          }
        },
        "46e643d332be49f8bbb813c4b9b52088": {
          "model_module": "@jupyter-widgets/controls",
          "model_module_version": "1.5.0",
          "model_name": "HTMLModel",
          "state": {
            "_dom_classes": [],
            "_model_module": "@jupyter-widgets/controls",
            "_model_module_version": "1.5.0",
            "_model_name": "HTMLModel",
            "_view_count": null,
            "_view_module": "@jupyter-widgets/controls",
            "_view_module_version": "1.5.0",
            "_view_name": "HTMLView",
            "description": "",
            "description_tooltip": null,
            "layout": "IPY_MODEL_c0917d7e2043416db2d131c15a5acf1a",
            "placeholder": "​",
            "style": "IPY_MODEL_a8c6fffb42054a43b7eb74a335062379",
            "value": " 100/123 [10:02&lt;02:18,  0.17it/s]"
          }
        },
        "48688b7e01374ce59525805a15ec493d": {
          "model_module": "@jupyter-widgets/controls",
          "model_module_version": "1.5.0",
          "model_name": "HTMLModel",
          "state": {
            "_dom_classes": [],
            "_model_module": "@jupyter-widgets/controls",
            "_model_module_version": "1.5.0",
            "_model_name": "HTMLModel",
            "_view_count": null,
            "_view_module": "@jupyter-widgets/controls",
            "_view_module_version": "1.5.0",
            "_view_name": "HTMLView",
            "description": "",
            "description_tooltip": null,
            "layout": "IPY_MODEL_8f6f673e7afa4e21ad4a52acaff11c15",
            "placeholder": "​",
            "style": "IPY_MODEL_091de08e67e14573a38d472719539da1",
            "value": "Predicting DataLoader 0:  81%"
          }
        },
        "4dabc5dafa074b51a0d83347f9f2d887": {
          "model_module": "@jupyter-widgets/controls",
          "model_module_version": "1.5.0",
          "model_name": "FloatProgressModel",
          "state": {
            "_dom_classes": [],
            "_model_module": "@jupyter-widgets/controls",
            "_model_module_version": "1.5.0",
            "_model_name": "FloatProgressModel",
            "_view_count": null,
            "_view_module": "@jupyter-widgets/controls",
            "_view_module_version": "1.5.0",
            "_view_name": "ProgressView",
            "bar_style": "",
            "description": "",
            "description_tooltip": null,
            "layout": "IPY_MODEL_d31c4a8845fb4181981508f018ba60ed",
            "max": 123,
            "min": 0,
            "orientation": "horizontal",
            "style": "IPY_MODEL_430ec2a19c2847e59cd318c4cd1f789f",
            "value": 100
          }
        },
        "66dc5d9e00f5467c87b176f890f2fb29": {
          "model_module": "@jupyter-widgets/controls",
          "model_module_version": "1.5.0",
          "model_name": "HTMLModel",
          "state": {
            "_dom_classes": [],
            "_model_module": "@jupyter-widgets/controls",
            "_model_module_version": "1.5.0",
            "_model_name": "HTMLModel",
            "_view_count": null,
            "_view_module": "@jupyter-widgets/controls",
            "_view_module_version": "1.5.0",
            "_view_name": "HTMLView",
            "description": "",
            "description_tooltip": null,
            "layout": "IPY_MODEL_71498d5becee463fb59adcb0425332da",
            "placeholder": "​",
            "style": "IPY_MODEL_092f6c5b96914b7fac4d8ef89b289543",
            "value": "Predicting DataLoader 0: 100%"
          }
        },
        "71498d5becee463fb59adcb0425332da": {
          "model_module": "@jupyter-widgets/base",
          "model_module_version": "1.2.0",
          "model_name": "LayoutModel",
          "state": {
            "_model_module": "@jupyter-widgets/base",
            "_model_module_version": "1.2.0",
            "_model_name": "LayoutModel",
            "_view_count": null,
            "_view_module": "@jupyter-widgets/base",
            "_view_module_version": "1.2.0",
            "_view_name": "LayoutView",
            "align_content": null,
            "align_items": null,
            "align_self": null,
            "border": null,
            "bottom": null,
            "display": null,
            "flex": null,
            "flex_flow": null,
            "grid_area": null,
            "grid_auto_columns": null,
            "grid_auto_flow": null,
            "grid_auto_rows": null,
            "grid_column": null,
            "grid_gap": null,
            "grid_row": null,
            "grid_template_areas": null,
            "grid_template_columns": null,
            "grid_template_rows": null,
            "height": null,
            "justify_content": null,
            "justify_items": null,
            "left": null,
            "margin": null,
            "max_height": null,
            "max_width": null,
            "min_height": null,
            "min_width": null,
            "object_fit": null,
            "object_position": null,
            "order": null,
            "overflow": null,
            "overflow_x": null,
            "overflow_y": null,
            "padding": null,
            "right": null,
            "top": null,
            "visibility": null,
            "width": null
          }
        },
        "82ec41f21da644888a44f69802c41a23": {
          "model_module": "@jupyter-widgets/controls",
          "model_module_version": "1.5.0",
          "model_name": "DescriptionStyleModel",
          "state": {
            "_model_module": "@jupyter-widgets/controls",
            "_model_module_version": "1.5.0",
            "_model_name": "DescriptionStyleModel",
            "_view_count": null,
            "_view_module": "@jupyter-widgets/base",
            "_view_module_version": "1.2.0",
            "_view_name": "StyleView",
            "description_width": ""
          }
        },
        "8f6f673e7afa4e21ad4a52acaff11c15": {
          "model_module": "@jupyter-widgets/base",
          "model_module_version": "1.2.0",
          "model_name": "LayoutModel",
          "state": {
            "_model_module": "@jupyter-widgets/base",
            "_model_module_version": "1.2.0",
            "_model_name": "LayoutModel",
            "_view_count": null,
            "_view_module": "@jupyter-widgets/base",
            "_view_module_version": "1.2.0",
            "_view_name": "LayoutView",
            "align_content": null,
            "align_items": null,
            "align_self": null,
            "border": null,
            "bottom": null,
            "display": null,
            "flex": null,
            "flex_flow": null,
            "grid_area": null,
            "grid_auto_columns": null,
            "grid_auto_flow": null,
            "grid_auto_rows": null,
            "grid_column": null,
            "grid_gap": null,
            "grid_row": null,
            "grid_template_areas": null,
            "grid_template_columns": null,
            "grid_template_rows": null,
            "height": null,
            "justify_content": null,
            "justify_items": null,
            "left": null,
            "margin": null,
            "max_height": null,
            "max_width": null,
            "min_height": null,
            "min_width": null,
            "object_fit": null,
            "object_position": null,
            "order": null,
            "overflow": null,
            "overflow_x": null,
            "overflow_y": null,
            "padding": null,
            "right": null,
            "top": null,
            "visibility": null,
            "width": null
          }
        },
        "a7ea90d4e8dd4d888c5d6b8caa24b8e6": {
          "model_module": "@jupyter-widgets/base",
          "model_module_version": "1.2.0",
          "model_name": "LayoutModel",
          "state": {
            "_model_module": "@jupyter-widgets/base",
            "_model_module_version": "1.2.0",
            "_model_name": "LayoutModel",
            "_view_count": null,
            "_view_module": "@jupyter-widgets/base",
            "_view_module_version": "1.2.0",
            "_view_name": "LayoutView",
            "align_content": null,
            "align_items": null,
            "align_self": null,
            "border": null,
            "bottom": null,
            "display": "inline-flex",
            "flex": null,
            "flex_flow": "row wrap",
            "grid_area": null,
            "grid_auto_columns": null,
            "grid_auto_flow": null,
            "grid_auto_rows": null,
            "grid_column": null,
            "grid_gap": null,
            "grid_row": null,
            "grid_template_areas": null,
            "grid_template_columns": null,
            "grid_template_rows": null,
            "height": null,
            "justify_content": null,
            "justify_items": null,
            "left": null,
            "margin": null,
            "max_height": null,
            "max_width": null,
            "min_height": null,
            "min_width": null,
            "object_fit": null,
            "object_position": null,
            "order": null,
            "overflow": null,
            "overflow_x": null,
            "overflow_y": null,
            "padding": null,
            "right": null,
            "top": null,
            "visibility": null,
            "width": "100%"
          }
        },
        "a8c6fffb42054a43b7eb74a335062379": {
          "model_module": "@jupyter-widgets/controls",
          "model_module_version": "1.5.0",
          "model_name": "DescriptionStyleModel",
          "state": {
            "_model_module": "@jupyter-widgets/controls",
            "_model_module_version": "1.5.0",
            "_model_name": "DescriptionStyleModel",
            "_view_count": null,
            "_view_module": "@jupyter-widgets/base",
            "_view_module_version": "1.2.0",
            "_view_name": "StyleView",
            "description_width": ""
          }
        },
        "aada9797cd7f4572a7745bf9135960dd": {
          "model_module": "@jupyter-widgets/base",
          "model_module_version": "1.2.0",
          "model_name": "LayoutModel",
          "state": {
            "_model_module": "@jupyter-widgets/base",
            "_model_module_version": "1.2.0",
            "_model_name": "LayoutModel",
            "_view_count": null,
            "_view_module": "@jupyter-widgets/base",
            "_view_module_version": "1.2.0",
            "_view_name": "LayoutView",
            "align_content": null,
            "align_items": null,
            "align_self": null,
            "border": null,
            "bottom": null,
            "display": null,
            "flex": "2",
            "flex_flow": null,
            "grid_area": null,
            "grid_auto_columns": null,
            "grid_auto_flow": null,
            "grid_auto_rows": null,
            "grid_column": null,
            "grid_gap": null,
            "grid_row": null,
            "grid_template_areas": null,
            "grid_template_columns": null,
            "grid_template_rows": null,
            "height": null,
            "justify_content": null,
            "justify_items": null,
            "left": null,
            "margin": null,
            "max_height": null,
            "max_width": null,
            "min_height": null,
            "min_width": null,
            "object_fit": null,
            "object_position": null,
            "order": null,
            "overflow": null,
            "overflow_x": null,
            "overflow_y": null,
            "padding": null,
            "right": null,
            "top": null,
            "visibility": null,
            "width": null
          }
        },
        "c08f2a7b744247a2b7d909826f3f4ac9": {
          "model_module": "@jupyter-widgets/controls",
          "model_module_version": "1.5.0",
          "model_name": "HTMLModel",
          "state": {
            "_dom_classes": [],
            "_model_module": "@jupyter-widgets/controls",
            "_model_module_version": "1.5.0",
            "_model_name": "HTMLModel",
            "_view_count": null,
            "_view_module": "@jupyter-widgets/controls",
            "_view_module_version": "1.5.0",
            "_view_name": "HTMLView",
            "description": "",
            "description_tooltip": null,
            "layout": "IPY_MODEL_3430c5c320f948f785abb5c7b3f5a26b",
            "placeholder": "​",
            "style": "IPY_MODEL_82ec41f21da644888a44f69802c41a23",
            "value": " 11/11 [01:02&lt;00:00,  0.18it/s]"
          }
        },
        "c0917d7e2043416db2d131c15a5acf1a": {
          "model_module": "@jupyter-widgets/base",
          "model_module_version": "1.2.0",
          "model_name": "LayoutModel",
          "state": {
            "_model_module": "@jupyter-widgets/base",
            "_model_module_version": "1.2.0",
            "_model_name": "LayoutModel",
            "_view_count": null,
            "_view_module": "@jupyter-widgets/base",
            "_view_module_version": "1.2.0",
            "_view_name": "LayoutView",
            "align_content": null,
            "align_items": null,
            "align_self": null,
            "border": null,
            "bottom": null,
            "display": null,
            "flex": null,
            "flex_flow": null,
            "grid_area": null,
            "grid_auto_columns": null,
            "grid_auto_flow": null,
            "grid_auto_rows": null,
            "grid_column": null,
            "grid_gap": null,
            "grid_row": null,
            "grid_template_areas": null,
            "grid_template_columns": null,
            "grid_template_rows": null,
            "height": null,
            "justify_content": null,
            "justify_items": null,
            "left": null,
            "margin": null,
            "max_height": null,
            "max_width": null,
            "min_height": null,
            "min_width": null,
            "object_fit": null,
            "object_position": null,
            "order": null,
            "overflow": null,
            "overflow_x": null,
            "overflow_y": null,
            "padding": null,
            "right": null,
            "top": null,
            "visibility": null,
            "width": null
          }
        },
        "d31c4a8845fb4181981508f018ba60ed": {
          "model_module": "@jupyter-widgets/base",
          "model_module_version": "1.2.0",
          "model_name": "LayoutModel",
          "state": {
            "_model_module": "@jupyter-widgets/base",
            "_model_module_version": "1.2.0",
            "_model_name": "LayoutModel",
            "_view_count": null,
            "_view_module": "@jupyter-widgets/base",
            "_view_module_version": "1.2.0",
            "_view_name": "LayoutView",
            "align_content": null,
            "align_items": null,
            "align_self": null,
            "border": null,
            "bottom": null,
            "display": null,
            "flex": "2",
            "flex_flow": null,
            "grid_area": null,
            "grid_auto_columns": null,
            "grid_auto_flow": null,
            "grid_auto_rows": null,
            "grid_column": null,
            "grid_gap": null,
            "grid_row": null,
            "grid_template_areas": null,
            "grid_template_columns": null,
            "grid_template_rows": null,
            "height": null,
            "justify_content": null,
            "justify_items": null,
            "left": null,
            "margin": null,
            "max_height": null,
            "max_width": null,
            "min_height": null,
            "min_width": null,
            "object_fit": null,
            "object_position": null,
            "order": null,
            "overflow": null,
            "overflow_x": null,
            "overflow_y": null,
            "padding": null,
            "right": null,
            "top": null,
            "visibility": null,
            "width": null
          }
        },
        "fed7d5aa88ba4068a88953d81e73ad2a": {
          "model_module": "@jupyter-widgets/controls",
          "model_module_version": "1.5.0",
          "model_name": "ProgressStyleModel",
          "state": {
            "_model_module": "@jupyter-widgets/controls",
            "_model_module_version": "1.5.0",
            "_model_name": "ProgressStyleModel",
            "_view_count": null,
            "_view_module": "@jupyter-widgets/base",
            "_view_module_version": "1.2.0",
            "_view_name": "StyleView",
            "bar_color": null,
            "description_width": ""
          }
        }
      }
    }
  },
  "nbformat": 4,
  "nbformat_minor": 0
}
