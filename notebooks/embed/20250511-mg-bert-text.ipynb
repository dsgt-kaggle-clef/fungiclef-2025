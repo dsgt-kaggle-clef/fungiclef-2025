{
 "cells": [
  {
   "cell_type": "markdown",
   "id": "72ea4d2c",
   "metadata": {},
   "source": [
    "# ModernBERT text embeddings\n",
    "Notebook implementing ModernBERT to extract text embeddings of the metadata\n",
    "\n",
    "https://huggingface.co/answerdotai/ModernBERT-large"
   ]
  },
  {
   "cell_type": "code",
   "execution_count": 1,
   "id": "44eb24e9",
   "metadata": {},
   "outputs": [],
   "source": [
    "%load_ext autoreload\n",
    "%autoreload 2"
   ]
  },
  {
   "cell_type": "code",
   "execution_count": 2,
   "id": "6eb9ffdf",
   "metadata": {},
   "outputs": [
    {
     "data": {
      "text/plain": [
       "'cuda'"
      ]
     },
     "execution_count": 2,
     "metadata": {},
     "output_type": "execute_result"
    }
   ],
   "source": [
    "from fungiclef.config import get_device\n",
    "\n",
    "device = get_device()\n",
    "device"
   ]
  },
  {
   "cell_type": "code",
   "execution_count": 3,
   "id": "1247fe10",
   "metadata": {},
   "outputs": [
    {
     "name": "stdout",
     "output_type": "stream",
     "text": [
      "Sun May 11 21:55:14 EDT 2025\n"
     ]
    }
   ],
   "source": [
    "import os\n",
    "from pathlib import Path\n",
    "\n",
    "# get list of stored filed in cloud bucket\n",
    "root = Path(os.path.expanduser(\"~\"))\n",
    "! date"
   ]
  },
  {
   "cell_type": "code",
   "execution_count": 4,
   "id": "ecbd1ac8",
   "metadata": {},
   "outputs": [
    {
     "data": {
      "text/html": [
       "<div>\n",
       "<style scoped>\n",
       "    .dataframe tbody tr th:only-of-type {\n",
       "        vertical-align: middle;\n",
       "    }\n",
       "\n",
       "    .dataframe tbody tr th {\n",
       "        vertical-align: top;\n",
       "    }\n",
       "\n",
       "    .dataframe thead th {\n",
       "        text-align: right;\n",
       "    }\n",
       "</style>\n",
       "<table border=\"1\" class=\"dataframe\">\n",
       "  <thead>\n",
       "    <tr style=\"text-align: right;\">\n",
       "      <th></th>\n",
       "      <th>eventDate</th>\n",
       "      <th>year</th>\n",
       "      <th>month</th>\n",
       "      <th>day</th>\n",
       "      <th>habitat</th>\n",
       "      <th>countryCode</th>\n",
       "      <th>scientificName</th>\n",
       "      <th>kingdom</th>\n",
       "      <th>phylum</th>\n",
       "      <th>class</th>\n",
       "      <th>...</th>\n",
       "      <th>region</th>\n",
       "      <th>district</th>\n",
       "      <th>filename</th>\n",
       "      <th>category_id</th>\n",
       "      <th>metaSubstrate</th>\n",
       "      <th>poisonous</th>\n",
       "      <th>elevation</th>\n",
       "      <th>landcover</th>\n",
       "      <th>biogeographicalRegion</th>\n",
       "      <th>data</th>\n",
       "    </tr>\n",
       "  </thead>\n",
       "  <tbody>\n",
       "    <tr>\n",
       "      <th>0</th>\n",
       "      <td>2021-01-24</td>\n",
       "      <td>2021</td>\n",
       "      <td>1.0</td>\n",
       "      <td>24.0</td>\n",
       "      <td>Mixed woodland (with coniferous and deciduous ...</td>\n",
       "      <td>DK</td>\n",
       "      <td>Xylohypha ferruginosa (Corda) S.Hughes</td>\n",
       "      <td>Fungi</td>\n",
       "      <td>Ascomycota</td>\n",
       "      <td>Eurotiomycetes</td>\n",
       "      <td>...</td>\n",
       "      <td>Sjælland</td>\n",
       "      <td>Næstved</td>\n",
       "      <td>0-3052832307.JPG</td>\n",
       "      <td>2421</td>\n",
       "      <td>wood</td>\n",
       "      <td>0</td>\n",
       "      <td>0.0</td>\n",
       "      <td>16.0</td>\n",
       "      <td>continental</td>\n",
       "      <td>b'\\xff\\xd8\\xff\\xe0\\x00\\x10JFIF\\x00\\x01\\x01\\x00...</td>\n",
       "    </tr>\n",
       "    <tr>\n",
       "      <th>1</th>\n",
       "      <td>2021-02-27</td>\n",
       "      <td>2021</td>\n",
       "      <td>2.0</td>\n",
       "      <td>27.0</td>\n",
       "      <td>garden</td>\n",
       "      <td>DK</td>\n",
       "      <td>Comatricha alta Preuss, 1851</td>\n",
       "      <td>Protozoa</td>\n",
       "      <td>Mycetozoa</td>\n",
       "      <td>Myxomycetes</td>\n",
       "      <td>...</td>\n",
       "      <td>Hovedstaden</td>\n",
       "      <td>Gribskov</td>\n",
       "      <td>0-3061954303.JPG</td>\n",
       "      <td>386</td>\n",
       "      <td>wood</td>\n",
       "      <td>0</td>\n",
       "      <td>0.0</td>\n",
       "      <td>17.0</td>\n",
       "      <td>continental</td>\n",
       "      <td>b'\\xff\\xd8\\xff\\xe0\\x00\\x10JFIF\\x00\\x01\\x01\\x00...</td>\n",
       "    </tr>\n",
       "    <tr>\n",
       "      <th>2</th>\n",
       "      <td>2021-02-27</td>\n",
       "      <td>2021</td>\n",
       "      <td>2.0</td>\n",
       "      <td>27.0</td>\n",
       "      <td>garden</td>\n",
       "      <td>DK</td>\n",
       "      <td>Comatricha alta Preuss, 1851</td>\n",
       "      <td>Protozoa</td>\n",
       "      <td>Mycetozoa</td>\n",
       "      <td>Myxomycetes</td>\n",
       "      <td>...</td>\n",
       "      <td>Hovedstaden</td>\n",
       "      <td>Gribskov</td>\n",
       "      <td>1-3061954303.JPG</td>\n",
       "      <td>386</td>\n",
       "      <td>wood</td>\n",
       "      <td>0</td>\n",
       "      <td>0.0</td>\n",
       "      <td>17.0</td>\n",
       "      <td>continental</td>\n",
       "      <td>b'\\xff\\xd8\\xff\\xe0\\x00\\x10JFIF\\x00\\x01\\x01\\x00...</td>\n",
       "    </tr>\n",
       "    <tr>\n",
       "      <th>3</th>\n",
       "      <td>2021-02-27</td>\n",
       "      <td>2021</td>\n",
       "      <td>2.0</td>\n",
       "      <td>27.0</td>\n",
       "      <td>garden</td>\n",
       "      <td>DK</td>\n",
       "      <td>Comatricha alta Preuss, 1851</td>\n",
       "      <td>Protozoa</td>\n",
       "      <td>Mycetozoa</td>\n",
       "      <td>Myxomycetes</td>\n",
       "      <td>...</td>\n",
       "      <td>Hovedstaden</td>\n",
       "      <td>Gribskov</td>\n",
       "      <td>2-3061954303.JPG</td>\n",
       "      <td>386</td>\n",
       "      <td>wood</td>\n",
       "      <td>0</td>\n",
       "      <td>0.0</td>\n",
       "      <td>17.0</td>\n",
       "      <td>continental</td>\n",
       "      <td>b'\\xff\\xd8\\xff\\xe0\\x00\\x10JFIF\\x00\\x01\\x01\\x00...</td>\n",
       "    </tr>\n",
       "    <tr>\n",
       "      <th>4</th>\n",
       "      <td>2021-02-27</td>\n",
       "      <td>2021</td>\n",
       "      <td>2.0</td>\n",
       "      <td>27.0</td>\n",
       "      <td>garden</td>\n",
       "      <td>DK</td>\n",
       "      <td>Comatricha alta Preuss, 1851</td>\n",
       "      <td>Protozoa</td>\n",
       "      <td>Mycetozoa</td>\n",
       "      <td>Myxomycetes</td>\n",
       "      <td>...</td>\n",
       "      <td>Hovedstaden</td>\n",
       "      <td>Gribskov</td>\n",
       "      <td>3-3061954303.JPG</td>\n",
       "      <td>386</td>\n",
       "      <td>wood</td>\n",
       "      <td>0</td>\n",
       "      <td>0.0</td>\n",
       "      <td>17.0</td>\n",
       "      <td>continental</td>\n",
       "      <td>b'\\xff\\xd8\\xff\\xe0\\x00\\x10JFIF\\x00\\x01\\x01\\x00...</td>\n",
       "    </tr>\n",
       "  </tbody>\n",
       "</table>\n",
       "<p>5 rows × 32 columns</p>\n",
       "</div>"
      ],
      "text/plain": [
       "    eventDate  year  month   day  \\\n",
       "0  2021-01-24  2021    1.0  24.0   \n",
       "1  2021-02-27  2021    2.0  27.0   \n",
       "2  2021-02-27  2021    2.0  27.0   \n",
       "3  2021-02-27  2021    2.0  27.0   \n",
       "4  2021-02-27  2021    2.0  27.0   \n",
       "\n",
       "                                             habitat countryCode  \\\n",
       "0  Mixed woodland (with coniferous and deciduous ...          DK   \n",
       "1                                             garden          DK   \n",
       "2                                             garden          DK   \n",
       "3                                             garden          DK   \n",
       "4                                             garden          DK   \n",
       "\n",
       "                           scientificName   kingdom      phylum  \\\n",
       "0  Xylohypha ferruginosa (Corda) S.Hughes     Fungi  Ascomycota   \n",
       "1            Comatricha alta Preuss, 1851  Protozoa   Mycetozoa   \n",
       "2            Comatricha alta Preuss, 1851  Protozoa   Mycetozoa   \n",
       "3            Comatricha alta Preuss, 1851  Protozoa   Mycetozoa   \n",
       "4            Comatricha alta Preuss, 1851  Protozoa   Mycetozoa   \n",
       "\n",
       "            class  ...       region  district          filename category_id  \\\n",
       "0  Eurotiomycetes  ...     Sjælland   Næstved  0-3052832307.JPG        2421   \n",
       "1     Myxomycetes  ...  Hovedstaden  Gribskov  0-3061954303.JPG         386   \n",
       "2     Myxomycetes  ...  Hovedstaden  Gribskov  1-3061954303.JPG         386   \n",
       "3     Myxomycetes  ...  Hovedstaden  Gribskov  2-3061954303.JPG         386   \n",
       "4     Myxomycetes  ...  Hovedstaden  Gribskov  3-3061954303.JPG         386   \n",
       "\n",
       "   metaSubstrate poisonous elevation landcover  biogeographicalRegion  \\\n",
       "0           wood         0       0.0      16.0            continental   \n",
       "1           wood         0       0.0      17.0            continental   \n",
       "2           wood         0       0.0      17.0            continental   \n",
       "3           wood         0       0.0      17.0            continental   \n",
       "4           wood         0       0.0      17.0            continental   \n",
       "\n",
       "                                                data  \n",
       "0  b'\\xff\\xd8\\xff\\xe0\\x00\\x10JFIF\\x00\\x01\\x01\\x00...  \n",
       "1  b'\\xff\\xd8\\xff\\xe0\\x00\\x10JFIF\\x00\\x01\\x01\\x00...  \n",
       "2  b'\\xff\\xd8\\xff\\xe0\\x00\\x10JFIF\\x00\\x01\\x01\\x00...  \n",
       "3  b'\\xff\\xd8\\xff\\xe0\\x00\\x10JFIF\\x00\\x01\\x01\\x00...  \n",
       "4  b'\\xff\\xd8\\xff\\xe0\\x00\\x10JFIF\\x00\\x01\\x01\\x00...  \n",
       "\n",
       "[5 rows x 32 columns]"
      ]
     },
     "execution_count": 4,
     "metadata": {},
     "output_type": "execute_result"
    }
   ],
   "source": [
    "import pandas as pd\n",
    "\n",
    "\n",
    "data_path = f\"{root}/p-dsgt_clef2025-0/shared/fungiclef/data\"\n",
    "train_path = f\"{data_path}/dataset/processed/train_serialized.parquet\"\n",
    "val_path = f\"{data_path}/dataset/processed/val_serialized.parquet\"\n",
    "test_path = f\"{data_path}/dataset/processed/test_serialized.parquet\"\n",
    "train_df = pd.read_parquet(train_path)\n",
    "val_df = pd.read_parquet(val_path)\n",
    "test_df = pd.read_parquet(test_path)\n",
    "train_df.head()"
   ]
  },
  {
   "cell_type": "code",
   "execution_count": 5,
   "id": "9390b74d",
   "metadata": {},
   "outputs": [
    {
     "data": {
      "text/plain": [
       "(Index(['eventDate', 'year', 'month', 'day', 'habitat', 'countryCode',\n",
       "        'scientificName', 'kingdom', 'phylum', 'class', 'order', 'family',\n",
       "        'genus', 'specificEpithet', 'hasCoordinate', 'species',\n",
       "        'iucnRedListCategory', 'substrate', 'latitude', 'longitude',\n",
       "        'coorUncert', 'observationID', 'region', 'district', 'filename',\n",
       "        'category_id', 'metaSubstrate', 'poisonous', 'elevation', 'landcover',\n",
       "        'biogeographicalRegion', 'data'],\n",
       "       dtype='object'),\n",
       " 32)"
      ]
     },
     "execution_count": 5,
     "metadata": {},
     "output_type": "execute_result"
    }
   ],
   "source": [
    "train_df.columns, len(train_df.columns.to_list())"
   ]
  },
  {
   "cell_type": "code",
   "execution_count": 6,
   "id": "253cf19a",
   "metadata": {},
   "outputs": [
    {
     "data": {
      "text/plain": [
       "(Index(['eventDate', 'year', 'month', 'day', 'habitat', 'countryCode',\n",
       "        'scientificName', 'kingdom', 'phylum', 'class', 'order', 'family',\n",
       "        'genus', 'specificEpithet', 'hasCoordinate', 'species',\n",
       "        'iucnRedListCategory', 'substrate', 'latitude', 'longitude',\n",
       "        'coorUncert', 'observationID', 'region', 'district', 'filename',\n",
       "        'category_id', 'metaSubstrate', 'poisonous', 'elevation', 'landcover',\n",
       "        'biogeographicalRegion', 'data'],\n",
       "       dtype='object'),\n",
       " 32)"
      ]
     },
     "execution_count": 6,
     "metadata": {},
     "output_type": "execute_result"
    }
   ],
   "source": [
    "val_df.columns, len(val_df.columns.to_list())"
   ]
  },
  {
   "cell_type": "code",
   "execution_count": 7,
   "id": "28ae1ad4",
   "metadata": {},
   "outputs": [
    {
     "data": {
      "text/plain": [
       "(Index(['eventDate', 'year', 'month', 'day', 'habitat', 'countryCode',\n",
       "        'hasCoordinate', 'substrate', 'latitude', 'longitude', 'coorUncert',\n",
       "        'observationID', 'region', 'district', 'filename', 'metaSubstrate',\n",
       "        'elevation', 'landcover', 'biogeographicalRegion', 'data'],\n",
       "       dtype='object'),\n",
       " 20)"
      ]
     },
     "execution_count": 7,
     "metadata": {},
     "output_type": "execute_result"
    }
   ],
   "source": [
    "test_df.columns, len(test_df.columns.to_list())"
   ]
  },
  {
   "cell_type": "code",
   "execution_count": 8,
   "id": "0680150f",
   "metadata": {},
   "outputs": [],
   "source": [
    "train_captions_path = f\"{data_path}/dataset/processed/train_captions.parquet\"\n",
    "val_captions_path = f\"{data_path}/dataset/processed/val_captions.parquet\"\n",
    "test_captions_path = f\"{data_path}/dataset/processed/test_captions.parquet\"\n",
    "\n",
    "train_cap_df = pd.read_parquet(train_captions_path)\n",
    "val_cap_df = pd.read_parquet(val_captions_path)\n",
    "test_cap_df = pd.read_parquet(test_captions_path)"
   ]
  },
  {
   "cell_type": "code",
   "execution_count": 9,
   "id": "01a65920",
   "metadata": {},
   "outputs": [
    {
     "data": {
      "text/html": [
       "<div>\n",
       "<style scoped>\n",
       "    .dataframe tbody tr th:only-of-type {\n",
       "        vertical-align: middle;\n",
       "    }\n",
       "\n",
       "    .dataframe tbody tr th {\n",
       "        vertical-align: top;\n",
       "    }\n",
       "\n",
       "    .dataframe thead th {\n",
       "        text-align: right;\n",
       "    }\n",
       "</style>\n",
       "<table border=\"1\" class=\"dataframe\">\n",
       "  <thead>\n",
       "    <tr style=\"text-align: right;\">\n",
       "      <th></th>\n",
       "      <th>filename</th>\n",
       "      <th>caption</th>\n",
       "    </tr>\n",
       "  </thead>\n",
       "  <tbody>\n",
       "    <tr>\n",
       "      <th>0</th>\n",
       "      <td>0-2237953479.JPG</td>\n",
       "      <td>The image shows a close-up view of a tree tru...</td>\n",
       "    </tr>\n",
       "    <tr>\n",
       "      <th>1</th>\n",
       "      <td>3-3414824336.JPG</td>\n",
       "      <td>The image shows a piece of wood with a promin...</td>\n",
       "    </tr>\n",
       "    <tr>\n",
       "      <th>2</th>\n",
       "      <td>5-2238512677.JPG</td>\n",
       "      <td>The image shows a fascinating close-up of a f...</td>\n",
       "    </tr>\n",
       "    <tr>\n",
       "      <th>3</th>\n",
       "      <td>1-2999542304.JPG</td>\n",
       "      <td>The image shows several small, dark-colored f...</td>\n",
       "    </tr>\n",
       "    <tr>\n",
       "      <th>4</th>\n",
       "      <td>1-2238522794.JPG</td>\n",
       "      <td>The image shows two mushrooms on a forest flo...</td>\n",
       "    </tr>\n",
       "  </tbody>\n",
       "</table>\n",
       "</div>"
      ],
      "text/plain": [
       "           filename                                            caption\n",
       "0  0-2237953479.JPG   The image shows a close-up view of a tree tru...\n",
       "1  3-3414824336.JPG   The image shows a piece of wood with a promin...\n",
       "2  5-2238512677.JPG   The image shows a fascinating close-up of a f...\n",
       "3  1-2999542304.JPG   The image shows several small, dark-colored f...\n",
       "4  1-2238522794.JPG   The image shows two mushrooms on a forest flo..."
      ]
     },
     "metadata": {},
     "output_type": "display_data"
    },
    {
     "data": {
      "text/plain": [
       "7819"
      ]
     },
     "execution_count": 9,
     "metadata": {},
     "output_type": "execute_result"
    }
   ],
   "source": [
    "display(train_cap_df.head())\n",
    "len(train_cap_df)"
   ]
  },
  {
   "cell_type": "code",
   "execution_count": 10,
   "id": "1068e145",
   "metadata": {},
   "outputs": [
    {
     "data": {
      "text/html": [
       "<div>\n",
       "<style scoped>\n",
       "    .dataframe tbody tr th:only-of-type {\n",
       "        vertical-align: middle;\n",
       "    }\n",
       "\n",
       "    .dataframe tbody tr th {\n",
       "        vertical-align: top;\n",
       "    }\n",
       "\n",
       "    .dataframe thead th {\n",
       "        text-align: right;\n",
       "    }\n",
       "</style>\n",
       "<table border=\"1\" class=\"dataframe\">\n",
       "  <thead>\n",
       "    <tr style=\"text-align: right;\">\n",
       "      <th></th>\n",
       "      <th>eventDate</th>\n",
       "      <th>year</th>\n",
       "      <th>month</th>\n",
       "      <th>day</th>\n",
       "      <th>habitat</th>\n",
       "      <th>countryCode</th>\n",
       "      <th>scientificName</th>\n",
       "      <th>kingdom</th>\n",
       "      <th>phylum</th>\n",
       "      <th>class</th>\n",
       "      <th>...</th>\n",
       "      <th>district</th>\n",
       "      <th>filename</th>\n",
       "      <th>category_id</th>\n",
       "      <th>metaSubstrate</th>\n",
       "      <th>poisonous</th>\n",
       "      <th>elevation</th>\n",
       "      <th>landcover</th>\n",
       "      <th>biogeographicalRegion</th>\n",
       "      <th>data</th>\n",
       "      <th>caption</th>\n",
       "    </tr>\n",
       "  </thead>\n",
       "  <tbody>\n",
       "    <tr>\n",
       "      <th>0</th>\n",
       "      <td>2021-01-24</td>\n",
       "      <td>2021</td>\n",
       "      <td>1.0</td>\n",
       "      <td>24.0</td>\n",
       "      <td>Mixed woodland (with coniferous and deciduous ...</td>\n",
       "      <td>DK</td>\n",
       "      <td>Xylohypha ferruginosa (Corda) S.Hughes</td>\n",
       "      <td>Fungi</td>\n",
       "      <td>Ascomycota</td>\n",
       "      <td>Eurotiomycetes</td>\n",
       "      <td>...</td>\n",
       "      <td>Næstved</td>\n",
       "      <td>0-3052832307.JPG</td>\n",
       "      <td>2421</td>\n",
       "      <td>wood</td>\n",
       "      <td>0</td>\n",
       "      <td>0.0</td>\n",
       "      <td>16.0</td>\n",
       "      <td>continental</td>\n",
       "      <td>b'\\xff\\xd8\\xff\\xe0\\x00\\x10JFIF\\x00\\x01\\x01\\x00...</td>\n",
       "      <td>The image shows two distinct fungi with diffe...</td>\n",
       "    </tr>\n",
       "    <tr>\n",
       "      <th>1</th>\n",
       "      <td>2021-02-27</td>\n",
       "      <td>2021</td>\n",
       "      <td>2.0</td>\n",
       "      <td>27.0</td>\n",
       "      <td>garden</td>\n",
       "      <td>DK</td>\n",
       "      <td>Comatricha alta Preuss, 1851</td>\n",
       "      <td>Protozoa</td>\n",
       "      <td>Mycetozoa</td>\n",
       "      <td>Myxomycetes</td>\n",
       "      <td>...</td>\n",
       "      <td>Gribskov</td>\n",
       "      <td>0-3061954303.JPG</td>\n",
       "      <td>386</td>\n",
       "      <td>wood</td>\n",
       "      <td>0</td>\n",
       "      <td>0.0</td>\n",
       "      <td>17.0</td>\n",
       "      <td>continental</td>\n",
       "      <td>b'\\xff\\xd8\\xff\\xe0\\x00\\x10JFIF\\x00\\x01\\x01\\x00...</td>\n",
       "      <td>The image shows a fascinating close-up of fun...</td>\n",
       "    </tr>\n",
       "    <tr>\n",
       "      <th>2</th>\n",
       "      <td>2021-02-27</td>\n",
       "      <td>2021</td>\n",
       "      <td>2.0</td>\n",
       "      <td>27.0</td>\n",
       "      <td>garden</td>\n",
       "      <td>DK</td>\n",
       "      <td>Comatricha alta Preuss, 1851</td>\n",
       "      <td>Protozoa</td>\n",
       "      <td>Mycetozoa</td>\n",
       "      <td>Myxomycetes</td>\n",
       "      <td>...</td>\n",
       "      <td>Gribskov</td>\n",
       "      <td>1-3061954303.JPG</td>\n",
       "      <td>386</td>\n",
       "      <td>wood</td>\n",
       "      <td>0</td>\n",
       "      <td>0.0</td>\n",
       "      <td>17.0</td>\n",
       "      <td>continental</td>\n",
       "      <td>b'\\xff\\xd8\\xff\\xe0\\x00\\x10JFIF\\x00\\x01\\x01\\x00...</td>\n",
       "      <td>The image shows a fascinating example of a fu...</td>\n",
       "    </tr>\n",
       "    <tr>\n",
       "      <th>3</th>\n",
       "      <td>2021-02-27</td>\n",
       "      <td>2021</td>\n",
       "      <td>2.0</td>\n",
       "      <td>27.0</td>\n",
       "      <td>garden</td>\n",
       "      <td>DK</td>\n",
       "      <td>Comatricha alta Preuss, 1851</td>\n",
       "      <td>Protozoa</td>\n",
       "      <td>Mycetozoa</td>\n",
       "      <td>Myxomycetes</td>\n",
       "      <td>...</td>\n",
       "      <td>Gribskov</td>\n",
       "      <td>2-3061954303.JPG</td>\n",
       "      <td>386</td>\n",
       "      <td>wood</td>\n",
       "      <td>0</td>\n",
       "      <td>0.0</td>\n",
       "      <td>17.0</td>\n",
       "      <td>continental</td>\n",
       "      <td>b'\\xff\\xd8\\xff\\xe0\\x00\\x10JFIF\\x00\\x01\\x01\\x00...</td>\n",
       "      <td>The image shows a close-up view of a fungus g...</td>\n",
       "    </tr>\n",
       "    <tr>\n",
       "      <th>4</th>\n",
       "      <td>2021-02-27</td>\n",
       "      <td>2021</td>\n",
       "      <td>2.0</td>\n",
       "      <td>27.0</td>\n",
       "      <td>garden</td>\n",
       "      <td>DK</td>\n",
       "      <td>Comatricha alta Preuss, 1851</td>\n",
       "      <td>Protozoa</td>\n",
       "      <td>Mycetozoa</td>\n",
       "      <td>Myxomycetes</td>\n",
       "      <td>...</td>\n",
       "      <td>Gribskov</td>\n",
       "      <td>3-3061954303.JPG</td>\n",
       "      <td>386</td>\n",
       "      <td>wood</td>\n",
       "      <td>0</td>\n",
       "      <td>0.0</td>\n",
       "      <td>17.0</td>\n",
       "      <td>continental</td>\n",
       "      <td>b'\\xff\\xd8\\xff\\xe0\\x00\\x10JFIF\\x00\\x01\\x01\\x00...</td>\n",
       "      <td>The image shows a cluster of Podoscypha cilia...</td>\n",
       "    </tr>\n",
       "  </tbody>\n",
       "</table>\n",
       "<p>5 rows × 33 columns</p>\n",
       "</div>"
      ],
      "text/plain": [
       "    eventDate  year  month   day  \\\n",
       "0  2021-01-24  2021    1.0  24.0   \n",
       "1  2021-02-27  2021    2.0  27.0   \n",
       "2  2021-02-27  2021    2.0  27.0   \n",
       "3  2021-02-27  2021    2.0  27.0   \n",
       "4  2021-02-27  2021    2.0  27.0   \n",
       "\n",
       "                                             habitat countryCode  \\\n",
       "0  Mixed woodland (with coniferous and deciduous ...          DK   \n",
       "1                                             garden          DK   \n",
       "2                                             garden          DK   \n",
       "3                                             garden          DK   \n",
       "4                                             garden          DK   \n",
       "\n",
       "                           scientificName   kingdom      phylum  \\\n",
       "0  Xylohypha ferruginosa (Corda) S.Hughes     Fungi  Ascomycota   \n",
       "1            Comatricha alta Preuss, 1851  Protozoa   Mycetozoa   \n",
       "2            Comatricha alta Preuss, 1851  Protozoa   Mycetozoa   \n",
       "3            Comatricha alta Preuss, 1851  Protozoa   Mycetozoa   \n",
       "4            Comatricha alta Preuss, 1851  Protozoa   Mycetozoa   \n",
       "\n",
       "            class  ...  district          filename category_id metaSubstrate  \\\n",
       "0  Eurotiomycetes  ...   Næstved  0-3052832307.JPG        2421          wood   \n",
       "1     Myxomycetes  ...  Gribskov  0-3061954303.JPG         386          wood   \n",
       "2     Myxomycetes  ...  Gribskov  1-3061954303.JPG         386          wood   \n",
       "3     Myxomycetes  ...  Gribskov  2-3061954303.JPG         386          wood   \n",
       "4     Myxomycetes  ...  Gribskov  3-3061954303.JPG         386          wood   \n",
       "\n",
       "   poisonous elevation landcover biogeographicalRegion  \\\n",
       "0          0       0.0      16.0           continental   \n",
       "1          0       0.0      17.0           continental   \n",
       "2          0       0.0      17.0           continental   \n",
       "3          0       0.0      17.0           continental   \n",
       "4          0       0.0      17.0           continental   \n",
       "\n",
       "                                                data  \\\n",
       "0  b'\\xff\\xd8\\xff\\xe0\\x00\\x10JFIF\\x00\\x01\\x01\\x00...   \n",
       "1  b'\\xff\\xd8\\xff\\xe0\\x00\\x10JFIF\\x00\\x01\\x01\\x00...   \n",
       "2  b'\\xff\\xd8\\xff\\xe0\\x00\\x10JFIF\\x00\\x01\\x01\\x00...   \n",
       "3  b'\\xff\\xd8\\xff\\xe0\\x00\\x10JFIF\\x00\\x01\\x01\\x00...   \n",
       "4  b'\\xff\\xd8\\xff\\xe0\\x00\\x10JFIF\\x00\\x01\\x01\\x00...   \n",
       "\n",
       "                                             caption  \n",
       "0   The image shows two distinct fungi with diffe...  \n",
       "1   The image shows a fascinating close-up of fun...  \n",
       "2   The image shows a fascinating example of a fu...  \n",
       "3   The image shows a close-up view of a fungus g...  \n",
       "4   The image shows a cluster of Podoscypha cilia...  \n",
       "\n",
       "[5 rows x 33 columns]"
      ]
     },
     "execution_count": 10,
     "metadata": {},
     "output_type": "execute_result"
    }
   ],
   "source": [
    "def join_dataframes(df1, df2):\n",
    "    merged_df = pd.merge(df1, df2, on=\"filename\", how=\"inner\")\n",
    "    return merged_df\n",
    "\n",
    "\n",
    "train_join_df = join_dataframes(train_df, train_cap_df)\n",
    "val_join_df = join_dataframes(val_df, val_cap_df)\n",
    "test_join_df = join_dataframes(test_df, test_cap_df)\n",
    "train_join_df.head()"
   ]
  },
  {
   "cell_type": "code",
   "execution_count": 15,
   "id": "95b88f87",
   "metadata": {},
   "outputs": [
    {
     "data": {
      "text/plain": [
       "['eventDate',\n",
       " 'year',\n",
       " 'month',\n",
       " 'day',\n",
       " 'habitat',\n",
       " 'countryCode',\n",
       " 'hasCoordinate',\n",
       " 'substrate',\n",
       " 'latitude',\n",
       " 'longitude',\n",
       " 'coorUncert',\n",
       " 'observationID',\n",
       " 'region',\n",
       " 'district',\n",
       " 'metaSubstrate',\n",
       " 'elevation',\n",
       " 'landcover',\n",
       " 'biogeographicalRegion',\n",
       " 'caption',\n",
       " 'text']"
      ]
     },
     "metadata": {},
     "output_type": "display_data"
    }
   ],
   "source": [
    "# get columns to keep except filename and data\n",
    "COLUMNS_TO_KEEP = test_join_df.columns.to_list()\n",
    "COLUMNS_TO_KEEP.remove(\"filename\")\n",
    "COLUMNS_TO_KEEP.remove(\"data\")\n",
    "display(COLUMNS_TO_KEEP)"
   ]
  },
  {
   "cell_type": "code",
   "execution_count": 16,
   "id": "badba2d5",
   "metadata": {},
   "outputs": [
    {
     "data": {
      "text/html": [
       "<div>\n",
       "<style scoped>\n",
       "    .dataframe tbody tr th:only-of-type {\n",
       "        vertical-align: middle;\n",
       "    }\n",
       "\n",
       "    .dataframe tbody tr th {\n",
       "        vertical-align: top;\n",
       "    }\n",
       "\n",
       "    .dataframe thead th {\n",
       "        text-align: right;\n",
       "    }\n",
       "</style>\n",
       "<table border=\"1\" class=\"dataframe\">\n",
       "  <thead>\n",
       "    <tr style=\"text-align: right;\">\n",
       "      <th></th>\n",
       "      <th>text</th>\n",
       "    </tr>\n",
       "  </thead>\n",
       "  <tbody>\n",
       "    <tr>\n",
       "      <th>0</th>\n",
       "      <td>2021-01-24 2021 1.0 24.0 Mixed woodland (with ...</td>\n",
       "    </tr>\n",
       "    <tr>\n",
       "      <th>1</th>\n",
       "      <td>2021-02-27 2021 2.0 27.0 garden DK True dead w...</td>\n",
       "    </tr>\n",
       "    <tr>\n",
       "      <th>2</th>\n",
       "      <td>2021-02-27 2021 2.0 27.0 garden DK True dead w...</td>\n",
       "    </tr>\n",
       "    <tr>\n",
       "      <th>3</th>\n",
       "      <td>2021-02-27 2021 2.0 27.0 garden DK True dead w...</td>\n",
       "    </tr>\n",
       "    <tr>\n",
       "      <th>4</th>\n",
       "      <td>2021-02-27 2021 2.0 27.0 garden DK True dead w...</td>\n",
       "    </tr>\n",
       "  </tbody>\n",
       "</table>\n",
       "</div>"
      ],
      "text/plain": [
       "                                                text\n",
       "0  2021-01-24 2021 1.0 24.0 Mixed woodland (with ...\n",
       "1  2021-02-27 2021 2.0 27.0 garden DK True dead w...\n",
       "2  2021-02-27 2021 2.0 27.0 garden DK True dead w...\n",
       "3  2021-02-27 2021 2.0 27.0 garden DK True dead w...\n",
       "4  2021-02-27 2021 2.0 27.0 garden DK True dead w..."
      ]
     },
     "execution_count": 16,
     "metadata": {},
     "output_type": "execute_result"
    }
   ],
   "source": [
    "# concatenate all columns to keep into a single string\n",
    "def concatenate_columns(row):\n",
    "    return \" \".join([str(row[col]) for col in COLUMNS_TO_KEEP])\n",
    "\n",
    "\n",
    "train_join_df[\"text\"] = train_join_df.apply(concatenate_columns, axis=1)\n",
    "val_join_df[\"text\"] = val_join_df.apply(concatenate_columns, axis=1)\n",
    "test_join_df[\"text\"] = test_join_df.apply(concatenate_columns, axis=1)\n",
    "train_join_df[[\"text\"]].head()"
   ]
  },
  {
   "cell_type": "code",
   "execution_count": 30,
   "id": "f25f2625",
   "metadata": {},
   "outputs": [
    {
     "data": {
      "text/html": [
       "<div>\n",
       "<style scoped>\n",
       "    .dataframe tbody tr th:only-of-type {\n",
       "        vertical-align: middle;\n",
       "    }\n",
       "\n",
       "    .dataframe tbody tr th {\n",
       "        vertical-align: top;\n",
       "    }\n",
       "\n",
       "    .dataframe thead th {\n",
       "        text-align: right;\n",
       "    }\n",
       "</style>\n",
       "<table border=\"1\" class=\"dataframe\">\n",
       "  <thead>\n",
       "    <tr style=\"text-align: right;\">\n",
       "      <th></th>\n",
       "      <th>filename</th>\n",
       "      <th>text</th>\n",
       "    </tr>\n",
       "  </thead>\n",
       "  <tbody>\n",
       "    <tr>\n",
       "      <th>0</th>\n",
       "      <td>0-3052832307.JPG</td>\n",
       "      <td>2021-01-24 2021 1.0 24.0 Mixed woodland (with ...</td>\n",
       "    </tr>\n",
       "    <tr>\n",
       "      <th>1</th>\n",
       "      <td>0-3061954303.JPG</td>\n",
       "      <td>2021-02-27 2021 2.0 27.0 garden DK True dead w...</td>\n",
       "    </tr>\n",
       "    <tr>\n",
       "      <th>2</th>\n",
       "      <td>1-3061954303.JPG</td>\n",
       "      <td>2021-02-27 2021 2.0 27.0 garden DK True dead w...</td>\n",
       "    </tr>\n",
       "    <tr>\n",
       "      <th>3</th>\n",
       "      <td>2-3061954303.JPG</td>\n",
       "      <td>2021-02-27 2021 2.0 27.0 garden DK True dead w...</td>\n",
       "    </tr>\n",
       "    <tr>\n",
       "      <th>4</th>\n",
       "      <td>3-3061954303.JPG</td>\n",
       "      <td>2021-02-27 2021 2.0 27.0 garden DK True dead w...</td>\n",
       "    </tr>\n",
       "  </tbody>\n",
       "</table>\n",
       "</div>"
      ],
      "text/plain": [
       "           filename                                               text\n",
       "0  0-3052832307.JPG  2021-01-24 2021 1.0 24.0 Mixed woodland (with ...\n",
       "1  0-3061954303.JPG  2021-02-27 2021 2.0 27.0 garden DK True dead w...\n",
       "2  1-3061954303.JPG  2021-02-27 2021 2.0 27.0 garden DK True dead w...\n",
       "3  2-3061954303.JPG  2021-02-27 2021 2.0 27.0 garden DK True dead w...\n",
       "4  3-3061954303.JPG  2021-02-27 2021 2.0 27.0 garden DK True dead w..."
      ]
     },
     "metadata": {},
     "output_type": "display_data"
    },
    {
     "data": {
      "text/plain": [
       "(7819, 2285, 1911)"
      ]
     },
     "execution_count": 30,
     "metadata": {},
     "output_type": "execute_result"
    }
   ],
   "source": [
    "train_df = train_join_df[[\"filename\", \"text\"]].copy()\n",
    "val_df = val_join_df[[\"filename\", \"text\"]].copy()\n",
    "test_df = test_join_df[[\"filename\", \"text\"]].copy()\n",
    "display(train_df.head())\n",
    "len(train_df), len(val_df), len(test_df)"
   ]
  },
  {
   "cell_type": "code",
   "execution_count": 31,
   "id": "64c9cbe1",
   "metadata": {},
   "outputs": [
    {
     "data": {
      "text/plain": [
       "\"2021-01-24 2021 1.0 24.0 Mixed woodland (with coniferous and deciduous trees) DK True dead wood (including bark) 55.227983 11.680016 25.0 3052832307 Sjælland Næstved wood 0.0 16.0 continental  The image shows two distinct fungi with different visual features:\\n\\n1. The main fungus:\\n- Brown in color\\n- Has a textured surface with visible ridges and grooves\\n- Features a prominent yellowish-orange cap\\n- The cap appears to be slightly raised or domed\\n- The body of the fungus is cylindrical and dark brown\\n- It has a rough, almost spiky texture along its sides\\n\\n2. The smaller fungus:\\n- White in color\\n- Has a smoother surface compared to the main fungus\\n- Features a small, round cap\\n- The cap is slightly raised but not as prominently as the main fungus\\n- The body is also cylindrical but appears thinner and more delicate\\n- It has a smoother texture along its sides\\n\\nThe two fungi are positioned next to each other, allowing for a clear comparison of their different characteristics. The contrast between the brown, textured main fungus and the white, smoother smaller fungus creates an interesting visual dynamic.\\n\\nThe image appears to be a close-up view, possibly taken through a microscope, which allows for detailed observation of the fungi's structures. This type of image is often used in scientific studies or educational materials to examine the intricate features of different fungal species.\\n\\nThe background of the image is blurred, which helps to emphasize the fungi and makes them stand out more prominently. This blurring effect also suggests that the image was taken in a controlled environment, likely a laboratory or research setting. 2021-01-24 2021 1.0 24.0 Mixed woodland (with coniferous and deciduous trees) DK True dead wood (including bark) 55.227983 11.680016 25.0 3052832307 Sjælland Næstved wood 0.0 16.0 continental\""
      ]
     },
     "execution_count": 31,
     "metadata": {},
     "output_type": "execute_result"
    }
   ],
   "source": [
    "text = train_df[\"text\"].iloc[0]\n",
    "text"
   ]
  },
  {
   "cell_type": "markdown",
   "id": "f7b967e0",
   "metadata": {},
   "source": [
    "### ModernBERT"
   ]
  },
  {
   "cell_type": "code",
   "execution_count": 19,
   "id": "370b84d8",
   "metadata": {},
   "outputs": [
    {
     "data": {
      "text/plain": [
       "ModernBertModel(\n",
       "  (embeddings): ModernBertEmbeddings(\n",
       "    (tok_embeddings): Embedding(50368, 1024, padding_idx=50283)\n",
       "    (norm): LayerNorm((1024,), eps=1e-05, elementwise_affine=True)\n",
       "    (drop): Dropout(p=0.0, inplace=False)\n",
       "  )\n",
       "  (layers): ModuleList(\n",
       "    (0): ModernBertEncoderLayer(\n",
       "      (attn_norm): Identity()\n",
       "      (attn): ModernBertAttention(\n",
       "        (Wqkv): Linear(in_features=1024, out_features=3072, bias=False)\n",
       "        (rotary_emb): ModernBertRotaryEmbedding()\n",
       "        (Wo): Linear(in_features=1024, out_features=1024, bias=False)\n",
       "        (out_drop): Identity()\n",
       "      )\n",
       "      (mlp_norm): LayerNorm((1024,), eps=1e-05, elementwise_affine=True)\n",
       "      (mlp): ModernBertMLP(\n",
       "        (Wi): Linear(in_features=1024, out_features=5248, bias=False)\n",
       "        (act): GELUActivation()\n",
       "        (drop): Dropout(p=0.0, inplace=False)\n",
       "        (Wo): Linear(in_features=2624, out_features=1024, bias=False)\n",
       "      )\n",
       "    )\n",
       "    (1-27): 27 x ModernBertEncoderLayer(\n",
       "      (attn_norm): LayerNorm((1024,), eps=1e-05, elementwise_affine=True)\n",
       "      (attn): ModernBertAttention(\n",
       "        (Wqkv): Linear(in_features=1024, out_features=3072, bias=False)\n",
       "        (rotary_emb): ModernBertRotaryEmbedding()\n",
       "        (Wo): Linear(in_features=1024, out_features=1024, bias=False)\n",
       "        (out_drop): Identity()\n",
       "      )\n",
       "      (mlp_norm): LayerNorm((1024,), eps=1e-05, elementwise_affine=True)\n",
       "      (mlp): ModernBertMLP(\n",
       "        (Wi): Linear(in_features=1024, out_features=5248, bias=False)\n",
       "        (act): GELUActivation()\n",
       "        (drop): Dropout(p=0.0, inplace=False)\n",
       "        (Wo): Linear(in_features=2624, out_features=1024, bias=False)\n",
       "      )\n",
       "    )\n",
       "  )\n",
       "  (final_norm): LayerNorm((1024,), eps=1e-05, elementwise_affine=True)\n",
       ")"
      ]
     },
     "execution_count": 19,
     "metadata": {},
     "output_type": "execute_result"
    }
   ],
   "source": [
    "import torch\n",
    "from transformers import AutoTokenizer, AutoModel\n",
    "\n",
    "device = get_device()\n",
    "model_name = \"answerdotai/ModernBERT-large\"\n",
    "tokenizer = AutoTokenizer.from_pretrained(model_name)\n",
    "model = AutoModel.from_pretrained(model_name).to(device)\n",
    "model.eval()"
   ]
  },
  {
   "cell_type": "code",
   "execution_count": 32,
   "id": "ed2cbf5c",
   "metadata": {},
   "outputs": [],
   "source": [
    "from tqdm import tqdm\n",
    "\n",
    "\n",
    "def get_batch_embeddings(text_list, batch_size=128):\n",
    "    all_embeddings = []\n",
    "    for i in tqdm(range(0, len(text_list), batch_size), desc=\"Processing batches\"):\n",
    "        batch = text_list[i : i + batch_size]\n",
    "        inputs = tokenizer(batch, return_tensors=\"pt\", padding=True, truncation=True)\n",
    "        inputs = {k: v.to(device) for k, v in inputs.items()}  # move to GPU\n",
    "        with torch.no_grad():\n",
    "            outputs = model(**inputs)\n",
    "            cls_embeds = outputs.last_hidden_state[:, 0, :]  # (batch_size, hidden_size)\n",
    "        all_embeddings.extend(cls_embeds.cpu().numpy())\n",
    "    return all_embeddings"
   ]
  },
  {
   "cell_type": "code",
   "execution_count": 33,
   "id": "506d3b99",
   "metadata": {},
   "outputs": [
    {
     "name": "stderr",
     "output_type": "stream",
     "text": [
      "Processing batches: 100%|██████████| 62/62 [05:15<00:00,  5.08s/it]\n"
     ]
    }
   ],
   "source": [
    "# run embedding pipeline\n",
    "train_df[\"embeddings\"] = get_batch_embeddings(train_df[\"text\"].tolist())"
   ]
  },
  {
   "cell_type": "code",
   "execution_count": 34,
   "id": "ddd21f5e",
   "metadata": {},
   "outputs": [
    {
     "name": "stderr",
     "output_type": "stream",
     "text": [
      "Processing batches: 100%|██████████| 18/18 [01:37<00:00,  5.39s/it]\n"
     ]
    }
   ],
   "source": [
    "# validation set\n",
    "val_df[\"embeddings\"] = get_batch_embeddings(val_df[\"text\"].tolist())"
   ]
  },
  {
   "cell_type": "code",
   "execution_count": 35,
   "id": "72d2be0a",
   "metadata": {},
   "outputs": [
    {
     "name": "stderr",
     "output_type": "stream",
     "text": [
      "Processing batches: 100%|██████████| 15/15 [01:19<00:00,  5.30s/it]\n"
     ]
    }
   ],
   "source": [
    "# test set\n",
    "test_df[\"embeddings\"] = get_batch_embeddings(test_df[\"text\"].tolist())"
   ]
  },
  {
   "cell_type": "markdown",
   "id": "17ab0dcd",
   "metadata": {},
   "source": [
    "### save to parquet"
   ]
  },
  {
   "cell_type": "code",
   "execution_count": null,
   "id": "6600f525",
   "metadata": {},
   "outputs": [],
   "source": [
    "from pathlib import Path\n",
    "\n",
    "output_path = f\"{data_path}/embeddings/bert\"\n",
    "Path(output_path).mkdir(parents=True, exist_ok=True)\n",
    "# save to parquet\n",
    "train_df.to_parquet(f\"{output_path}/train_text_embed.parquet\")\n",
    "val_df.to_parquet(f\"{output_path}/val_text_embed.parquet\")\n",
    "test_df.to_parquet(f\"{output_path}/test_text_embed.parquet\")"
   ]
  },
  {
   "cell_type": "markdown",
   "id": "8ed7ce3a",
   "metadata": {},
   "source": [
    "### clustering"
   ]
  },
  {
   "cell_type": "code",
   "execution_count": 38,
   "id": "9281b77f",
   "metadata": {},
   "outputs": [],
   "source": [
    "import pacmap\n",
    "import numpy as np\n",
    "from sklearn.preprocessing import StandardScaler\n",
    "\n",
    "\n",
    "def pacmap_embeddings(df: pd.DataFrame, col_name: str = \"embeddings\") -> np.ndarray:\n",
    "    emb_df = np.stack(df[col_name].values)\n",
    "    scaled_emb = StandardScaler().fit_transform(emb_df)\n",
    "\n",
    "    # PaCMAP reduction\n",
    "    reducer = pacmap.PaCMAP(n_components=2, random_state=42)\n",
    "    embedding = reducer.fit_transform(scaled_emb)  # (n_samples, 2)\n",
    "    return embedding"
   ]
  },
  {
   "cell_type": "code",
   "execution_count": 39,
   "id": "99415c4e",
   "metadata": {},
   "outputs": [
    {
     "name": "stderr",
     "output_type": "stream",
     "text": [
      "Warning: random state is set to 42.\n"
     ]
    }
   ],
   "source": [
    "train_embed = pacmap_embeddings(train_df)"
   ]
  },
  {
   "cell_type": "code",
   "execution_count": 41,
   "id": "070ab71e",
   "metadata": {},
   "outputs": [
    {
     "data": {
      "image/png": "[encoded data removed]",
      "text/plain": [
       "<Figure size 800x600 with 1 Axes>"
      ]
     },
     "metadata": {},
     "output_type": "display_data"
    }
   ],
   "source": [
    "import matplotlib.pyplot as plt\n",
    "\n",
    "plt.figure(figsize=(8, 6), dpi=100)\n",
    "plt.scatter(train_embed[:, 0], train_embed[:, 1], s=10, alpha=0.7, linewidths=0.5)\n",
    "plt.title(\"PaCMAP ModerBERT Embeddings of Train Set\", weight=\"bold\")\n",
    "plt.axis(\"off\")\n",
    "plt.show()"
   ]
  },
  {
   "cell_type": "code",
   "execution_count": 43,
   "id": "28b09cce",
   "metadata": {},
   "outputs": [
    {
     "data": {
      "text/plain": [
       "(1024,)"
      ]
     },
     "execution_count": 43,
     "metadata": {},
     "output_type": "execute_result"
    }
   ],
   "source": [
    "train_df[\"embeddings\"].iloc[0].shape"
   ]
  },
  {
   "cell_type": "code",
   "execution_count": null,
   "id": "da02e9cf",
   "metadata": {},
   "outputs": [],
   "source": []
  }
 ],
 "metadata": {
  "kernelspec": {
   "display_name": ".venv",
   "language": "python",
   "name": "python3"
  },
  "language_info": {
   "codemirror_mode": {
    "name": "ipython",
    "version": 3
   },
   "file_extension": ".py",
   "mimetype": "text/x-python",
   "name": "python",
   "nbconvert_exporter": "python",
   "pygments_lexer": "ipython3",
   "version": "3.10.10"
  }
 },
 "nbformat": 4,
 "nbformat_minor": 5
}
