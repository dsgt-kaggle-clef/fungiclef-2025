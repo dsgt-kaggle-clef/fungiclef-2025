{
 "cells": [
  {
   "cell_type": "code",
   "execution_count": 18,
   "id": "d6536a6e",
   "metadata": {},
   "outputs": [
    {
     "name": "stdout",
     "output_type": "stream",
     "text": [
      "../data/raw/metadata/FungiTastic-FewShot/FungiTastic-FewShot-Test.csv\n",
      "../data/raw/metadata/FungiTastic-FewShot/FungiTastic-FewShot-Train.csv\n",
      "../data/raw/metadata/FungiTastic-FewShot/FungiTastic-FewShot-Val.csv\n"
     ]
    },
    {
     "name": "stdout",
     "output_type": "stream",
     "text": [
      "train\t7819\n",
      "val\t2285\n",
      "test\t1911\n"
     ]
    }
   ],
   "source": [
    "root = \"../data/raw\"\n",
    "# skip the header when counting\n",
    "! ls {root}/metadata/*/*.csv\n",
    "! printf \"train\\t\"; cat {root}/metadata/*/*-Train.csv | tail -n +2 | wc -l\n",
    "! printf \"val\\t\"; cat {root}/metadata/*/*-Val.csv | tail -n +2 | wc -l\n",
    "! printf \"test\\t\"; cat {root}/metadata/*/*-Test.csv | tail -n +2 | wc -l"
   ]
  },
  {
   "cell_type": "code",
   "execution_count": 21,
   "id": "8f1f3c35",
   "metadata": {},
   "outputs": [
    {
     "data": {
      "text/html": [
       "<div>\n",
       "<style scoped>\n",
       "    .dataframe tbody tr th:only-of-type {\n",
       "        vertical-align: middle;\n",
       "    }\n",
       "\n",
       "    .dataframe tbody tr th {\n",
       "        vertical-align: top;\n",
       "    }\n",
       "\n",
       "    .dataframe thead th {\n",
       "        text-align: right;\n",
       "    }\n",
       "</style>\n",
       "<table border=\"1\" class=\"dataframe\">\n",
       "  <thead>\n",
       "    <tr style=\"text-align: right;\">\n",
       "      <th></th>\n",
       "      <th>eventDate</th>\n",
       "      <th>year</th>\n",
       "      <th>month</th>\n",
       "      <th>day</th>\n",
       "      <th>habitat</th>\n",
       "      <th>countryCode</th>\n",
       "      <th>scientificName</th>\n",
       "      <th>kingdom</th>\n",
       "      <th>phylum</th>\n",
       "      <th>class</th>\n",
       "      <th>...</th>\n",
       "      <th>observationID</th>\n",
       "      <th>region</th>\n",
       "      <th>district</th>\n",
       "      <th>filename</th>\n",
       "      <th>category_id</th>\n",
       "      <th>metaSubstrate</th>\n",
       "      <th>poisonous</th>\n",
       "      <th>elevation</th>\n",
       "      <th>landcover</th>\n",
       "      <th>biogeographicalRegion</th>\n",
       "    </tr>\n",
       "  </thead>\n",
       "  <tbody>\n",
       "    <tr>\n",
       "      <th>0</th>\n",
       "      <td>2021-01-24</td>\n",
       "      <td>2021</td>\n",
       "      <td>1.0</td>\n",
       "      <td>24.0</td>\n",
       "      <td>Mixed woodland (with coniferous and deciduous ...</td>\n",
       "      <td>DK</td>\n",
       "      <td>Xylohypha ferruginosa (Corda) S.Hughes</td>\n",
       "      <td>Fungi</td>\n",
       "      <td>Ascomycota</td>\n",
       "      <td>Eurotiomycetes</td>\n",
       "      <td>...</td>\n",
       "      <td>3052832307</td>\n",
       "      <td>Sjælland</td>\n",
       "      <td>Næstved</td>\n",
       "      <td>0-3052832307.JPG</td>\n",
       "      <td>2421</td>\n",
       "      <td>wood</td>\n",
       "      <td>0</td>\n",
       "      <td>0.0</td>\n",
       "      <td>16.0</td>\n",
       "      <td>continental</td>\n",
       "    </tr>\n",
       "    <tr>\n",
       "      <th>1</th>\n",
       "      <td>2021-02-27</td>\n",
       "      <td>2021</td>\n",
       "      <td>2.0</td>\n",
       "      <td>27.0</td>\n",
       "      <td>garden</td>\n",
       "      <td>DK</td>\n",
       "      <td>Comatricha alta Preuss, 1851</td>\n",
       "      <td>Protozoa</td>\n",
       "      <td>Mycetozoa</td>\n",
       "      <td>Myxomycetes</td>\n",
       "      <td>...</td>\n",
       "      <td>3061954303</td>\n",
       "      <td>Hovedstaden</td>\n",
       "      <td>Gribskov</td>\n",
       "      <td>0-3061954303.JPG</td>\n",
       "      <td>386</td>\n",
       "      <td>wood</td>\n",
       "      <td>0</td>\n",
       "      <td>0.0</td>\n",
       "      <td>17.0</td>\n",
       "      <td>continental</td>\n",
       "    </tr>\n",
       "    <tr>\n",
       "      <th>2</th>\n",
       "      <td>2021-02-27</td>\n",
       "      <td>2021</td>\n",
       "      <td>2.0</td>\n",
       "      <td>27.0</td>\n",
       "      <td>garden</td>\n",
       "      <td>DK</td>\n",
       "      <td>Comatricha alta Preuss, 1851</td>\n",
       "      <td>Protozoa</td>\n",
       "      <td>Mycetozoa</td>\n",
       "      <td>Myxomycetes</td>\n",
       "      <td>...</td>\n",
       "      <td>3061954303</td>\n",
       "      <td>Hovedstaden</td>\n",
       "      <td>Gribskov</td>\n",
       "      <td>1-3061954303.JPG</td>\n",
       "      <td>386</td>\n",
       "      <td>wood</td>\n",
       "      <td>0</td>\n",
       "      <td>0.0</td>\n",
       "      <td>17.0</td>\n",
       "      <td>continental</td>\n",
       "    </tr>\n",
       "  </tbody>\n",
       "</table>\n",
       "<p>3 rows × 31 columns</p>\n",
       "</div>"
      ],
      "text/plain": [
       "    eventDate  year  month   day  \\\n",
       "0  2021-01-24  2021    1.0  24.0   \n",
       "1  2021-02-27  2021    2.0  27.0   \n",
       "2  2021-02-27  2021    2.0  27.0   \n",
       "\n",
       "                                             habitat countryCode  \\\n",
       "0  Mixed woodland (with coniferous and deciduous ...          DK   \n",
       "1                                             garden          DK   \n",
       "2                                             garden          DK   \n",
       "\n",
       "                           scientificName   kingdom      phylum  \\\n",
       "0  Xylohypha ferruginosa (Corda) S.Hughes     Fungi  Ascomycota   \n",
       "1            Comatricha alta Preuss, 1851  Protozoa   Mycetozoa   \n",
       "2            Comatricha alta Preuss, 1851  Protozoa   Mycetozoa   \n",
       "\n",
       "            class  ... observationID       region  district          filename  \\\n",
       "0  Eurotiomycetes  ...    3052832307     Sjælland   Næstved  0-3052832307.JPG   \n",
       "1     Myxomycetes  ...    3061954303  Hovedstaden  Gribskov  0-3061954303.JPG   \n",
       "2     Myxomycetes  ...    3061954303  Hovedstaden  Gribskov  1-3061954303.JPG   \n",
       "\n",
       "   category_id metaSubstrate poisonous elevation  landcover  \\\n",
       "0         2421          wood         0       0.0       16.0   \n",
       "1          386          wood         0       0.0       17.0   \n",
       "2          386          wood         0       0.0       17.0   \n",
       "\n",
       "   biogeographicalRegion  \n",
       "0            continental  \n",
       "1            continental  \n",
       "2            continental  \n",
       "\n",
       "[3 rows x 31 columns]"
      ]
     },
     "metadata": {},
     "output_type": "display_data"
    },
    {
     "data": {
      "text/plain": [
       "Index(['eventDate', 'year', 'month', 'day', 'habitat', 'countryCode',\n",
       "       'scientificName', 'kingdom', 'phylum', 'class', 'order', 'family',\n",
       "       'genus', 'specificEpithet', 'hasCoordinate', 'species',\n",
       "       'iucnRedListCategory', 'substrate', 'latitude', 'longitude',\n",
       "       'coorUncert', 'observationID', 'region', 'district', 'filename',\n",
       "       'category_id', 'metaSubstrate', 'poisonous', 'elevation', 'landcover',\n",
       "       'biogeographicalRegion'],\n",
       "      dtype='object')"
      ]
     },
     "metadata": {},
     "output_type": "display_data"
    }
   ],
   "source": [
    "import pandas as pd\n",
    "\n",
    "train_df = pd.read_csv(\n",
    "    f\"{root}/metadata/FungiTastic-FewShot/FungiTastic-FewShot-Train.csv\"\n",
    ")\n",
    "display(train_df.head(3))\n",
    "# now to find the fields that we care about overall\n",
    "display(train_df.columns)"
   ]
  },
  {
   "cell_type": "code",
   "execution_count": 26,
   "id": "c3299084",
   "metadata": {},
   "outputs": [
    {
     "name": "stdout",
     "output_type": "stream",
     "text": [
      "scientificName: 2427 unique values\n",
      "kingdom: 3 unique values\n",
      "phylum: 11 unique values\n",
      "class: 32 unique values\n",
      "order: 123 unique values\n",
      "family: 364 unique values\n",
      "genus: 1014 unique values\n",
      "specificEpithet: 2158 unique values\n"
     ]
    },
    {
     "data": {
      "text/plain": [
       "array(['Fungi', 'Protozoa', 'Chromista'], dtype=object)"
      ]
     },
     "execution_count": 26,
     "metadata": {},
     "output_type": "execute_result"
    }
   ],
   "source": [
    "df = train_df\n",
    "for col in [\n",
    "    \"scientificName\",\n",
    "    \"kingdom\",\n",
    "    \"phylum\",\n",
    "    \"class\",\n",
    "    \"order\",\n",
    "    \"family\",\n",
    "    \"genus\",\n",
    "    \"specificEpithet\",\n",
    "]:\n",
    "    # lower the column and then count uniques\n",
    "    count = df[col].str.lower().nunique()\n",
    "    print(f\"{col}: {count} unique values\")\n",
    "\n",
    "# show all the unique kingdoms\n",
    "df[\"kingdom\"].unique()"
   ]
  }
 ],
 "metadata": {
  "kernelspec": {
   "display_name": ".venv",
   "language": "python",
   "name": "python3"
  },
  "language_info": {
   "codemirror_mode": {
    "name": "ipython",
    "version": 3
   },
   "file_extension": ".py",
   "mimetype": "text/x-python",
   "name": "python",
   "nbconvert_exporter": "python",
   "pygments_lexer": "ipython3",
   "version": "3.10.16"
  }
 },
 "nbformat": 4,
 "nbformat_minor": 5
}
