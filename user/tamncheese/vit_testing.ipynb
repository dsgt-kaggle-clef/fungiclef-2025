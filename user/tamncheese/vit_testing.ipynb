{
 "cells": [
  {
   "metadata": {},
   "cell_type": "markdown",
   "source": "<h1>VIT Testing - tamncheese Jason Kahei Tam<h1>\n",
   "id": "af4c364ffebcfe5b"
  },
  {
   "metadata": {},
   "cell_type": "markdown",
   "source": "Import",
   "id": "eca7defede071a58"
  },
  {
   "metadata": {
    "ExecuteTime": {
     "end_time": "2025-02-10T23:47:33.437879Z",
     "start_time": "2025-02-10T23:47:11.491089Z"
    }
   },
   "cell_type": "code",
   "source": [
    "import torch\n",
    "import torch.nn as nn\n",
    "import os\n",
    "from torch.utils.data import DataLoader, Dataset\n",
    "from transformers import ViTImageProcessor, ViTForImageClassification, AutoFeatureExtractor, AutoModel, \\\n",
    "    AutoModelForImageClassification, AutoImageProcessor\n",
    "import matplotlib.pyplot as plt\n",
    "from PIL import Image\n",
    "import cv2\n",
    "import numpy as np\n",
    "from torchvision import datasets, transforms\n",
    "import pandas as pd\n"
   ],
   "id": "febbe56870545ec",
   "outputs": [
    {
     "name": "stderr",
     "output_type": "stream",
     "text": [
      "C:\\Users\\jason\\Documents\\OMSCS\\DSGT\\.venv\\Lib\\site-packages\\tqdm\\auto.py:21: TqdmWarning: IProgress not found. Please update jupyter and ipywidgets. See https://ipywidgets.readthedocs.io/en/stable/user_install.html\n",
      "  from .autonotebook import tqdm as notebook_tqdm\n"
     ]
    }
   ],
   "execution_count": 2
  },
  {
   "metadata": {},
   "cell_type": "markdown",
   "source": "CPU or CUDA\n",
   "id": "35bd5e1636bcf9ce"
  },
  {
   "metadata": {
    "ExecuteTime": {
     "end_time": "2025-02-10T23:47:33.452567Z",
     "start_time": "2025-02-10T23:47:33.443074Z"
    }
   },
   "cell_type": "code",
   "source": [
    "device = torch.device('cuda' if torch.cuda.is_available() else 'cpu')\n",
    "device"
   ],
   "id": "700d4098397b710d",
   "outputs": [
    {
     "data": {
      "text/plain": [
       "device(type='cpu')"
      ]
     },
     "execution_count": 3,
     "metadata": {},
     "output_type": "execute_result"
    }
   ],
   "execution_count": 3
  },
  {
   "metadata": {},
   "cell_type": "markdown",
   "source": "Prepare Dataset",
   "id": "57f6946ff5c956d9"
  },
  {
   "metadata": {
    "ExecuteTime": {
     "end_time": "2025-02-10T23:47:33.526113Z",
     "start_time": "2025-02-10T23:47:33.513153Z"
    }
   },
   "cell_type": "code",
   "source": [
    "file_list = []\n",
    "for root, dirs, files, in os.walk(\"training\"):\n",
    "    for file in files:\n",
    "        file_list.append(file)\n",
    "file_list\n",
    "\n",
    "train_df = pd.read_csv(\"training.csv\")"
   ],
   "id": "8eab09158622b64e",
   "outputs": [],
   "execution_count": 4
  },
  {
   "metadata": {
    "ExecuteTime": {
     "end_time": "2025-02-10T23:47:33.548306Z",
     "start_time": "2025-02-10T23:47:33.542175Z"
    }
   },
   "cell_type": "code",
   "source": [
    "\n",
    "\n",
    "class FungiDataset(Dataset):\n",
    "    def __init__(self, df, extractor, img_dir, transform = None):\n",
    "        self.df = df\n",
    "        self.transform = transform\n",
    "        self.img_dir = img_dir\n",
    "        self.extractor = extractor\n",
    "\n",
    "    def __len__(self):\n",
    "        return len(self.df)\n",
    "\n",
    "    def __getitem__(self, idx):\n",
    "        img_path = os.path.join(self.img_dir, self.df.iloc[idx][\"image_path\"])\n",
    "        label = self.df.iloc[idx][\"poisonous\"]\n",
    "        # print(img_path)\n",
    "        image = Image.open(img_path).convert('RGB')\n",
    "\n",
    "        if self.transform:\n",
    "            image = self.transform(image)\n",
    "\n",
    "        image = self.extractor(images=image, return_tensors=\"pt\")[\"pixel_values\"].squeeze(0)\n",
    "        return image, torch.tensor(label, dtype = torch.long)\n",
    "\n"
   ],
   "id": "3c6be050c33587a1",
   "outputs": [],
   "execution_count": 5
  },
  {
   "metadata": {},
   "cell_type": "markdown",
   "source": "Configure DINOv2\n",
   "id": "3e493712d773ec43"
  },
  {
   "metadata": {
    "ExecuteTime": {
     "end_time": "2025-02-10T23:47:34.001157Z",
     "start_time": "2025-02-10T23:47:33.562453Z"
    }
   },
   "cell_type": "code",
   "source": [
    "extractor = AutoImageProcessor.from_pretrained(\"facebook/dinov2-base\")\n",
    "model = AutoModelForImageClassification.from_pretrained('facebook/dinov2-base', num_labels=2)"
   ],
   "id": "ae2cfbd626deee0c",
   "outputs": [
    {
     "name": "stderr",
     "output_type": "stream",
     "text": [
      "Using a slow image processor as `use_fast` is unset and a slow processor was saved with this model. `use_fast=True` will be the default behavior in v4.48, even if the model was saved with a slow processor. This will result in minor differences in outputs. You'll still be able to use a slow processor with `use_fast=False`.\n",
      "Some weights of Dinov2ForImageClassification were not initialized from the model checkpoint at facebook/dinov2-base and are newly initialized: ['classifier.bias', 'classifier.weight']\n",
      "You should probably TRAIN this model on a down-stream task to be able to use it for predictions and inference.\n"
     ]
    }
   ],
   "execution_count": 6
  },
  {
   "metadata": {},
   "cell_type": "markdown",
   "source": "Load Data\n",
   "id": "65a4e270a32b844d"
  },
  {
   "metadata": {
    "ExecuteTime": {
     "end_time": "2025-02-10T23:47:34.023387Z",
     "start_time": "2025-02-10T23:47:34.019217Z"
    }
   },
   "cell_type": "code",
   "source": [
    "img_dir = \"training\"\n",
    "train_dataset = FungiDataset(train_df, extractor, img_dir)\n",
    "train_loader = DataLoader(train_dataset, batch_size=64, shuffle=True)"
   ],
   "id": "683f1a79e46a1816",
   "outputs": [],
   "execution_count": 7
  },
  {
   "metadata": {},
   "cell_type": "markdown",
   "source": "Train the Model\n",
   "id": "2eccebcdd27a55d9"
  },
  {
   "metadata": {
    "ExecuteTime": {
     "end_time": "2025-02-10T23:49:30.332011Z",
     "start_time": "2025-02-10T23:47:34.041136Z"
    }
   },
   "cell_type": "code",
   "source": [
    "optimizer = torch.optim.Adam(model.parameters(), lr = 0.00001)\n",
    "criterion = nn.CrossEntropyLoss()\n",
    "\n",
    "epochs = 10\n",
    "for epoch in range(epochs):\n",
    "    print(f\"Epoch {epoch + 1}/{epochs}\")\n",
    "\n",
    "    model.train()\n",
    "    train_loss = 0\n",
    "    for images, labels in train_loader:\n",
    "        images, labels = images.to(device), labels.to(device)\n",
    "\n",
    "        optimizer.zero_grad()\n",
    "        outputs = model(images).logits\n",
    "        loss = criterion(outputs, labels)\n",
    "        loss.backward()\n",
    "        optimizer.step()\n",
    "\n",
    "        train_loss += loss.item()\n",
    "    avg_train_loss = train_loss / len(train_loader)\n",
    "    print(f\"Training Loss: {avg_train_loss} for epoch {epoch + 1}/{epochs}\")\n",
    "\n"
   ],
   "id": "7e2e139d7b1e3cff",
   "outputs": [
    {
     "name": "stdout",
     "output_type": "stream",
     "text": [
      "Epoch 1/10\n",
      "Training Loss: 1.0184929370880127 for epoch 1/10\n",
      "Epoch 2/10\n",
      "Training Loss: 0.17603765428066254 for epoch 2/10\n",
      "Epoch 3/10\n",
      "Training Loss: 0.09964486956596375 for epoch 3/10\n",
      "Epoch 4/10\n",
      "Training Loss: 0.021811870858073235 for epoch 4/10\n",
      "Epoch 5/10\n",
      "Training Loss: 0.003398667089641094 for epoch 5/10\n",
      "Epoch 6/10\n",
      "Training Loss: 0.0008448290172964334 for epoch 6/10\n",
      "Epoch 7/10\n",
      "Training Loss: 0.000329566013533622 for epoch 7/10\n",
      "Epoch 8/10\n",
      "Training Loss: 0.00017590999777894467 for epoch 8/10\n",
      "Epoch 9/10\n",
      "Training Loss: 0.00011596946569625288 for epoch 9/10\n",
      "Epoch 10/10\n",
      "Training Loss: 8.796634938335046e-05 for epoch 10/10\n"
     ]
    }
   ],
   "execution_count": 8
  }
 ],
 "metadata": {
  "kernelspec": {
   "display_name": "Python 3",
   "language": "python",
   "name": "python3"
  },
  "language_info": {
   "codemirror_mode": {
    "name": "ipython",
    "version": 2
   },
   "file_extension": ".py",
   "mimetype": "text/x-python",
   "name": "python",
   "nbconvert_exporter": "python",
   "pygments_lexer": "ipython2",
   "version": "2.7.6"
  }
 },
 "nbformat": 4,
 "nbformat_minor": 5
}
